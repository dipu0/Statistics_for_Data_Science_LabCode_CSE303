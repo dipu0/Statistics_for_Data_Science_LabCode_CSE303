{
 "cells": [
  {
   "cell_type": "markdown",
   "id": "c64ebee3",
   "metadata": {},
   "source": [
    "<br>\n",
    "<div style=\"font-style: bold; text-align: center;\">\n",
    "<img src=\"https://www.ewubd.edu/themes/east-west-university/assets/default/images/logo.png\" alt=\"ERROR\" title=\"EWULOGO\" width=\":5.72917in\"/><br>Department of Computer Science & Engineering\n",
    "<br><br><br>\n",
    "</div>\n",
    "<br><br>\n",
    "<div style=\"font-style:underline; text-align: center;\" markdown=\"1\">\n",
    "\n",
    "# Lab Report – 5\n",
    "<br><br>\n",
    "<br><br>\n",
    "\n",
    "</div>\n",
    "\n",
    "\n",
    "<div style=\"font-style: bold; text-align: left;\" markdown=\"1\">\n",
    "\n",
    "## Semester : Spring 2022\n",
    "\n",
    "## Course Number : CSE303\n",
    "\n",
    "## Course Title : Statistics for Data Science\n",
    "\n",
    "## Course Instructor : Md Al-Imran\n",
    "\n",
    "<br><br>\n",
    "<br><br>\n",
    "<br><br>\n",
    "<br><br>\n",
    "\n",
    "## > student ID: 2019-1-60-093\n",
    "## > Student Name: Md. Asad Chowdhury Dipu\n",
    "## > Section: 03\n",
    "## > Date Of Submission: 23/03/2022\n",
    "<br>\n",
    "</div>\n",
    "<br>"
   ]
  },
  {
   "cell_type": "markdown",
   "id": "6a55e89a",
   "metadata": {},
   "source": [
    "# Numpy"
   ]
  },
  {
   "cell_type": "code",
   "execution_count": 3,
   "id": "f03fcc63",
   "metadata": {},
   "outputs": [],
   "source": [
    "import numpy as np"
   ]
  },
  {
   "cell_type": "code",
   "execution_count": 5,
   "id": "774ba176",
   "metadata": {
    "scrolled": true
   },
   "outputs": [
    {
     "name": "stdout",
     "output_type": "stream",
     "text": [
      "[20.1, 20.8, 21.9, 22.5, 22.7, 22.3, 21.8, 21.2, 20.9, 20.1]\n",
      "<class 'list'>\n",
      "[20.1 20.8 21.9 22.5 22.7 22.3 21.8 21.2 20.9 20.1]\n",
      "<class 'numpy.ndarray'>\n"
     ]
    }
   ],
   "source": [
    "# create a Python list of temperature in degree celcius\n",
    "cvalues = [20.1, 20.8, 21.9, 22.5, 22.7, 22.3, 21.8, 21.2, 20.9, 20.1]\n",
    "\n",
    "# converting this list into one-dimensional Numpy array\n",
    "C = np.array(cvalues)\n",
    "\n",
    "print(cvalues)\n",
    "print(type(cvalues))\n",
    "print(C)\n",
    "print(type(C))"
   ]
  },
  {
   "cell_type": "markdown",
   "id": "09efdaf3",
   "metadata": {},
   "source": [
    "# Element-wise Operations in Numpy"
   ]
  },
  {
   "cell_type": "code",
   "execution_count": 6,
   "id": "76962e18",
   "metadata": {},
   "outputs": [
    {
     "name": "stdout",
     "output_type": "stream",
     "text": [
      "[68.18 69.44 71.42 72.5  72.86 72.14 71.24 70.16 69.62 68.18]\n",
      "[[1 2 3]\n",
      " [4 5 6]]\n",
      "(2, 3)\n",
      "[[ 7  8  9]\n",
      " [10 11 12]]\n",
      "(2, 3)\n",
      "[[ 8 10 12]\n",
      " [14 16 18]]\n",
      "(2, 3)\n"
     ]
    }
   ],
   "source": [
    "F = C * 9/5 + 32\n",
    "print(F)\n",
    "\n",
    "# A few other examples of scalar operations\n",
    "A = np.array([[1,2,3],[4,5,6]])\n",
    "print(A)\n",
    "print(A.shape)\n",
    "\n",
    "B = np.array([[7,8,9],[10,11,12]])\n",
    "print(B)\n",
    "print(B.shape)\n",
    "\n",
    "C = A + B\n",
    "print(C)\n",
    "print(C.shape)"
   ]
  },
  {
   "cell_type": "markdown",
   "id": "92cd5510",
   "metadata": {},
   "source": [
    "# Array Indexing"
   ]
  },
  {
   "cell_type": "code",
   "execution_count": 8,
   "id": "49d65ffe",
   "metadata": {},
   "outputs": [
    {
     "name": "stdout",
     "output_type": "stream",
     "text": [
      "[[ 1  2]\n",
      " [ 5  6]\n",
      " [ 9 10]]\n",
      "1\n",
      "[[ 1  2  3  4]\n",
      " [ 5  6  7  8]\n",
      " [ 9 10 11 12]]\n"
     ]
    }
   ],
   "source": [
    "a = np.array([[1,2,3,4], [5,6,7,8], [9,10,11,12]])\n",
    "b = a[:,0:2]\n",
    "\n",
    "print(b)\n",
    "print(a[0,0])\n",
    "print(a)"
   ]
  },
  {
   "cell_type": "markdown",
   "id": "de7b64fd",
   "metadata": {},
   "source": [
    "# Boolean Array Indexing"
   ]
  },
  {
   "cell_type": "code",
   "execution_count": 9,
   "id": "a284131a",
   "metadata": {},
   "outputs": [
    {
     "name": "stdout",
     "output_type": "stream",
     "text": [
      "[[False False]\n",
      " [ True  True]\n",
      " [ True  True]]\n",
      "[3 4 5 6]\n",
      "[3 4 5 6]\n"
     ]
    }
   ],
   "source": [
    "a = np.array([[1,2], [3, 4], [5, 6]])\n",
    "\n",
    "bool_idx = (a > 2)\n",
    "\n",
    "print(bool_idx)\n",
    "print(a[bool_idx])\n",
    "\n",
    "# We can do all of the above in a single concise statement:\n",
    "print(a[a > 2]) # Prints \"[3 4 5 6]\""
   ]
  },
  {
   "cell_type": "markdown",
   "id": "d4ecf86d",
   "metadata": {},
   "source": [
    "# Numpy Simple Math"
   ]
  },
  {
   "cell_type": "code",
   "execution_count": 11,
   "id": "ca156c01",
   "metadata": {},
   "outputs": [
    {
     "name": "stdout",
     "output_type": "stream",
     "text": [
      "[[ 6.  8.]\n",
      " [10. 12.]]\n",
      "[[ 6.  8.]\n",
      " [10. 12.]]\n",
      "[[-4. -4.]\n",
      " [-4. -4.]]\n",
      "[[-4. -4.]\n",
      " [-4. -4.]]\n",
      "[[ 5. 12.]\n",
      " [21. 32.]]\n",
      "[[ 5. 12.]\n",
      " [21. 32.]]\n",
      "[[0.2        0.33333333]\n",
      " [0.42857143 0.5       ]]\n",
      "[[0.2        0.33333333]\n",
      " [0.42857143 0.5       ]]\n",
      "[[1.         1.41421356]\n",
      " [1.73205081 2.        ]]\n"
     ]
    }
   ],
   "source": [
    "x = np.array([[1,2],[3,4]], dtype=np.float64)\n",
    "y = np.array([[5,6],[7,8]], dtype=np.float64)\n",
    "\n",
    "# Elementwise sum\n",
    "print(x + y)\n",
    "print(np.add(x, y))\n",
    "\n",
    "# Elementwise difference\n",
    "print(x - y)\n",
    "print(np.subtract(x, y))\n",
    "\n",
    "# Elementwise product\n",
    "print(x * y)\n",
    "print(np.multiply(x, y))\n",
    "\n",
    "# Elementwise division\n",
    "print(x / y)\n",
    "print(np.divide(x, y))\n",
    "\n",
    "# Elementwise square root\n",
    "print(np.sqrt(x))"
   ]
  },
  {
   "cell_type": "markdown",
   "id": "e723af74",
   "metadata": {},
   "source": [
    "# Numpy Dot product and Vector and Matrix Multiplication"
   ]
  },
  {
   "cell_type": "code",
   "execution_count": 13,
   "id": "51204e75",
   "metadata": {},
   "outputs": [
    {
     "name": "stdout",
     "output_type": "stream",
     "text": [
      "219\n",
      "219\n",
      "[29. 67.]\n",
      "[29. 67.]\n",
      "[[19. 22.]\n",
      " [43. 50.]]\n",
      "[[19. 22.]\n",
      " [43. 50.]]\n"
     ]
    }
   ],
   "source": [
    "x = np.array([[1,2],[3,4]], dtype=np.float64)\n",
    "y = np.array([[5,6],[7,8]], dtype=np.float64)\n",
    "\n",
    "v = np.array([9,10])\n",
    "w = np.array([11, 12])\n",
    "\n",
    "# Inner product of vectors\n",
    "print(v.dot(w))\n",
    "print(np.dot(v, w))\n",
    "\n",
    "# Matrix / vector product\n",
    "print(x.dot(v))\n",
    "print(np.dot(x, v))\n",
    "\n",
    "# Matrix / matrix product\n",
    "print(x.dot(y))\n",
    "print(np.dot(x, y))"
   ]
  },
  {
   "cell_type": "markdown",
   "id": "920fbe5e",
   "metadata": {},
   "source": [
    "# Numpy Mathematical Functions"
   ]
  },
  {
   "cell_type": "code",
   "execution_count": 15,
   "id": "06d0b6ed",
   "metadata": {},
   "outputs": [
    {
     "name": "stdout",
     "output_type": "stream",
     "text": [
      "10\n",
      "[4 6]\n",
      "[3 7]\n"
     ]
    }
   ],
   "source": [
    "x = np.array([[1,2],[3,4]])\n",
    "\n",
    "print(np.sum(x)) # Compute sum of all elements\n",
    "print(np.sum(x, axis=0)) # Compute sum of each column\n",
    "print(np.sum(x, axis=1)) # Compute sum of each row"
   ]
  },
  {
   "cell_type": "markdown",
   "id": "de443879",
   "metadata": {},
   "source": [
    "# Numpy Statistical Functions"
   ]
  },
  {
   "cell_type": "code",
   "execution_count": 17,
   "id": "a36c2854",
   "metadata": {},
   "outputs": [
    {
     "name": "stdout",
     "output_type": "stream",
     "text": [
      "0.5\n",
      "[[0 1]\n",
      " [2 3]\n",
      " [4 5]]\n",
      "[2. 3.]\n",
      "[0.5 2.5 4.5]\n"
     ]
    }
   ],
   "source": [
    "data1 = np.arange(1.5)\n",
    "print(np.average(data1))\n",
    "\n",
    "data2 = np.arange(6).reshape(3,2)\n",
    "print(data2)\n",
    "print(np.average(data2, axis = 0))\n",
    "print(np.average(data2, axis = 1))"
   ]
  },
  {
   "cell_type": "markdown",
   "id": "4a64e985",
   "metadata": {},
   "source": [
    "# Broadcasting"
   ]
  },
  {
   "cell_type": "code",
   "execution_count": 19,
   "id": "eb3ac041",
   "metadata": {},
   "outputs": [],
   "source": [
    "x = np.array([[1,2,3], [4,5,6], [7,8,9], [10, 11, 12]])\n",
    "v = np.array([1, 0, 1])\n",
    "y = np.empty_like(x)\n",
    "\n",
    "# Add the vector v to each row of the matrix x with an explicit loop\n",
    "for i in range(4):\n",
    "    y[i, :] = x[i, :] + v"
   ]
  },
  {
   "cell_type": "code",
   "execution_count": 20,
   "id": "0425cb3c",
   "metadata": {},
   "outputs": [
    {
     "name": "stdout",
     "output_type": "stream",
     "text": [
      "[[ 2  2  4]\n",
      " [ 5  5  7]\n",
      " [ 8  8 10]\n",
      " [11 11 13]]\n"
     ]
    }
   ],
   "source": [
    "x = np.array([[1,2,3], [4,5,6], [7,8,9], [10, 11, 12]])\n",
    "v = np.array([1, 0, 1])\n",
    "vv = np.tile(v, (4, 1))\n",
    "y = x + vv\n",
    "print(y)"
   ]
  },
  {
   "cell_type": "code",
   "execution_count": 21,
   "id": "24536d3a",
   "metadata": {},
   "outputs": [
    {
     "name": "stdout",
     "output_type": "stream",
     "text": [
      "[[ 2  2  4]\n",
      " [ 5  5  7]\n",
      " [ 8  8 10]\n",
      " [11 11 13]]\n"
     ]
    }
   ],
   "source": [
    "x = np.array([[1,2,3], [4,5,6], [7,8,9], [10, 11, 12]])\n",
    "v = np.array([1, 0, 1])\n",
    "y = x + v # Add v to each row of x using broadcasting\n",
    "print(y)"
   ]
  },
  {
   "cell_type": "markdown",
   "id": "24893601",
   "metadata": {},
   "source": [
    "# Some special Numpy Arrays"
   ]
  },
  {
   "cell_type": "code",
   "execution_count": 22,
   "id": "fd8870c0",
   "metadata": {},
   "outputs": [],
   "source": [
    "np.zeros(5)\n",
    "np.zeros((2,3))\n",
    "np.random.rand(2,3)\n",
    "np.full((2,2),7)\n",
    "np.eye(3)\n",
    "np.arange(2,10,2)\n",
    "np.linspace(0,1,5)\n",
    "\n",
    "a = np.array([3,6,9,12])\n",
    "np.reshape(a,(2,2))\n",
    "\n",
    "a = np.ones((2,2))\n",
    "b = a.flatten()\n",
    "\n",
    "a = np.array([[1,2,3],[4,5,6]])\n",
    "b = np.transpose(a)"
   ]
  },
  {
   "cell_type": "markdown",
   "id": "8e42af7e",
   "metadata": {},
   "source": [
    "# Basic Plotting"
   ]
  },
  {
   "cell_type": "code",
   "execution_count": 23,
   "id": "9fa217ce",
   "metadata": {},
   "outputs": [],
   "source": [
    "import matplotlib.pyplot as plt"
   ]
  },
  {
   "cell_type": "code",
   "execution_count": 25,
   "id": "8cb58cf7",
   "metadata": {},
   "outputs": [
    {
     "data": {
      "image/png": "[encoded data removed]",
      "text/plain": [
       "<Figure size 432x288 with 1 Axes>"
      ]
     },
     "metadata": {
      "needs_background": "light"
     },
     "output_type": "display_data"
    }
   ],
   "source": [
    "# x axis values\n",
    "x = np.array([1,2,3])\n",
    "\n",
    "# corresponding y axis values\n",
    "y = np.array([2,4,1])\n",
    "\n",
    "# plotting the points\n",
    "plt.plot(x, y)\n",
    "\n",
    "# naming the x axis\n",
    "plt.xlabel('x - axis')\n",
    "\n",
    "# naming the y axis\n",
    "plt.ylabel('y - axis')\n",
    "\n",
    "# giving a title to my graph\n",
    "plt.title('My first graph!')\n",
    "\n",
    "# function to show the plot\n",
    "plt.show()"
   ]
  },
  {
   "cell_type": "code",
   "execution_count": 27,
   "id": "501814f3",
   "metadata": {},
   "outputs": [],
   "source": [
    "import matplotlib.pyplot as plt"
   ]
  },
  {
   "cell_type": "code",
   "execution_count": 30,
   "id": "5d041234",
   "metadata": {},
   "outputs": [
    {
     "data": {
      "image/png": "[encoded data removed]",
      "text/plain": [
       "<Figure size 432x288 with 1 Axes>"
      ]
     },
     "metadata": {
      "needs_background": "light"
     },
     "output_type": "display_data"
    }
   ],
   "source": [
    "# x-coordinates of left sides of bars\n",
    "left = [1, 2, 3, 4, 5]\n",
    "\n",
    "# heights of bars\n",
    "height = [10, 24, 36, 40, 5]\n",
    "\n",
    "# labels for bars\n",
    "tick_label = ['one', 'two', 'three', 'four', 'five']\n",
    "\n",
    "# plotting a bar chart\n",
    "plt.bar(left, height, tick_label = tick_label, width = 0.8, color = ['red', 'green'])\n",
    "\n",
    "# naming the x-axis\n",
    "plt.xlabel('x - axis')\n",
    "\n",
    "# naming the y-axis\n",
    "plt.ylabel('y - axis')\n",
    "\n",
    "# plot title\n",
    "plt.title('My bar chart!')\n",
    "\n",
    "# function to show the plot\n",
    "plt.show()"
   ]
  }
 ],
 "metadata": {
  "kernelspec": {
   "display_name": "Python 3",
   "language": "python",
   "name": "python3"
  },
  "language_info": {
   "codemirror_mode": {
    "name": "ipython",
    "version": 3
   },
   "file_extension": ".py",
   "mimetype": "text/x-python",
   "name": "python",
   "nbconvert_exporter": "python",
   "pygments_lexer": "ipython3",
   "version": "3.8.8"
  }
 },
 "nbformat": 4,
 "nbformat_minor": 5
}
