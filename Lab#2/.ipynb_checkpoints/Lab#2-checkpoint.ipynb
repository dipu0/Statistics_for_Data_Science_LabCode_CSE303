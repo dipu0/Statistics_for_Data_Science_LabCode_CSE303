{
 "cells": [
  {
   "cell_type": "code",
   "execution_count": 25,
   "id": "9464c6b2",
   "metadata": {},
   "outputs": [],
   "source": [
    "# Creating the class\n",
    "class Pet(object):\n",
    "    def __init__(self, species, name):\n",
    "        self.species = species\n",
    "        self.name = name\n",
    "        "
   ]
  },
  {
   "cell_type": "code",
   "execution_count": 26,
   "id": "c5894585",
   "metadata": {},
   "outputs": [
    {
     "name": "stdout",
     "output_type": "stream",
     "text": [
      "<__main__.Pet object at 0x000001C0C3099820>\n",
      "Scooby\n"
     ]
    }
   ],
   "source": [
    "# Creating an instance of a class\n",
    "my_dog = Pet(species=\"dog\",\n",
    "    name=\"Scooby\")\n",
    "\n",
    "print (my_dog)\n",
    "print (my_dog.name)"
   ]
  },
  {
   "cell_type": "code",
   "execution_count": 27,
   "id": "d50905c4",
   "metadata": {},
   "outputs": [],
   "source": [
    "# Creating the class\n",
    "class Pet(object):\n",
    "    def __init__(self, species, name):\n",
    "        self.species = species\n",
    "        self.name = name\n",
    "    def __str__(self):\n",
    "        return f\"{self.species} named {self.name}\""
   ]
  },
  {
   "cell_type": "code",
   "execution_count": 28,
   "id": "9ba06079",
   "metadata": {},
   "outputs": [
    {
     "name": "stdout",
     "output_type": "stream",
     "text": [
      "dog named Scooby\n",
      "Scooby\n"
     ]
    }
   ],
   "source": [
    "# Creating an instance of a class\n",
    "my_dog = Pet(species=\"dog\",\n",
    "    name=\"Scooby\")\n",
    "\n",
    "print (my_dog)\n",
    "print (my_dog.name)"
   ]
  },
  {
   "cell_type": "code",
   "execution_count": 29,
   "id": "1fc0b48a",
   "metadata": {},
   "outputs": [],
   "source": [
    "# Creating the class\n",
    "class Pet(object):\n",
    "    def __init__(self, species, name):\n",
    "        self.species = species\n",
    "        self.name = name\n",
    "    def __str__(self):\n",
    "        return f\"{self.species} named {self.name}\"\n",
    "    def change_name(self, new_name):\n",
    "        self.name = new_name"
   ]
  },
  {
   "cell_type": "code",
   "execution_count": 30,
   "id": "6c5dc31a",
   "metadata": {},
   "outputs": [
    {
     "name": "stdout",
     "output_type": "stream",
     "text": [
      "dog named Scooby\n",
      "Scooby\n"
     ]
    }
   ],
   "source": [
    "# Creating an instance of a class\n",
    "my_dog = Pet(species=\"dog\", name=\"Scooby\")\n",
    "print (my_dog)\n",
    "print (my_dog.name)"
   ]
  },
  {
   "cell_type": "code",
   "execution_count": 31,
   "id": "23b69e3a",
   "metadata": {},
   "outputs": [
    {
     "name": "stdout",
     "output_type": "stream",
     "text": [
      "dog named Scrappy\n",
      "Scrappy\n"
     ]
    }
   ],
   "source": [
    "# Using a class's function\n",
    "my_dog.change_name(new_name=\"Scrappy\")\n",
    "print (my_dog)\n",
    "print (my_dog.name)"
   ]
  },
  {
   "cell_type": "code",
   "execution_count": 32,
   "id": "747f86a5",
   "metadata": {},
   "outputs": [
    {
     "name": "stdout",
     "output_type": "stream",
     "text": [
      "A Great Dane doggo named Scooby\n"
     ]
    }
   ],
   "source": [
    "#Inheritance\n",
    "class Dog(Pet):\n",
    "    def __init__(self, name, breed):\n",
    "        super().__init__(species=\"dog\", name=name)\n",
    "        self.breed = breed\n",
    "    def __str__(self):\n",
    "        return f\"A {self.breed} doggo named {self.name}\"\n",
    "\n",
    "scooby = Dog(breed=\"Great Dane\", name=\"Scooby\")\n",
    "print (scooby)"
   ]
  },
  {
   "cell_type": "code",
   "execution_count": 22,
   "id": "f8f707a9",
   "metadata": {},
   "outputs": [
    {
     "name": "stdout",
     "output_type": "stream",
     "text": [
      "A Great Dane doggo named Scooby Doo\n"
     ]
    }
   ],
   "source": [
    "scooby.change_name(\"Scooby Doo\")\n",
    "print (scooby)"
   ]
  },
  {
   "cell_type": "code",
   "execution_count": 24,
   "id": "b4af664f",
   "metadata": {
    "scrolled": false
   },
   "outputs": [
    {
     "name": "stdout",
     "output_type": "stream",
     "text": [
      "The filtered vowels are:\n",
      "o\n",
      "o\n",
      "o\n"
     ]
    }
   ],
   "source": [
    "def filterVowels(letter):\n",
    "    vowels = ['a', 'e', 'i', 'o', 'u']\n",
    "    if(letter in vowels):\n",
    "        return True\n",
    "    else:\n",
    "        return False\n",
    "letters = \"oop python\"\n",
    "filteredVowels = filter(filterVowels, letters)\n",
    "print('The filtered vowels are:')\n",
    "for vowel in filteredVowels:\n",
    "    print(vowel)"
   ]
  },
  {
   "cell_type": "code",
   "execution_count": null,
   "id": "4acd49c9",
   "metadata": {},
   "outputs": [],
   "source": [
    "# Creating the class\n",
    "class Pet(object):\n",
    "    def __init__(self, species, name):\n",
    "        self.species = species\n",
    "        self.name = name\n",
    "        \n",
    "\n",
    "# Creating an instance of a class\n",
    "my_dog = Pet(species=\"dog\",\n",
    "    name=\"Scooby\")\n",
    "\n",
    "print (my_dog)\n",
    "print (my_dog.name)\n",
    "\n",
    "# Creating the class\n",
    "class Pet(object):\n",
    "    def __init__(self, species, name):\n",
    "        self.species = species\n",
    "        self.name = name\n",
    "    def __str__(self):\n",
    "        return f\"{self.species} named {self.name}\"\n",
    "\n",
    "# Creating an instance of a class\n",
    "my_dog = Pet(species=\"dog\",\n",
    "    name=\"Scooby\")\n",
    "\n",
    "print (my_dog)\n",
    "print (my_dog.name)\n",
    "\n",
    "# Creating the class\n",
    "class Pet(object):\n",
    "    def __init__(self, species, name):\n",
    "        self.species = species\n",
    "        self.name = name\n",
    "    def __str__(self):\n",
    "        return f\"{self.species} named {self.name}\"\n",
    "    def change_name(self, new_name):\n",
    "        self.name = new_name\n",
    "\n",
    "# Creating an instance of a class\n",
    "my_dog = Pet(species=\"dog\", name=\"Scooby\")\n",
    "print (my_dog)\n",
    "print (my_dog.name)\n",
    "\n",
    "# Using a class's function\n",
    "my_dog.change_name(new_name=\"Scrappy\")\n",
    "print (my_dog)\n",
    "print (my_dog.name)\n",
    "\n",
    "#Inheritance\n",
    "class Dog(Pet):\n",
    "    def __init__(self, name, breed):\n",
    "        super().__init__(species=\"dog\", name=name)\n",
    "        self.breed = breed\n",
    "    def __str__(self):\n",
    "        return f\"A {self.breed} doggo named {self.name}\"\n",
    "\n",
    "scooby = Dog(breed=\"Great Dane\", name=\"Scooby\")\n",
    "print (scooby)\n",
    "\n",
    "scooby.change_name(\"Scooby Doo\")\n",
    "print (scooby)\n",
    "\n",
    "def filterVowels(letter):\n",
    "    vowels = ['a', 'e', 'i', 'o', 'u']\n",
    "    if(letter in vowels):\n",
    "        return True\n",
    "    else:\n",
    "        return False\n",
    "letters = \"oop python\"\n",
    "filteredVowels = filter(filterVowels, letters)\n",
    "print('The filtered vowels are:')\n",
    "for vowel in filteredVowels:\n",
    "    print(vowel)"
   ]
  }
 ],
 "metadata": {
  "kernelspec": {
   "display_name": "Python 3",
   "language": "python",
   "name": "python3"
  },
  "language_info": {
   "codemirror_mode": {
    "name": "ipython",
    "version": 3
   },
   "file_extension": ".py",
   "mimetype": "text/x-python",
   "name": "python",
   "nbconvert_exporter": "python",
   "pygments_lexer": "ipython3",
   "version": "3.8.8"
  }
 },
 "nbformat": 4,
 "nbformat_minor": 5
}
