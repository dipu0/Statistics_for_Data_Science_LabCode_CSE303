{
 "cells": [
  {
   "cell_type": "markdown",
   "id": "69744269",
   "metadata": {},
   "source": [
    "<br>\n",
    "<div style=\"font-style: bold; text-align: center;\">\n",
    "<img src=\"https://www.ewubd.edu/themes/east-west-university/assets/default/images/logo.png\" alt=\"ERROR\" title=\"EWULOGO\" width=\":5.72917in\"/><br>Department of Computer Science & Engineering\n",
    "<br><br><br>\n",
    "</div>\n",
    "<br><br>\n",
    "<div style=\"font-style:underline; text-align: center;\" markdown=\"1\">\n",
    "\n",
    "# Lab Report – 2\n",
    "<br><br>\n",
    "<br><br>\n",
    "\n",
    "</div>\n",
    "\n",
    "\n",
    "<div style=\"font-style: bold; text-align: left;\" markdown=\"1\">\n",
    "\n",
    "## Semester : Spring 2022\n",
    "\n",
    "## Course Number : CSE303\n",
    "\n",
    "## Course Title : Statistics for Data Science\n",
    "\n",
    "## Course Instructor : Md Al-Imran\n",
    "\n",
    "<br><br>\n",
    "<br><br>\n",
    "<br><br>\n",
    "<br><br>\n",
    "\n",
    "## > student ID: 2019-1-60-093\n",
    "## > Student Name: Md. Asad Chowdhury Dipu\n",
    "## > Section: 03\n",
    "## > Date Of Submission: 2/03/2022\n",
    "<br>\n",
    "</div>\n",
    "<br>"
   ]
  },
  {
   "cell_type": "code",
   "execution_count": 11,
   "id": "ea16c955",
   "metadata": {},
   "outputs": [
    {
     "name": "stdout",
     "output_type": "stream",
     "text": [
      "What is your name? dIPU\n",
      "What is your age? 21\n",
      "write your greetings: WELCOME\n",
      "Hello, dIPU , Your age is 21, From My Function!, I wish you WELCOME\n",
      "10\n"
     ]
    }
   ],
   "source": [
    "# reading input values from user\n",
    "username = input('What is your name? ')\n",
    "age = int(input('What is your age? '))\n",
    "greeting = input('write your greetings: ')\n",
    "def my_function_with_args(username, age, greeting):\n",
    "    print(\"Hello, %s , Your age is %d, From My Function!, I wish you %s\"%(username, age, greeting))\n",
    "\n",
    "my_function_with_args(username, age, greeting)\n",
    "#Lambda:\n",
    "double = lambda x: x * 2\n",
    "print(double(5))"
   ]
  },
  {
   "cell_type": "code",
   "execution_count": 12,
   "id": "9464c6b2",
   "metadata": {},
   "outputs": [],
   "source": [
    "# Creating the class\n",
    "class Pet(object):\n",
    "    def __init__(self, species, name):\n",
    "        self.species = species\n",
    "        self.name = name"
   ]
  },
  {
   "cell_type": "code",
   "execution_count": 2,
   "id": "c5894585",
   "metadata": {},
   "outputs": [
    {
     "name": "stdout",
     "output_type": "stream",
     "text": [
      "<__main__.Pet object at 0x000001F389DF3D60>\n",
      "Scooby\n"
     ]
    }
   ],
   "source": [
    "# Creating an instance of a class\n",
    "my_dog = Pet(species=\"dog\",\n",
    "    name=\"Scooby\")\n",
    "\n",
    "print (my_dog)\n",
    "print (my_dog.name)"
   ]
  },
  {
   "cell_type": "code",
   "execution_count": 3,
   "id": "d50905c4",
   "metadata": {},
   "outputs": [],
   "source": [
    "# Creating the class\n",
    "class Pet(object):\n",
    "    def __init__(self, species, name):\n",
    "        self.species = species\n",
    "        self.name = name\n",
    "    def __str__(self):\n",
    "        return f\"{self.species} named {self.name}\""
   ]
  },
  {
   "cell_type": "code",
   "execution_count": 4,
   "id": "9ba06079",
   "metadata": {},
   "outputs": [
    {
     "name": "stdout",
     "output_type": "stream",
     "text": [
      "dog named Scooby\n",
      "Scooby\n"
     ]
    }
   ],
   "source": [
    "# Creating an instance of a class\n",
    "my_dog = Pet(species=\"dog\",\n",
    "    name=\"Scooby\")\n",
    "\n",
    "print (my_dog)\n",
    "print (my_dog.name)"
   ]
  },
  {
   "cell_type": "code",
   "execution_count": 5,
   "id": "1fc0b48a",
   "metadata": {},
   "outputs": [],
   "source": [
    "# Creating the class\n",
    "class Pet(object):\n",
    "    def __init__(self, species, name):\n",
    "        self.species = species\n",
    "        self.name = name\n",
    "    def __str__(self):\n",
    "        return f\"{self.species} named {self.name}\"\n",
    "    def change_name(self, new_name):\n",
    "        self.name = new_name"
   ]
  },
  {
   "cell_type": "code",
   "execution_count": 6,
   "id": "6c5dc31a",
   "metadata": {},
   "outputs": [
    {
     "name": "stdout",
     "output_type": "stream",
     "text": [
      "dog named Scooby\n",
      "Scooby\n"
     ]
    }
   ],
   "source": [
    "# Creating an instance of a class\n",
    "my_dog = Pet(species=\"dog\", name=\"Scooby\")\n",
    "print (my_dog)\n",
    "print (my_dog.name)"
   ]
  },
  {
   "cell_type": "code",
   "execution_count": 7,
   "id": "23b69e3a",
   "metadata": {},
   "outputs": [
    {
     "name": "stdout",
     "output_type": "stream",
     "text": [
      "dog named Scrappy\n",
      "Scrappy\n"
     ]
    }
   ],
   "source": [
    "# Using a class's function\n",
    "my_dog.change_name(new_name=\"Scrappy\")\n",
    "print (my_dog)\n",
    "print (my_dog.name)"
   ]
  },
  {
   "cell_type": "code",
   "execution_count": 8,
   "id": "747f86a5",
   "metadata": {},
   "outputs": [
    {
     "name": "stdout",
     "output_type": "stream",
     "text": [
      "A Great Dane doggo named Scooby\n"
     ]
    }
   ],
   "source": [
    "#Inheritance\n",
    "class Dog(Pet):\n",
    "    def __init__(self, name, breed):\n",
    "        super().__init__(species=\"dog\", name=name)\n",
    "        self.breed = breed\n",
    "    def __str__(self):\n",
    "        return f\"A {self.breed} doggo named {self.name}\"\n",
    "\n",
    "scooby = Dog(breed=\"Great Dane\", name=\"Scooby\")\n",
    "print (scooby)"
   ]
  },
  {
   "cell_type": "code",
   "execution_count": 9,
   "id": "f8f707a9",
   "metadata": {},
   "outputs": [
    {
     "name": "stdout",
     "output_type": "stream",
     "text": [
      "A Great Dane doggo named Scooby Doo\n"
     ]
    }
   ],
   "source": [
    "scooby.change_name(\"Scooby Doo\")\n",
    "print (scooby)"
   ]
  },
  {
   "cell_type": "code",
   "execution_count": 10,
   "id": "b4af664f",
   "metadata": {},
   "outputs": [
    {
     "name": "stdout",
     "output_type": "stream",
     "text": [
      "The filtered vowels are:\n",
      "o\n",
      "o\n",
      "o\n"
     ]
    }
   ],
   "source": [
    "def filterVowels(letter):\n",
    "    vowels = ['a', 'e', 'i', 'o', 'u']\n",
    "    if(letter in vowels):\n",
    "        return True\n",
    "    else:\n",
    "        return False\n",
    "letters = \"oop python\"\n",
    "filteredVowels = filter(filterVowels, letters)\n",
    "print('The filtered vowels are:')\n",
    "for vowel in filteredVowels:\n",
    "    print(vowel)"
   ]
  },
  {
   "cell_type": "markdown",
   "id": "593d988f",
   "metadata": {},
   "source": [
    "# Exercise"
   ]
  },
  {
   "cell_type": "markdown",
   "id": "87e749d0",
   "metadata": {},
   "source": [
    "1. Find all of the numbers from 1–1000 that are divisible by 8"
   ]
  },
  {
   "cell_type": "code",
   "execution_count": 8,
   "id": "e694daea",
   "metadata": {},
   "outputs": [
    {
     "name": "stdout",
     "output_type": "stream",
     "text": [
      "['8', '16', '24', '32', '40', '48', '56', '64', '72', '80', '88', '96', '104', '112', '120', '128', '136', '144', '152', '160', '168', '176', '184', '192', '200', '208', '216', '224', '232', '240', '248', '256', '264', '272', '280', '288', '296', '304', '312', '320', '328', '336', '344', '352', '360', '368', '376', '384', '392', '400', '408', '416', '424', '432', '440', '448', '456', '464', '472', '480', '488', '496', '504', '512', '520', '528', '536', '544', '552', '560', '568', '576', '584', '592', '600', '608', '616', '624', '632', '640', '648', '656', '664', '672', '680', '688', '696', '704', '712', '720', '728', '736', '744', '752', '760', '768', '776', '784', '792', '800', '808', '816', '824', '832', '840', '848', '856', '864', '872', '880', '888', '896', '904', '912', '920', '928', '936', '944', '952', '960', '968', '976', '984', '992', '1000']\n"
     ]
    }
   ],
   "source": [
    "list=[]\n",
    "for i in range(1,1001):\n",
    "    if (i%8 ==0):\n",
    "        list.append(str(i))\n",
    "print (list)"
   ]
  },
  {
   "cell_type": "markdown",
   "id": "f0b48c00",
   "metadata": {},
   "source": [
    "2. Find all of the numbers from 1–1000 that have a 6 in them"
   ]
  },
  {
   "cell_type": "code",
   "execution_count": 15,
   "id": "267ce91d",
   "metadata": {
    "scrolled": true
   },
   "outputs": [
    {
     "name": "stdout",
     "output_type": "stream",
     "text": [
      "['6', '16', '26', '36', '46', '56', '60', '61', '62', '63', '64', '65', '66', '67', '68', '69', '76', '86', '96', '106', '116', '126', '136', '146', '156', '160', '161', '162', '163', '164', '165', '166', '167', '168', '169', '176', '186', '196', '206', '216', '226', '236', '246', '256', '260', '261', '262', '263', '264', '265', '266', '267', '268', '269', '276', '286', '296', '306', '316', '326', '336', '346', '356', '360', '361', '362', '363', '364', '365', '366', '367', '368', '369', '376', '386', '396', '406', '416', '426', '436', '446', '456', '460', '461', '462', '463', '464', '465', '466', '467', '468', '469', '476', '486', '496', '506', '516', '526', '536', '546', '556', '560', '561', '562', '563', '564', '565', '566', '567', '568', '569', '576', '586', '596', '600', '601', '602', '603', '604', '605', '606', '607', '608', '609', '610', '611', '612', '613', '614', '615', '616', '617', '618', '619', '620', '621', '622', '623', '624', '625', '626', '627', '628', '629', '630', '631', '632', '633', '634', '635', '636', '637', '638', '639', '640', '641', '642', '643', '644', '645', '646', '647', '648', '649', '650', '651', '652', '653', '654', '655', '656', '657', '658', '659', '660', '661', '662', '663', '664', '665', '666', '667', '668', '669', '670', '671', '672', '673', '674', '675', '676', '677', '678', '679', '680', '681', '682', '683', '684', '685', '686', '687', '688', '689', '690', '691', '692', '693', '694', '695', '696', '697', '698', '699', '706', '716', '726', '736', '746', '756', '760', '761', '762', '763', '764', '765', '766', '767', '768', '769', '776', '786', '796', '806', '816', '826', '836', '846', '856', '860', '861', '862', '863', '864', '865', '866', '867', '868', '869', '876', '886', '896', '906', '916', '926', '936', '946', '956', '960', '961', '962', '963', '964', '965', '966', '967', '968', '969', '976', '986', '996']\n"
     ]
    }
   ],
   "source": [
    "list=[]\n",
    "for i in range (1 ,1001):\n",
    "    if str(i).find('6') != -1:\n",
    "        list.append(str(i))  \n",
    "print(list)"
   ]
  },
  {
   "cell_type": "markdown",
   "id": "e2c06c5f",
   "metadata": {},
   "source": [
    "3. Count the number of spaces in a string (use string above)"
   ]
  },
  {
   "cell_type": "code",
   "execution_count": 19,
   "id": "680ad878",
   "metadata": {},
   "outputs": [
    {
     "name": "stdout",
     "output_type": "stream",
     "text": [
      "Given String:  Hello! This is asad Chowdhury Dipu from CSE303!\n",
      "Number of spaces in a string:  7\n"
     ]
    }
   ],
   "source": [
    "str = \"Hello! This is asad Chowdhury Dipu from CSE303!\"\n",
    "print(\"Given String: \", str)\n",
    "count=0\n",
    "\n",
    "for i in range(1, len(string)):\n",
    "    if(string[i] == ' '):\n",
    "        count+=1\n",
    "print(\"Number of spaces in a string: \",count)"
   ]
  },
  {
   "cell_type": "markdown",
   "id": "e64d8e9f",
   "metadata": {},
   "source": [
    "4. Remove all of the vowels in a string (use string above)"
   ]
  },
  {
   "cell_type": "code",
   "execution_count": null,
   "id": "f8f630c9",
   "metadata": {},
   "outputs": [],
   "source": []
  },
  {
   "cell_type": "markdown",
   "id": "e331942d",
   "metadata": {},
   "source": [
    "5. Find all of the words in a string that are less than 5 letters (use string above)"
   ]
  },
  {
   "cell_type": "code",
   "execution_count": null,
   "id": "30a2bd0f",
   "metadata": {},
   "outputs": [],
   "source": []
  },
  {
   "cell_type": "markdown",
   "id": "a28d3bd5",
   "metadata": {},
   "source": [
    "6. Use a dictionary comprehension to count the length of each word in a sentence (use string above)"
   ]
  },
  {
   "cell_type": "code",
   "execution_count": null,
   "id": "1e07b703",
   "metadata": {},
   "outputs": [],
   "source": []
  },
  {
   "cell_type": "markdown",
   "id": "c533db45",
   "metadata": {},
   "source": [
    "7. Use a nested list comprehension to find all of the numbers from 1–1000 that are divisible by any\n",
    "single digit besides 1 (2–9)"
   ]
  },
  {
   "cell_type": "code",
   "execution_count": null,
   "id": "bc755729",
   "metadata": {},
   "outputs": [],
   "source": []
  },
  {
   "cell_type": "markdown",
   "id": "e0cd4a93",
   "metadata": {},
   "source": [
    "8. For all the numbers 1–1000, use a nested list/dictionary comprehension to find the highest single\n",
    "digit any of the numbers is divisible by"
   ]
  },
  {
   "cell_type": "code",
   "execution_count": null,
   "id": "ffe61eab",
   "metadata": {},
   "outputs": [],
   "source": []
  },
  {
   "cell_type": "code",
   "execution_count": null,
   "id": "1f8ee2fd",
   "metadata": {},
   "outputs": [],
   "source": []
  },
  {
   "cell_type": "code",
   "execution_count": null,
   "id": "f95dc404",
   "metadata": {},
   "outputs": [],
   "source": []
  }
 ],
 "metadata": {
  "kernelspec": {
   "display_name": "Python 3",
   "language": "python",
   "name": "python3"
  },
  "language_info": {
   "codemirror_mode": {
    "name": "ipython",
    "version": 3
   },
   "file_extension": ".py",
   "mimetype": "text/x-python",
   "name": "python",
   "nbconvert_exporter": "python",
   "pygments_lexer": "ipython3",
   "version": "3.8.8"
  }
 },
 "nbformat": 4,
 "nbformat_minor": 5
}
