{
 "cells": [
  {
   "cell_type": "markdown",
   "id": "b18e6012",
   "metadata": {},
   "source": [
    "<br>\n",
    "<div style=\"font-style: bold; text-align: center;\">\n",
    "<img src=\"https://www.ewubd.edu/themes/east-west-university/assets/default/images/logo.png\" alt=\"ERROR\" title=\"EWULOGO\" width=\":5.72917in\"/><br>Department of Computer Science & Engineering\n",
    "<br><br><br>\n",
    "</div>\n",
    "<br><br>\n",
    "<div style=\"font-style:underline; text-align: center;\" markdown=\"1\">\n",
    "\n",
    "# Lab Assignment – 1 (Tasks on Lab 04)\n",
    "<br><br>\n",
    "<br><br>\n",
    "\n",
    "</div>\n",
    "\n",
    "\n",
    "<div style=\"font-style: bold; text-align: left;\" markdown=\"1\">\n",
    "\n",
    "## Semester : Spring 2022\n",
    "\n",
    "## Course Number : CSE303\n",
    "\n",
    "## Course Title : Statistics for Data Science\n",
    "\n",
    "## Course Instructor : Md Al-Imran\n",
    "\n",
    "<br><br>\n",
    "<br><br>\n",
    "<br><br>\n",
    "<br><br>\n",
    "\n",
    "## > student ID: 2019-1-60-093\n",
    "## > Student Name: Md. Asad Chowdhury Dipu\n",
    "## > Section: 03\n",
    "## > Date Of Submission: 28/03/2022\n",
    "<br>\n",
    "</div>\n",
    "<br>"
   ]
  },
  {
   "cell_type": "code",
   "execution_count": 70,
   "id": "c73116f0",
   "metadata": {},
   "outputs": [],
   "source": [
    "import pandas as pd\n",
    "import matplotlib.pyplot as plt"
   ]
  },
  {
   "cell_type": "code",
   "execution_count": 1,
   "id": "bf30c0ec",
   "metadata": {},
   "outputs": [
    {
     "name": "stdout",
     "output_type": "stream",
     "text": [
      "<class 'pandas.core.frame.DataFrame'>\n",
      "RangeIndex: 284807 entries, 0 to 284806\n",
      "Data columns (total 31 columns):\n",
      " #   Column  Non-Null Count   Dtype  \n",
      "---  ------  --------------   -----  \n",
      " 0   Time    284807 non-null  float64\n",
      " 1   V1      284807 non-null  float64\n",
      " 2   V2      284807 non-null  float64\n",
      " 3   V3      284807 non-null  float64\n",
      " 4   V4      284807 non-null  float64\n",
      " 5   V5      284807 non-null  float64\n",
      " 6   V6      284807 non-null  float64\n",
      " 7   V7      284807 non-null  float64\n",
      " 8   V8      284807 non-null  float64\n",
      " 9   V9      284807 non-null  float64\n",
      " 10  V10     284807 non-null  float64\n",
      " 11  V11     284807 non-null  float64\n",
      " 12  V12     284807 non-null  float64\n",
      " 13  V13     284807 non-null  float64\n",
      " 14  V14     284807 non-null  float64\n",
      " 15  V15     284807 non-null  float64\n",
      " 16  V16     284807 non-null  float64\n",
      " 17  V17     284807 non-null  float64\n",
      " 18  V18     284807 non-null  float64\n",
      " 19  V19     284807 non-null  float64\n",
      " 20  V20     284807 non-null  float64\n",
      " 21  V21     284807 non-null  float64\n",
      " 22  V22     284807 non-null  float64\n",
      " 23  V23     284807 non-null  float64\n",
      " 24  V24     284807 non-null  float64\n",
      " 25  V25     284807 non-null  float64\n",
      " 26  V26     284807 non-null  float64\n",
      " 27  V27     284807 non-null  float64\n",
      " 28  V28     284807 non-null  float64\n",
      " 29  Amount  284807 non-null  float64\n",
      " 30  Class   284807 non-null  int64  \n",
      "dtypes: float64(30), int64(1)\n",
      "memory usage: 67.4 MB\n"
     ]
    }
   ],
   "source": [
    "df = pd.read_csv('dataset_lab04.csv')\n",
    "df.info()"
   ]
  },
  {
   "cell_type": "markdown",
   "id": "1112431e",
   "metadata": {},
   "source": [
    "# 1. How many rows and columns this dataframe has? Print this information."
   ]
  },
  {
   "cell_type": "code",
   "execution_count": 246,
   "id": "68eb8560",
   "metadata": {},
   "outputs": [
    {
     "name": "stdout",
     "output_type": "stream",
     "text": [
      "Number of rows:  284807\n",
      "Number of columns:  31\n"
     ]
    }
   ],
   "source": [
    "def lab04_task1_2019_1_60_093():\n",
    "    print ('Number of rows: ', df.shape[0])\n",
    "    print ('Number of columns: ', df.shape[1])\n",
    "lab04_task1_2019_1_60_093()"
   ]
  },
  {
   "cell_type": "markdown",
   "id": "16f0b45f",
   "metadata": {},
   "source": [
    "# 2. Describe (numerical summary) the time and amount column. Print this information. "
   ]
  },
  {
   "cell_type": "code",
   "execution_count": 8,
   "id": "da5a0fad",
   "metadata": {},
   "outputs": [
    {
     "name": "stdout",
     "output_type": "stream",
     "text": [
      "                Time         Amount\n",
      "count  284807.000000  284807.000000\n",
      "mean    94813.859575      88.349619\n",
      "std     47488.145955     250.120109\n",
      "min         0.000000       0.000000\n",
      "25%     54201.500000       5.600000\n",
      "50%     84692.000000      22.000000\n",
      "75%    139320.500000      77.165000\n",
      "max    172792.000000   25691.160000\n"
     ]
    }
   ],
   "source": [
    "def lab04_task2_2019_1_60_093():\n",
    "    print(df[['Time', 'Amount']].describe())\n",
    "lab04_task2_2019_1_60_093()"
   ]
  },
  {
   "cell_type": "markdown",
   "id": "af6675d9",
   "metadata": {},
   "source": [
    "# 3. There are 31 columns in the dataset. Compute some statistical measures like mean, median, standard deviation, variance using Pandas Function for at least two columns. Print this information."
   ]
  },
  {
   "cell_type": "code",
   "execution_count": 13,
   "id": "5ba16061",
   "metadata": {},
   "outputs": [
    {
     "name": "stdout",
     "output_type": "stream",
     "text": [
      "\n",
      "Measures of Amount\n",
      "\n",
      "Amount Mean:  88.34961925087359\n",
      "Amount Median:  22.0\n",
      "Amount Standard Deviation:  250.1201092402221\n",
      "Amount Variance:  62560.069046340635\n",
      "Amount Min:  0.0\n",
      "Amount Max:  25691.16\n",
      "Amount Lower Quartile:  5.6\n",
      "Amount Upper Quartile:  77.16499999999999\n",
      "Amount Skewness:  16.977724453761024\n",
      "\n",
      "Measures of Time\n",
      "\n",
      "Time Mean:  94813.85957508067\n",
      "Time Median:  84692.0\n",
      "Time Standard Deviation:  47488.14595456582\n",
      "Time Variance:  2255124006.202146\n",
      "Time Min:  0.0\n",
      "Time Max:  172792.0\n",
      "Time Lower Quartile:  54201.5\n",
      "Time Upper Quartile:  139320.5\n",
      "Time Skewness:  -0.0355676180063216\n"
     ]
    }
   ],
   "source": [
    "def lab04_task3_2019_1_60_093():\n",
    "    Amount = df['Amount']\n",
    "    print(\"\\nMeasures of Amount\\n\")\n",
    "    print(\"Amount Mean: \" ,Amount.mean())\n",
    "    print(\"Amount Median: \" ,Amount.median())\n",
    "    print(\"Amount Standard Deviation: \",Amount.std())\n",
    "    print(\"Amount Variance: \",Amount.var())\n",
    "    print(\"Amount Min: \",Amount.min())\n",
    "    print(\"Amount Max: \",Amount.max())\n",
    "    print(\"Amount Lower Quartile: \" ,Amount.quantile(0.25))   \n",
    "    print(\"Amount Upper Quartile: \" ,Amount.quantile(0.75))\n",
    "    print(\"Amount Skewness: \" ,Amount.skew())\n",
    "\n",
    "\n",
    "    Time = df['Time']\n",
    "    print(\"\\nMeasures of Time\\n\")\n",
    "    print(\"Time Mean: \" ,Time.mean())\n",
    "    print(\"Time Median: \" ,Time.median())\n",
    "    print(\"Time Standard Deviation: \",Time.std())\n",
    "    print(\"Time Variance: \",Time.var())\n",
    "    print(\"Time Min: \",Time.min())\n",
    "    print(\"Time Max: \",Time.max())\n",
    "    print(\"Time Lower Quartile: \" ,Time.quantile(0.25))    \n",
    "    print(\"Time Upper Quartile: \" ,Time.quantile(0.75))\n",
    "    print(\"Time Skewness: \" ,Time.skew())\n",
    "\n",
    "\n",
    "lab04_task3_2019_1_60_093()\n",
    " "
   ]
  },
  {
   "cell_type": "markdown",
   "id": "abbcc008",
   "metadata": {},
   "source": [
    "# 4. Show the Box Plot of Time and Amount column. Also print the value of Q1, Median, Q3, IQR. Are there any outliers? Explain your answer and print it. "
   ]
  },
  {
   "cell_type": "code",
   "execution_count": 44,
   "id": "014afeb8",
   "metadata": {},
   "outputs": [
    {
     "name": "stdout",
     "output_type": "stream",
     "text": [
      "Time Min:  0.0\n",
      "Time Lower Quartile Q1:  54201.5\n",
      "Time Median:  84692.0\n",
      "Time Upper Quartile Q3:  139320.5\n",
      "Time Interquartile renge(IQR) :  85119.0\n",
      "Time Max:  172792.0\n",
      "\n",
      "\n",
      "Amount Min:  0.0\n",
      "Amount Lower Quartile Q1:  5.6\n",
      "Amount Median:  22.0\n",
      "Amount Upper Quartile Q3:  77.16499999999999\n",
      "Amount Interquartile renge(IQR) :  71.565\n",
      "Amount Max:  25691.16\n"
     ]
    },
    {
     "data": {
      "image/png": "[encoded data removed]",
      "text/plain": [
       "<Figure size 432x288 with 1 Axes>"
      ]
     },
     "metadata": {
      "needs_background": "light"
     },
     "output_type": "display_data"
    }
   ],
   "source": [
    "def lab04_task4_2019_1_60_093(): \n",
    "    df.boxplot(column = ['Time','Amount'])\n",
    "\n",
    "    Time = df['Time']   \n",
    "    print(\"Time Min: \",Time.min()) \n",
    "    print(\"Time Lower Quartile Q1: \" ,Time.quantile(0.25))\n",
    "    print(\"Time Median: \",Time.median())\n",
    "    print(\"Time Upper Quartile Q3: \" ,Time.quantile(0.75))\n",
    "    print(\"Time Interquartile renge(IQR) : \",Time.quantile(0.75) - Time.quantile(0.25))\n",
    "    print(\"Time Max: \",Time.max())\n",
    "    \n",
    "    print(\"\\n\")\n",
    "\n",
    "    Amount = df['Amount']\n",
    "    print(\"Amount Min: \",Amount.min())\n",
    "    print(\"Amount Lower Quartile Q1: \" ,Amount.quantile(0.25))\n",
    "    print(\"Amount Median: \" ,Amount.median())\n",
    "    print(\"Amount Upper Quartile Q3: \" ,Amount.quantile(0.75))\n",
    "    print(\"Amount Interquartile renge(IQR) : \",Amount.quantile(0.75) - Amount.quantile(0.25))\n",
    "    print(\"Amount Max: \",Amount.max())\n",
    "\n",
    "lab04_task4_2019_1_60_093()"
   ]
  },
  {
   "cell_type": "markdown",
   "id": "8b9d7011",
   "metadata": {},
   "source": [
    "###  from the boxplot i can see there is no outlier in 'TIme' colum. There is no value out size the whiskers. But in 'Amount' there is outlier because there is a lot of value out size the upper whisker."
   ]
  },
  {
   "cell_type": "markdown",
   "id": "56ed884d",
   "metadata": {},
   "source": [
    "# 5. Show the Histogram of Time and Amount column. Print the value of the Skewness and Kurtosis using appropriate Pandas functions. Comment on the type of the data distribution and print it."
   ]
  },
  {
   "cell_type": "code",
   "execution_count": 60,
   "id": "1397bd5c",
   "metadata": {},
   "outputs": [
    {
     "name": "stdout",
     "output_type": "stream",
     "text": [
      "Skewness of time:  -0.0355676180063216\n",
      "Kurtosis of time:  -1.2935300508989838\n",
      "\n",
      "\n",
      "Skewness of amount:  16.977724453761024\n",
      "Kurtosis of amount:  845.0926455465277\n"
     ]
    },
    {
     "data": {
      "image/png": "[encoded data removed]",
      "text/plain": [
       "<Figure size 432x288 with 2 Axes>"
      ]
     },
     "metadata": {
      "needs_background": "light"
     },
     "output_type": "display_data"
    }
   ],
   "source": [
    "def lab04_task5_2019_1_60_093():\n",
    "    df.hist(column = [\"Time\", \"Amount\"], bins = 10, color='green')\n",
    "\n",
    "    Time = df['Time']\n",
    "    print(\"Skewness of time: \" , Time.skew()) #it is \n",
    "    print(\"Kurtosis of time: \" , Time.kurt()) #it is Platykurtosis\n",
    "    \n",
    "    print(\"\\n\")\n",
    "    \n",
    "    Amount = df['Amount']\n",
    "    print(\"Skewness of amount: \" , Amount.skew())  #it is positive or right skewed\n",
    "    print(\"Kurtosis of amount: \" , Amount.kurt()) #it is Leptokurtosis\n",
    "    \n",
    "lab04_task5_2019_1_60_093()"
   ]
  },
  {
   "cell_type": "markdown",
   "id": "a84aad10",
   "metadata": {},
   "source": [
    "### Here time shows negative or left-skewed and Leptokurtosis. On the other hand Amount shows positive or right skewed and Leptokurtosis."
   ]
  },
  {
   "cell_type": "markdown",
   "id": "83a38e01",
   "metadata": {},
   "source": [
    "# 6. Find the percentage of records with class value = 0 (Non-Fraudulent) and class value = 1 (Fraudulent). Print this information. "
   ]
  },
  {
   "cell_type": "code",
   "execution_count": 112,
   "id": "4f53374a",
   "metadata": {},
   "outputs": [
    {
     "name": "stdout",
     "output_type": "stream",
     "text": [
      "Number of   Non_Fraudulent class value 0:  284315\n",
      "Number of Fraudulent class value 1:  284315\n",
      "Class value 0 : 99.82725143693798 %\n",
      "Class value 1 : 0.1727485630620034 %\n"
     ]
    }
   ],
   "source": [
    "def lab04_task6_2019_1_60_093():\n",
    "    Non_Fraudulent = len(df[df['Class']==0])\n",
    "    Fraudulent = len(df[df['Class']==1])\n",
    "    \n",
    "    print('Number of   Non_Fraudulent class value 0: ',   Non_Fraudulent)\n",
    "    print('Number of Fraudulent class value 1: ',   Non_Fraudulent)\n",
    "\n",
    "    print(\"Class value 0 :\", Non_Fraudulent/len(df['Class'])*100,\"%\")\n",
    "    print(\"Class value 1 :\",Fraudulent/len(df['Class'])*100,\"%\")\n",
    "\n",
    "lab04_task6_2019_1_60_093()"
   ]
  },
  {
   "cell_type": "markdown",
   "id": "120b89f1",
   "metadata": {},
   "source": [
    "# 7. Show the result you have got in 6 using a Histogram."
   ]
  },
  {
   "cell_type": "code",
   "execution_count": 144,
   "id": "1b79bf14",
   "metadata": {},
   "outputs": [
    {
     "data": {
      "image/png": "[encoded data removed]",
      "text/plain": [
       "<Figure size 432x288 with 1 Axes>"
      ]
     },
     "metadata": {
      "needs_background": "light"
     },
     "output_type": "display_data"
    }
   ],
   "source": [
    "def lab04_task7_2019_1_60_093():\n",
    "    df.hist(column = ['Class'],color='red', bins = 100)\n",
    "lab04_task7_2019_1_60_093()"
   ]
  },
  {
   "cell_type": "markdown",
   "id": "c052d3db",
   "metadata": {},
   "source": [
    "# 8. Show the result you have got in 6 using a Bar chart. Create the bar chart on the percentage value, not on the total number of occurrences. "
   ]
  },
  {
   "cell_type": "code",
   "execution_count": 140,
   "id": "ea825d39",
   "metadata": {},
   "outputs": [
    {
     "data": {
      "image/png": "[encoded data removed]",
      "text/plain": [
       "<Figure size 432x288 with 1 Axes>"
      ]
     },
     "metadata": {
      "needs_background": "light"
     },
     "output_type": "display_data"
    }
   ],
   "source": [
    "def lab04_task8_2019_1_60_093():\n",
    "    Non_Fraudulent = len(df[df['Class']==0])*100/len(df['Class'])\n",
    "    Fraudulent = len(df[df['Class']==1])*100/len(df['Class'])\n",
    "    \n",
    "    x=[0,1]\n",
    "    y=[ Non_Fraudulent,Fraudulent]\n",
    "    tick = ['Non Fraudulent','Fraudulent']\n",
    "    plt.bar(x,y, tick_label= tick, color='orange')\n",
    "    plt.xlabel('Class', color='blue')\n",
    "    plt.ylabel('percentage(%)', color='green')\n",
    "    plt.title(\"Bar chart\", color='black')\n",
    "    plt.show()\n",
    "    \n",
    "lab04_task8_2019_1_60_093()"
   ]
  },
  {
   "cell_type": "markdown",
   "id": "00459a17",
   "metadata": {},
   "source": [
    "# 9. Show the Histrogram (data distribution) of a few other columns (your choice) showing both positive and negative skew and also leptokurtic and platykurtic data distribution. So, you should display at least four Histograms. "
   ]
  },
  {
   "cell_type": "code",
   "execution_count": 161,
   "id": "9962c523",
   "metadata": {},
   "outputs": [
    {
     "name": "stdout",
     "output_type": "stream",
     "text": [
      "Skewness of V6 : 1.826580664998085\n",
      "Kurtosis of V24 : 0.6188707999933452\n",
      "\n",
      "\n",
      "Kurtosis of V12 : 20.241869662225426\n",
      "Skewness of V28 : 11.19209119221281\n"
     ]
    },
    {
     "data": {
      "image/png": "[encoded data removed]",
      "text/plain": [
       "<Figure size 432x288 with 4 Axes>"
      ]
     },
     "metadata": {
      "needs_background": "light"
     },
     "output_type": "display_data"
    }
   ],
   "source": [
    "def lab04_task9_2019_1_60_093():\n",
    "    df.hist(column = [\"V6\",\"V24\", \"V12\", \"V13\"], bins = 5)\n",
    "    \n",
    "    print(\"Skewness of V6 :\",df['V6'].skew()) # here it shows Negative or left-skewed\n",
    "    print(\"Kurtosis of V24 :\",df['V24'].kurt()) # platykurtic kurtosis\n",
    "    \n",
    "    print(\"\\n\")\n",
    "    \n",
    "    print(\"Kurtosis of V12 :\",df['V12'].kurt()) # Leptokurtic kurtosis\n",
    "    print(\"Skewness of V28 :\",df['V28'].skew()) #here it shows positive or right skewed\n",
    "    \n",
    "\n",
    "lab04_task9_2019_1_60_093()"
   ]
  },
  {
   "cell_type": "markdown",
   "id": "dd70473b",
   "metadata": {},
   "source": [
    "# 10. Find the highest positive correlation among all attributes. While finding the correlation, use appropriate code, not manually. Print this information accordingly.\n"
   ]
  },
  {
   "cell_type": "code",
   "execution_count": 197,
   "id": "ff5f8348",
   "metadata": {
    "scrolled": true
   },
   "outputs": [
    {
     "name": "stdout",
     "output_type": "stream",
     "text": [
      "Highest correlation:  Amount  V7    0.397311\n",
      "dtype: float64\n"
     ]
    }
   ],
   "source": [
    "def lab04_task10_2019_1_60_093():\n",
    "    corr = df.corr()\n",
    "    positive_corr= corr[corr > 0]\n",
    "    unst=positive_corr.unstack()\n",
    "    sort= unst.sort_values(kind=\"quicksort\", ascending=False)\n",
    "    print('Highest correlation: ',sort[32:33])\n",
    "\n",
    "lab04_task10_2019_1_60_093()"
   ]
  },
  {
   "cell_type": "markdown",
   "id": "331583f5",
   "metadata": {},
   "source": [
    "# 11. Support your findings in Question 10 using a Scatter Plot."
   ]
  },
  {
   "cell_type": "code",
   "execution_count": 228,
   "id": "426bf61f",
   "metadata": {},
   "outputs": [
    {
     "name": "stdout",
     "output_type": "stream",
     "text": [
      "scatter plot between Amount and V7:\n"
     ]
    },
    {
     "data": {
      "image/png": "[encoded data removed]",
      "text/plain": [
       "<Figure size 432x288 with 1 Axes>"
      ]
     },
     "metadata": {
      "needs_background": "light"
     },
     "output_type": "display_data"
    }
   ],
   "source": [
    "def lab04_task11_2019_1_60_093():\n",
    "    corr = df.corr()\n",
    "    positive_corr= corr[corr > 0]\n",
    "    positive_corr.plot.scatter(x='Amount',y='V7', c='red')\n",
    "    print(\"scatter plot between Amount and V7:\")\n",
    "\n",
    "lab04_task11_2019_1_60_093()"
   ]
  },
  {
   "cell_type": "markdown",
   "id": "d52aaf38",
   "metadata": {},
   "source": [
    "### We found maxumum correlation value from Amount and v7 which is 0.397311."
   ]
  },
  {
   "cell_type": "markdown",
   "id": "dfab3907",
   "metadata": {},
   "source": [
    "# 12. Find the highest negative correlation among all attributes. While finding the correlation, use appropriate code, not manually. Print this information accordingly."
   ]
  },
  {
   "cell_type": "code",
   "execution_count": 227,
   "id": "5c36c375",
   "metadata": {},
   "outputs": [
    {
     "name": "stdout",
     "output_type": "stream",
     "text": [
      "Highest negative correlation: \n",
      "V22  V6   -4.705235e-19\n",
      "dtype: float64\n"
     ]
    }
   ],
   "source": [
    "def lab04_task12_2019_1_60_093():\n",
    "    corr= df.corr()\n",
    "    neg_corr= corr[corr < 0]\n",
    "    unst=neg_corr.unstack()\n",
    "    sort= unst.sort_values(kind=\"quicksort\", ascending=False)\n",
    "    print('Highest negative correlation: ')\n",
    "    print(sort[0:1])\n",
    "\n",
    "lab04_task12_2019_1_60_093()"
   ]
  },
  {
   "cell_type": "markdown",
   "id": "603cbdc7",
   "metadata": {},
   "source": [
    "# 13. Support your findings in Question 12 using a Scatter Plot."
   ]
  },
  {
   "cell_type": "code",
   "execution_count": 225,
   "id": "274433ff",
   "metadata": {},
   "outputs": [
    {
     "name": "stdout",
     "output_type": "stream",
     "text": [
      "Minimum correlation value between V22 and V6:\n"
     ]
    },
    {
     "data": {
      "image/png": "[encoded data removed]",
      "text/plain": [
       "<Figure size 432x288 with 1 Axes>"
      ]
     },
     "metadata": {
      "needs_background": "light"
     },
     "output_type": "display_data"
    }
   ],
   "source": [
    "def lab04_task13_2019_1_60_093():\n",
    "    print('Minimum correlation value between V22 and V6:')\n",
    "    corr= df.corr()\n",
    "    neg_corr= corr[corr < 0]\n",
    "    neg_corr.plot.scatter(x ='V6', y= 'V22', c='darkblue')\n",
    "\n",
    "lab04_task13_2019_1_60_093()"
   ]
  },
  {
   "cell_type": "markdown",
   "id": "f65e4058",
   "metadata": {},
   "source": [
    "# 14. Create a Box Plot of the Amount Column. "
   ]
  },
  {
   "cell_type": "code",
   "execution_count": 229,
   "id": "d4aa0dd1",
   "metadata": {},
   "outputs": [
    {
     "data": {
      "image/png": "[encoded data removed]",
      "text/plain": [
       "<Figure size 432x288 with 1 Axes>"
      ]
     },
     "metadata": {
      "needs_background": "light"
     },
     "output_type": "display_data"
    }
   ],
   "source": [
    "def lab04_task14_2019_1_60_093():\n",
    "     df.boxplot(column = ['Amount'])\n",
    "        \n",
    "lab04_task14_2019_1_60_093()"
   ]
  },
  {
   "cell_type": "markdown",
   "id": "5c653dbd",
   "metadata": {},
   "source": [
    "# 15. Now create two other box plots side by side. The first one will show the Amount column value for which the class value = 0 (Non-Fraudulent) and the second one will show the Amount column value for which the class value = 1 (Fraudulent). Do you find any particular pattern by just considering Amount column. Explain your answer and print it accordingly."
   ]
  },
  {
   "cell_type": "code",
   "execution_count": 243,
   "id": "9aab792c",
   "metadata": {
    "scrolled": true
   },
   "outputs": [
    {
     "data": {
      "image/png": "[encoded data removed]",
      "text/plain": [
       "<Figure size 432x288 with 1 Axes>"
      ]
     },
     "metadata": {
      "needs_background": "light"
     },
     "output_type": "display_data"
    }
   ],
   "source": [
    "def lab04_task15_2019_1_60_093():\n",
    "    Non_Fraudulent =df[['Amount', 'Class']].query('Class == 0')\n",
    "    a_Class0 = Non_Fraudulent['Amount']\n",
    "    Fraudulent =df[['Amount', 'Class']].query('Class == 1')\n",
    "    a_Class1 = Fraudulent['Amount']\n",
    "    columns = [a_Class0, a_Class1]\n",
    "    fig,ax = plt.subplots()\n",
    "    ax.boxplot(columns)\n",
    "    plt.title(\"box plot\")\n",
    "    plt.show()  \n",
    "lab04_task15_2019_1_60_093()  "
   ]
  },
  {
   "cell_type": "markdown",
   "id": "468498c4",
   "metadata": {},
   "source": [
    "### Comment: we can say that the column \"Amount\" has nearly no row where class is 0 (Non-Fraudulent) on the other hand CLass 1 (Fraudulent) has maximum row for column \"Amount\". So we can see a  Negative Correlation"
   ]
  }
 ],
 "metadata": {
  "kernelspec": {
   "display_name": "Python 3",
   "language": "python",
   "name": "python3"
  },
  "language_info": {
   "codemirror_mode": {
    "name": "ipython",
    "version": 3
   },
   "file_extension": ".py",
   "mimetype": "text/x-python",
   "name": "python",
   "nbconvert_exporter": "python",
   "pygments_lexer": "ipython3",
   "version": "3.8.8"
  }
 },
 "nbformat": 4,
 "nbformat_minor": 5
}
