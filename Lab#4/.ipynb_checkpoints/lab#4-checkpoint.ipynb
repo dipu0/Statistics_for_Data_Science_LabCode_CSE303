{
 "cells": [
  {
   "cell_type": "markdown",
   "id": "6fe14c6b",
   "metadata": {},
   "source": [
    "# 1. How many rows and columns this dataframe has?"
   ]
  },
  {
   "cell_type": "code",
   "execution_count": 3,
   "id": "e2b4f2c7",
   "metadata": {},
   "outputs": [],
   "source": [
    "import pandas as pd"
   ]
  },
  {
   "cell_type": "code",
   "execution_count": 6,
   "id": "bbb8d2cc",
   "metadata": {
    "scrolled": true
   },
   "outputs": [
    {
     "name": "stdout",
     "output_type": "stream",
     "text": [
      "Number of rows:  284807\n",
      "Numbber of columns: 31\n",
      "   Time        V1        V2        V3        V4        V5        V6        V7  \\\n",
      "0   0.0 -1.359807 -0.072781  2.536347  1.378155 -0.338321  0.462388  0.239599   \n",
      "1   0.0  1.191857  0.266151  0.166480  0.448154  0.060018 -0.082361 -0.078803   \n",
      "2   1.0 -1.358354 -1.340163  1.773209  0.379780 -0.503198  1.800499  0.791461   \n",
      "3   1.0 -0.966272 -0.185226  1.792993 -0.863291 -0.010309  1.247203  0.237609   \n",
      "4   2.0 -1.158233  0.877737  1.548718  0.403034 -0.407193  0.095921  0.592941   \n",
      "\n",
      "         V8        V9  ...       V21       V22       V23       V24       V25  \\\n",
      "0  0.098698  0.363787  ... -0.018307  0.277838 -0.110474  0.066928  0.128539   \n",
      "1  0.085102 -0.255425  ... -0.225775 -0.638672  0.101288 -0.339846  0.167170   \n",
      "2  0.247676 -1.514654  ...  0.247998  0.771679  0.909412 -0.689281 -0.327642   \n",
      "3  0.377436 -1.387024  ... -0.108300  0.005274 -0.190321 -1.175575  0.647376   \n",
      "4 -0.270533  0.817739  ... -0.009431  0.798278 -0.137458  0.141267 -0.206010   \n",
      "\n",
      "        V26       V27       V28  Amount  Class  \n",
      "0 -0.189115  0.133558 -0.021053  149.62      0  \n",
      "1  0.125895 -0.008983  0.014724    2.69      0  \n",
      "2 -0.139097 -0.055353 -0.059752  378.66      0  \n",
      "3 -0.221929  0.062723  0.061458  123.50      0  \n",
      "4  0.502292  0.219422  0.215153   69.99      0  \n",
      "\n",
      "[5 rows x 31 columns]\n"
     ]
    }
   ],
   "source": [
    "dataframe = pd.read_csv('dataset_lab04.csv')\n",
    "print('Number of rows: ',dataframe.shape[0])\n",
    "print('Numbber of columns:',dataframe.shape[1])\n",
    "print(dataframe.head())"
   ]
  },
  {
   "cell_type": "markdown",
   "id": "3e233f59",
   "metadata": {},
   "source": [
    "# 2. Describe (numerical summary) the time and amount column."
   ]
  },
  {
   "cell_type": "code",
   "execution_count": 22,
   "id": "2e5a5b8f",
   "metadata": {},
   "outputs": [
    {
     "name": "stdout",
     "output_type": "stream",
     "text": [
      "                Time         Amount\n",
      "count  284807.000000  284807.000000\n",
      "mean    94813.859575      88.349619\n",
      "std     47488.145955     250.120109\n",
      "min         0.000000       0.000000\n",
      "25%     54201.500000       5.600000\n",
      "50%     84692.000000      22.000000\n",
      "75%    139320.500000      77.165000\n",
      "max    172792.000000   25691.160000\n"
     ]
    }
   ],
   "source": [
    "print(dataframe[['Time', 'Amount']].describe())"
   ]
  },
  {
   "cell_type": "markdown",
   "id": "3e048404",
   "metadata": {},
   "source": [
    "# 3. There are 31 columns in the dataset. Compute some statistical measures like mean, median, standard deviation, variance using Pandas Function."
   ]
  },
  {
   "cell_type": "code",
   "execution_count": 23,
   "id": "aeb709f3",
   "metadata": {},
   "outputs": [
    {
     "name": "stdout",
     "output_type": "stream",
     "text": [
      "Mean:  Time      9.481386e+04\n",
      "V1        3.918649e-15\n",
      "V2        5.682686e-16\n",
      "V3       -8.761736e-15\n",
      "V4        2.811118e-15\n",
      "V5       -1.552103e-15\n",
      "V6        2.040130e-15\n",
      "V7       -1.698953e-15\n",
      "V8       -1.893285e-16\n",
      "V9       -3.147640e-15\n",
      "V10       1.772925e-15\n",
      "V11       9.289524e-16\n",
      "V12      -1.803266e-15\n",
      "V13       1.674888e-15\n",
      "V14       1.475621e-15\n",
      "V15       3.501098e-15\n",
      "V16       1.392460e-15\n",
      "V17      -7.466538e-16\n",
      "V18       4.258754e-16\n",
      "V19       9.019919e-16\n",
      "V20       5.126845e-16\n",
      "V21       1.473120e-16\n",
      "V22       8.042109e-16\n",
      "V23       5.282512e-16\n",
      "V24       4.456271e-15\n",
      "V25       1.426896e-15\n",
      "V26       1.701640e-15\n",
      "V27      -3.662252e-16\n",
      "V28      -1.217809e-16\n",
      "Amount    8.834962e+01\n",
      "Class     1.727486e-03\n",
      "dtype: float64\n",
      "Median:  Time      84692.000000\n",
      "V1            0.018109\n",
      "V2            0.065486\n",
      "V3            0.179846\n",
      "V4           -0.019847\n",
      "V5           -0.054336\n",
      "V6           -0.274187\n",
      "V7            0.040103\n",
      "V8            0.022358\n",
      "V9           -0.051429\n",
      "V10          -0.092917\n",
      "V11          -0.032757\n",
      "V12           0.140033\n",
      "V13          -0.013568\n",
      "V14           0.050601\n",
      "V15           0.048072\n",
      "V16           0.066413\n",
      "V17          -0.065676\n",
      "V18          -0.003636\n",
      "V19           0.003735\n",
      "V20          -0.062481\n",
      "V21          -0.029450\n",
      "V22           0.006782\n",
      "V23          -0.011193\n",
      "V24           0.040976\n",
      "V25           0.016594\n",
      "V26          -0.052139\n",
      "V27           0.001342\n",
      "V28           0.011244\n",
      "Amount       22.000000\n",
      "Class         0.000000\n",
      "Name: 0.5, dtype: float64\n",
      "Standard Deviation:  Time      47488.145955\n",
      "V1            1.958696\n",
      "V2            1.651309\n",
      "V3            1.516255\n",
      "V4            1.415869\n",
      "V5            1.380247\n",
      "V6            1.332271\n",
      "V7            1.237094\n",
      "V8            1.194353\n",
      "V9            1.098632\n",
      "V10           1.088850\n",
      "V11           1.020713\n",
      "V12           0.999201\n",
      "V13           0.995274\n",
      "V14           0.958596\n",
      "V15           0.915316\n",
      "V16           0.876253\n",
      "V17           0.849337\n",
      "V18           0.838176\n",
      "V19           0.814041\n",
      "V20           0.770925\n",
      "V21           0.734524\n",
      "V22           0.725702\n",
      "V23           0.624460\n",
      "V24           0.605647\n",
      "V25           0.521278\n",
      "V26           0.482227\n",
      "V27           0.403632\n",
      "V28           0.330083\n",
      "Amount      250.120109\n",
      "Class         0.041527\n",
      "dtype: float64\n",
      "Variance:  Time      2.255124e+09\n",
      "V1        3.836489e+00\n",
      "V2        2.726820e+00\n",
      "V3        2.299029e+00\n",
      "V4        2.004684e+00\n",
      "V5        1.905081e+00\n",
      "V6        1.774946e+00\n",
      "V7        1.530401e+00\n",
      "V8        1.426479e+00\n",
      "V9        1.206992e+00\n",
      "V10       1.185594e+00\n",
      "V11       1.041855e+00\n",
      "V12       9.984034e-01\n",
      "V13       9.905708e-01\n",
      "V14       9.189055e-01\n",
      "V15       8.378034e-01\n",
      "V16       7.678191e-01\n",
      "V17       7.213734e-01\n",
      "V18       7.025394e-01\n",
      "V19       6.626619e-01\n",
      "V20       5.943254e-01\n",
      "V21       5.395255e-01\n",
      "V22       5.266428e-01\n",
      "V23       3.899507e-01\n",
      "V24       3.668084e-01\n",
      "V25       2.717308e-01\n",
      "V26       2.325429e-01\n",
      "V27       1.629192e-01\n",
      "V28       1.089550e-01\n",
      "Amount    6.256007e+04\n",
      "Class     1.724507e-03\n",
      "dtype: float64\n",
      "Lower Quartile:  Time      54201.500000\n",
      "V1           -0.920373\n",
      "V2           -0.598550\n",
      "V3           -0.890365\n",
      "V4           -0.848640\n",
      "V5           -0.691597\n",
      "V6           -0.768296\n",
      "V7           -0.554076\n",
      "V8           -0.208630\n",
      "V9           -0.643098\n",
      "V10          -0.535426\n",
      "V11          -0.762494\n",
      "V12          -0.405571\n",
      "V13          -0.648539\n",
      "V14          -0.425574\n",
      "V15          -0.582884\n",
      "V16          -0.468037\n",
      "V17          -0.483748\n",
      "V18          -0.498850\n",
      "V19          -0.456299\n",
      "V20          -0.211721\n",
      "V21          -0.228395\n",
      "V22          -0.542350\n",
      "V23          -0.161846\n",
      "V24          -0.354586\n",
      "V25          -0.317145\n",
      "V26          -0.326984\n",
      "V27          -0.070840\n",
      "V28          -0.052960\n",
      "Amount        5.600000\n",
      "Class         0.000000\n",
      "Name: 0.25, dtype: float64\n",
      "Median:  Time      84692.000000\n",
      "V1            0.018109\n",
      "V2            0.065486\n",
      "V3            0.179846\n",
      "V4           -0.019847\n",
      "V5           -0.054336\n",
      "V6           -0.274187\n",
      "V7            0.040103\n",
      "V8            0.022358\n",
      "V9           -0.051429\n",
      "V10          -0.092917\n",
      "V11          -0.032757\n",
      "V12           0.140033\n",
      "V13          -0.013568\n",
      "V14           0.050601\n",
      "V15           0.048072\n",
      "V16           0.066413\n",
      "V17          -0.065676\n",
      "V18          -0.003636\n",
      "V19           0.003735\n",
      "V20          -0.062481\n",
      "V21          -0.029450\n",
      "V22           0.006782\n",
      "V23          -0.011193\n",
      "V24           0.040976\n",
      "V25           0.016594\n",
      "V26          -0.052139\n",
      "V27           0.001342\n",
      "V28           0.011244\n",
      "Amount       22.000000\n",
      "Class         0.000000\n",
      "dtype: float64\n",
      "Upper Quartile:  Time      139320.500000\n",
      "V1             1.315642\n",
      "V2             0.803724\n",
      "V3             1.027196\n",
      "V4             0.743341\n",
      "V5             0.611926\n",
      "V6             0.398565\n",
      "V7             0.570436\n",
      "V8             0.327346\n",
      "V9             0.597139\n",
      "V10            0.453923\n",
      "V11            0.739593\n",
      "V12            0.618238\n",
      "V13            0.662505\n",
      "V14            0.493150\n",
      "V15            0.648821\n",
      "V16            0.523296\n",
      "V17            0.399675\n",
      "V18            0.500807\n",
      "V19            0.458949\n",
      "V20            0.133041\n",
      "V21            0.186377\n",
      "V22            0.528554\n",
      "V23            0.147642\n",
      "V24            0.439527\n",
      "V25            0.350716\n",
      "V26            0.240952\n",
      "V27            0.091045\n",
      "V28            0.078280\n",
      "Amount        77.165000\n",
      "Class          0.000000\n",
      "Name: 0.75, dtype: float64\n",
      "Skewness:  Time      -0.035568\n",
      "V1        -3.280667\n",
      "V2        -4.624866\n",
      "V3        -2.240155\n",
      "V4         0.676292\n",
      "V5        -2.425901\n",
      "V6         1.826581\n",
      "V7         2.553907\n",
      "V8        -8.521944\n",
      "V9         0.554680\n",
      "V10        1.187141\n",
      "V11        0.356506\n",
      "V12       -2.278401\n",
      "V13        0.065233\n",
      "V14       -1.995176\n",
      "V15       -0.308423\n",
      "V16       -1.100966\n",
      "V17       -3.844914\n",
      "V18       -0.259880\n",
      "V19        0.109192\n",
      "V20       -2.037155\n",
      "V21        3.592991\n",
      "V22       -0.213258\n",
      "V23       -5.875140\n",
      "V24       -0.552499\n",
      "V25       -0.415793\n",
      "V26        0.576693\n",
      "V27       -1.170209\n",
      "V28       11.192091\n",
      "Amount    16.977724\n",
      "Class     23.997579\n",
      "dtype: float64\n",
      "Kurtosis:  Time       -1.293530\n",
      "V1         32.486679\n",
      "V2         95.773106\n",
      "V3         26.619551\n",
      "V4          2.635455\n",
      "V5        206.904560\n",
      "V6         42.642494\n",
      "V7        405.607417\n",
      "V8        220.586974\n",
      "V9          3.731311\n",
      "V10        31.988239\n",
      "V11         1.633921\n",
      "V12        20.241870\n",
      "V13         0.195300\n",
      "V14        23.879462\n",
      "V15         0.284769\n",
      "V16        10.419131\n",
      "V17        94.799719\n",
      "V18         2.578341\n",
      "V19         1.724970\n",
      "V20       271.016113\n",
      "V21       207.287040\n",
      "V22         2.832967\n",
      "V23       440.088659\n",
      "V24         0.618871\n",
      "V25         4.290412\n",
      "V26         0.919006\n",
      "V27       244.989241\n",
      "V28       933.397502\n",
      "Amount    845.092646\n",
      "Class     573.887843\n",
      "dtype: float64\n",
      "Min:  Time        0.000000\n",
      "V1        -56.407510\n",
      "V2        -72.715728\n",
      "V3        -48.325589\n",
      "V4         -5.683171\n",
      "V5       -113.743307\n",
      "V6        -26.160506\n",
      "V7        -43.557242\n",
      "V8        -73.216718\n",
      "V9        -13.434066\n",
      "V10       -24.588262\n",
      "V11        -4.797473\n",
      "V12       -18.683715\n",
      "V13        -5.791881\n",
      "V14       -19.214325\n",
      "V15        -4.498945\n",
      "V16       -14.129855\n",
      "V17       -25.162799\n",
      "V18        -9.498746\n",
      "V19        -7.213527\n",
      "V20       -54.497720\n",
      "V21       -34.830382\n",
      "V22       -10.933144\n",
      "V23       -44.807735\n",
      "V24        -2.836627\n",
      "V25       -10.295397\n",
      "V26        -2.604551\n",
      "V27       -22.565679\n",
      "V28       -15.430084\n",
      "Amount      0.000000\n",
      "Class       0.000000\n",
      "dtype: float64\n",
      "Max:  Time      172792.000000\n",
      "V1             2.454930\n",
      "V2            22.057729\n",
      "V3             9.382558\n",
      "V4            16.875344\n",
      "V5            34.801666\n",
      "V6            73.301626\n",
      "V7           120.589494\n",
      "V8            20.007208\n",
      "V9            15.594995\n",
      "V10           23.745136\n",
      "V11           12.018913\n",
      "V12            7.848392\n",
      "V13            7.126883\n",
      "V14           10.526766\n",
      "V15            8.877742\n",
      "V16           17.315112\n",
      "V17            9.253526\n",
      "V18            5.041069\n",
      "V19            5.591971\n",
      "V20           39.420904\n",
      "V21           27.202839\n",
      "V22           10.503090\n",
      "V23           22.528412\n",
      "V24            4.584549\n",
      "V25            7.519589\n",
      "V26            3.517346\n",
      "V27           31.612198\n",
      "V28           33.847808\n",
      "Amount     25691.160000\n",
      "Class          1.000000\n",
      "dtype: float64\n"
     ]
    }
   ],
   "source": [
    "print(\"Mean: \" ,dataframe.mean())\n",
    "print(\"Median: \",dataframe.quantile(0.5))\n",
    "print(\"Standard Deviation: \",dataframe.std())\n",
    "print(\"Variance: \",dataframe.var())\n",
    "print(\"Lower Quartile: \" ,dataframe.quantile(0.25))\n",
    "print(\"Median: \" ,dataframe.median())\n",
    "print(\"Upper Quartile: \" ,dataframe.quantile(0.75))\n",
    "print(\"Skewness: \" ,dataframe.skew())\n",
    "print(\"Kurtosis: \" ,dataframe.kurt())\n",
    "print(\"Min: \",dataframe.min())\n",
    "print(\"Max: \",dataframe.max())"
   ]
  },
  {
   "cell_type": "markdown",
   "id": "76e34bde",
   "metadata": {},
   "source": [
    "# 4. Compute the mean of any column using your own module and compare it with the mean value of Pandas."
   ]
  },
  {
   "cell_type": "code",
   "execution_count": 29,
   "id": "6fe0d310",
   "metadata": {},
   "outputs": [
    {
     "name": "stdout",
     "output_type": "stream",
     "text": [
      "Mean from Pandas:  88.34961925087359\n",
      "Mean using my module:  88.34961925087359\n"
     ]
    }
   ],
   "source": [
    "import module4 as dmean\n",
    "print(\"Mean from Pandas: \", dataframe['Amount'].mean())\n",
    "a = dataframe['Amount']\n",
    "print(\"Mean using my module: \", dmean.mean(a))\n"
   ]
  },
  {
   "cell_type": "markdown",
   "id": "14a9cb0d",
   "metadata": {},
   "source": [
    "# 5. Show the histogram of Time and Amount column."
   ]
  },
  {
   "cell_type": "code",
   "execution_count": 37,
   "id": "c38604ad",
   "metadata": {},
   "outputs": [
    {
     "data": {
      "text/plain": [
       "array([[<AxesSubplot:title={'center':'Amount'}>]], dtype=object)"
      ]
     },
     "execution_count": 37,
     "metadata": {},
     "output_type": "execute_result"
    },
    {
     "data": {
      "image/png": "[encoded data removed]",
      "text/plain": [
       "<Figure size 432x288 with 1 Axes>"
      ]
     },
     "metadata": {
      "needs_background": "light"
     },
     "output_type": "display_data"
    },
    {
     "data": {
      "image/png": "[encoded data removed]",
      "text/plain": [
       "<Figure size 432x288 with 1 Axes>"
      ]
     },
     "metadata": {
      "needs_background": "light"
     },
     "output_type": "display_data"
    }
   ],
   "source": [
    "dataframe.hist(column = ['Time'], bins = 10, color='k')\n",
    "dataframe.hist(column = ['Amount'], bins = 10, color='r')"
   ]
  },
  {
   "cell_type": "markdown",
   "id": "3a729210",
   "metadata": {},
   "source": [
    "# 6. Find the percentage of rows with class value = 0 (Non-Fraudulent) and class value = 1 (Fraudulent)."
   ]
  },
  {
   "cell_type": "code",
   "execution_count": 52,
   "id": "e0111305",
   "metadata": {},
   "outputs": [
    {
     "name": "stdout",
     "output_type": "stream",
     "text": [
      "Percentage of class value 0 : 99.827251436938\n",
      "Percentage of class value 1 : 0.1727485630620034\n"
     ]
    }
   ],
   "source": [
    "class0 = len(dataframe[dataframe['Class']==0])*100\n",
    "class1 = len(dataframe[dataframe['Class']==1])*100\n",
    "\n",
    "print(\"Percentage of class value 0 :\",class0/len(dataframe['Class']))\n",
    "print(\"Percentage of class value 1 :\",class1/len(dataframe['Class']))"
   ]
  },
  {
   "cell_type": "markdown",
   "id": "f8459a1c",
   "metadata": {},
   "source": [
    "# 7. Show the result you have got in 6 using a histogram."
   ]
  },
  {
   "cell_type": "code",
   "execution_count": 54,
   "id": "89ed8f73",
   "metadata": {},
   "outputs": [
    {
     "data": {
      "image/png": "[encoded data removed]",
      "text/plain": [
       "<Figure size 432x288 with 1 Axes>"
      ]
     },
     "metadata": {
      "needs_background": "light"
     },
     "output_type": "display_data"
    }
   ],
   "source": [
    "df = pd.DataFrame({'lab':['Fraud', 'Non Fraud'], 'val':[class0, class1]})\n",
    "ax = df.plot.bar(x='lab', y='val', rot=0)"
   ]
  },
  {
   "cell_type": "markdown",
   "id": "a73b28af",
   "metadata": {},
   "source": [
    "# 8. Show the histrogram (data distribution) of a few other columns. Differentiate between left-skewed and right-skewed distributions."
   ]
  },
  {
   "cell_type": "code",
   "execution_count": 59,
   "id": "d4816f35",
   "metadata": {},
   "outputs": [
    {
     "name": "stdout",
     "output_type": "stream",
     "text": [
      "Skewness:  V10    1.187141\n",
      "dtype: float64\n",
      "Skewness:  V11    0.356506\n",
      "dtype: float64\n",
      "Skewness:  V13    0.065233\n",
      "dtype: float64\n"
     ]
    },
    {
     "data": {
      "image/png": "[encoded data removed]",
      "text/plain": [
       "<Figure size 432x288 with 4 Axes>"
      ]
     },
     "metadata": {
      "needs_background": "light"
     },
     "output_type": "display_data"
    }
   ],
   "source": [
    "dataframe.hist(column = [\"V10\", \"V12\", \"V13\"], bins = 20, color='DarkBlue')\n",
    "V23_length = dataframe[['V10']]\n",
    "print(\"Skewness: \" , V23_length.skew())\n",
    "\n",
    "V22_length = dataframe[['V11']]\n",
    "print(\"Skewness: \" , V22_length.skew())\n",
    "\n",
    "V19_length = dataframe[['V13']]\n",
    "print(\"Skewness: \" , V19_length.skew())"
   ]
  },
  {
   "cell_type": "markdown",
   "id": "59ef0fbf",
   "metadata": {},
   "source": [
    "# 9. Find positive correlations among columns."
   ]
  },
  {
   "cell_type": "code",
   "execution_count": 62,
   "id": "5f59a08e",
   "metadata": {},
   "outputs": [
    {
     "name": "stdout",
     "output_type": "stream",
     "text": [
      "            Time            V1            V2            V3            V4  \\\n",
      "Time    1.000000  1.173963e-01           NaN           NaN           NaN   \n",
      "V1      0.117396  1.000000e+00  4.135835e-16           NaN           NaN   \n",
      "V2           NaN  4.135835e-16  1.000000e+00  3.243764e-16           NaN   \n",
      "V3           NaN           NaN  3.243764e-16  1.000000e+00  4.711293e-16   \n",
      "V4           NaN           NaN           NaN  4.711293e-16  1.000000e+00   \n",
      "V5      0.173072  1.812612e-17  5.157519e-16           NaN           NaN   \n",
      "V6           NaN           NaN  2.787346e-16  1.627627e-15           NaN   \n",
      "V7      0.084714           NaN  2.055934e-16  4.895305e-16           NaN   \n",
      "V8           NaN           NaN           NaN           NaN  5.697192e-16   \n",
      "V9           NaN           NaN  1.978488e-17  5.568367e-16  6.923247e-16   \n",
      "V10     0.030617  7.388135e-17           NaN  1.156587e-15  2.232685e-16   \n",
      "V11          NaN  2.125498e-16  1.975426e-16  1.576830e-15  3.459380e-16   \n",
      "V12     0.124348  2.053457e-16           NaN  6.310231e-16           NaN   \n",
      "V13          NaN           NaN  6.295388e-16  2.807652e-16  1.303306e-16   \n",
      "V14          NaN           NaN           NaN  4.739859e-16  2.282280e-16   \n",
      "V15          NaN  3.547782e-16           NaN  9.068793e-16  1.377649e-16   \n",
      "V16     0.011903  7.212815e-17  1.177316e-17  8.299445e-16           NaN   \n",
      "V17          NaN           NaN           NaN  7.614712e-16           NaN   \n",
      "V18     0.090438  3.230206e-17  3.284605e-16  1.509897e-16           NaN   \n",
      "V19     0.028975  1.502024e-16           NaN  3.463522e-16           NaN   \n",
      "V20          NaN  4.654551e-16  2.506675e-16           NaN           NaN   \n",
      "V21     0.044736           NaN           NaN  5.706192e-17           NaN   \n",
      "V22     0.144059           NaN  1.526333e-16           NaN           NaN   \n",
      "V23     0.051142  6.168652e-16  1.634231e-16           NaN  9.164206e-17   \n",
      "V24          NaN           NaN  1.247925e-17  2.686834e-19  1.584638e-16   \n",
      "V25          NaN           NaN           NaN           NaN  6.070716e-16   \n",
      "V26          NaN           NaN  2.057310e-16           NaN           NaN   \n",
      "V27          NaN  1.198124e-16           NaN  1.045747e-15  3.977061e-17   \n",
      "V28          NaN  2.083082e-15           NaN  9.775546e-16           NaN   \n",
      "Amount       NaN           NaN           NaN           NaN  9.873167e-02   \n",
      "Class        NaN           NaN  9.128865e-02           NaN  1.334475e-01   \n",
      "\n",
      "                  V5            V6            V7            V8            V9  \\\n",
      "Time    1.730721e-01           NaN  8.471437e-02           NaN           NaN   \n",
      "V1      1.812612e-17           NaN           NaN           NaN           NaN   \n",
      "V2      5.157519e-16  2.787346e-16  2.055934e-16           NaN  1.978488e-17   \n",
      "V3               NaN  1.627627e-15  4.895305e-16           NaN  5.568367e-16   \n",
      "V4               NaN           NaN           NaN  5.697192e-16  6.923247e-16   \n",
      "V5      1.000000e+00  2.408382e-16  2.715541e-16  7.437229e-16  7.391702e-16   \n",
      "V6      2.408382e-16  1.000000e+00  1.191668e-16           NaN  4.131207e-16   \n",
      "V7      2.715541e-16  1.191668e-16  1.000000e+00  3.344412e-16  1.122501e-15   \n",
      "V8      7.437229e-16           NaN  3.344412e-16  1.000000e+00  4.356078e-16   \n",
      "V9      7.391702e-16  4.131207e-16  1.122501e-15  4.356078e-16  1.000000e+00   \n",
      "V10              NaN  5.932243e-17           NaN           NaN           NaN   \n",
      "V11     7.203963e-16  1.980503e-15  1.425248e-16  2.487043e-16  1.354680e-16   \n",
      "V12     7.412552e-16  2.375468e-16           NaN  1.839891e-16           NaN   \n",
      "V13     5.886991e-16           NaN  1.266462e-17           NaN  2.251072e-15   \n",
      "V14     6.565143e-16  2.621312e-16  2.607772e-16           NaN  3.784757e-15   \n",
      "V15              NaN           NaN           NaN  4.127777e-16           NaN   \n",
      "V16     2.246261e-15  2.623672e-18  5.869302e-17           NaN           NaN   \n",
      "V17     1.281914e-16  2.015618e-16  2.177192e-16           NaN  1.113695e-15   \n",
      "V18     5.308590e-16  1.223814e-16  7.604126e-17           NaN  4.993240e-16   \n",
      "V19              NaN           NaN           NaN           NaN           NaN   \n",
      "V20              NaN           NaN  9.379684e-16  2.033737e-16           NaN   \n",
      "V21              NaN  5.833316e-17           NaN  3.892798e-16  1.936953e-16   \n",
      "V22     1.253751e-16           NaN           NaN  2.026927e-16           NaN   \n",
      "V23              NaN  1.046712e-16           NaN  6.377260e-17           NaN   \n",
      "V24              NaN           NaN  7.434913e-18           NaN           NaN   \n",
      "V25     4.808532e-16  4.562861e-16           NaN           NaN  6.757763e-16   \n",
      "V26     4.319541e-16           NaN           NaN           NaN           NaN   \n",
      "V27     6.590482e-16           NaN           NaN  1.299943e-16           NaN   \n",
      "V28              NaN  2.594754e-16           NaN           NaN  1.110541e-15   \n",
      "Amount           NaN  2.159812e-01  3.973113e-01           NaN           NaN   \n",
      "Class            NaN           NaN           NaN  1.987512e-02           NaN   \n",
      "\n",
      "        ...           V21           V22           V23           V24  \\\n",
      "Time    ...  4.473573e-02  1.440591e-01  5.114236e-02           NaN   \n",
      "V1      ...           NaN           NaN  6.168652e-16           NaN   \n",
      "V2      ...           NaN  1.526333e-16  1.634231e-16  1.247925e-17   \n",
      "V3      ...  5.706192e-17           NaN           NaN  2.686834e-19   \n",
      "V4      ...           NaN           NaN  9.164206e-17  1.584638e-16   \n",
      "V5      ...           NaN  1.253751e-16           NaN           NaN   \n",
      "V6      ...  5.833316e-17           NaN  1.046712e-16           NaN   \n",
      "V7      ...           NaN           NaN           NaN  7.434913e-18   \n",
      "V8      ...  3.892798e-16  2.026927e-16  6.377260e-17           NaN   \n",
      "V9      ...  1.936953e-16           NaN           NaN           NaN   \n",
      "V10     ...  1.177547e-15           NaN  3.214491e-16           NaN   \n",
      "V11     ...           NaN  7.772895e-16           NaN  1.933267e-15   \n",
      "V12     ...  7.300527e-16  1.644699e-16  1.800885e-16  4.436512e-16   \n",
      "V13     ...  1.008461e-16  6.747721e-17           NaN           NaN   \n",
      "V14     ...           NaN  3.740383e-16  3.883204e-16  2.003482e-16   \n",
      "V15     ...  6.605263e-17           NaN           NaN           NaN   \n",
      "V16     ...           NaN           NaN  5.020770e-16           NaN   \n",
      "V17     ...           NaN           NaN  3.706214e-16           NaN   \n",
      "V18     ...           NaN           NaN           NaN           NaN   \n",
      "V19     ...  5.115885e-16           NaN  7.032035e-16  2.587708e-17   \n",
      "V20     ...           NaN  1.009285e-15  2.712885e-16  1.277215e-16   \n",
      "V21     ...  1.000000e+00  3.649908e-15  8.119580e-16  1.761054e-16   \n",
      "V22     ...  3.649908e-15  1.000000e+00           NaN  9.970809e-17   \n",
      "V23     ...  8.119580e-16           NaN  1.000000e+00  2.130519e-17   \n",
      "V24     ...  1.761054e-16  9.970809e-17  2.130519e-17  1.000000e+00   \n",
      "V25     ...           NaN           NaN           NaN  1.015391e-15   \n",
      "V26     ...           NaN           NaN  1.114524e-15  1.343722e-16   \n",
      "V27     ...           NaN  8.461337e-17  2.839721e-16           NaN   \n",
      "V28     ...  5.278775e-16           NaN  1.481903e-15           NaN   \n",
      "Amount  ...  1.059989e-01           NaN           NaN  5.146217e-03   \n",
      "Class   ...  4.041338e-02  8.053175e-04           NaN           NaN   \n",
      "\n",
      "                 V25           V26           V27           V28    Amount  \\\n",
      "Time             NaN           NaN           NaN           NaN       NaN   \n",
      "V1               NaN           NaN  1.198124e-16  2.083082e-15       NaN   \n",
      "V2               NaN  2.057310e-16           NaN           NaN       NaN   \n",
      "V3               NaN           NaN  1.045747e-15  9.775546e-16       NaN   \n",
      "V4      6.070716e-16           NaN  3.977061e-17           NaN  0.098732   \n",
      "V5      4.808532e-16  4.319541e-16  6.590482e-16           NaN       NaN   \n",
      "V6      4.562861e-16           NaN           NaN  2.594754e-16  0.215981   \n",
      "V7               NaN           NaN           NaN           NaN  0.397311   \n",
      "V8               NaN           NaN  1.299943e-16           NaN       NaN   \n",
      "V9      6.757763e-16           NaN           NaN  1.110541e-15       NaN   \n",
      "V10              NaN           NaN           NaN  4.864782e-17       NaN   \n",
      "V11              NaN           NaN           NaN           NaN  0.000104   \n",
      "V12              NaN           NaN           NaN  6.415167e-16       NaN   \n",
      "V13              NaN           NaN           NaN  1.144372e-15  0.005293   \n",
      "V14              NaN           NaN  1.044274e-16  2.289427e-15  0.033751   \n",
      "V15     3.206423e-16  2.817791e-16           NaN           NaN       NaN   \n",
      "V16              NaN           NaN  6.789513e-16  7.588849e-16       NaN   \n",
      "V17     2.666806e-16  6.932833e-16  6.148525e-16           NaN  0.007309   \n",
      "V18              NaN  2.990167e-16  2.242791e-16  7.976796e-16  0.035650   \n",
      "V19     9.577163e-16  5.898033e-16           NaN           NaN       NaN   \n",
      "V20     1.410054e-16           NaN           NaN           NaN  0.339403   \n",
      "V21              NaN           NaN           NaN  5.278775e-16  0.105999   \n",
      "V22              NaN           NaN  8.461337e-17           NaN       NaN   \n",
      "V23              NaN  1.114524e-15  2.839721e-16  1.481903e-15       NaN   \n",
      "V24     1.015391e-15  1.343722e-16           NaN           NaN  0.005146   \n",
      "V25     1.000000e+00  2.646517e-15           NaN           NaN       NaN   \n",
      "V26     2.646517e-15  1.000000e+00           NaN           NaN       NaN   \n",
      "V27              NaN           NaN  1.000000e+00           NaN  0.028825   \n",
      "V28              NaN           NaN           NaN  1.000000e+00  0.010258   \n",
      "Amount           NaN           NaN  2.882546e-02  1.025822e-02  1.000000   \n",
      "Class   3.307706e-03  4.455398e-03  1.757973e-02  9.536041e-03  0.005632   \n",
      "\n",
      "           Class  \n",
      "Time         NaN  \n",
      "V1           NaN  \n",
      "V2      0.091289  \n",
      "V3           NaN  \n",
      "V4      0.133447  \n",
      "V5           NaN  \n",
      "V6           NaN  \n",
      "V7           NaN  \n",
      "V8      0.019875  \n",
      "V9           NaN  \n",
      "V10          NaN  \n",
      "V11     0.154876  \n",
      "V12          NaN  \n",
      "V13          NaN  \n",
      "V14          NaN  \n",
      "V15          NaN  \n",
      "V16          NaN  \n",
      "V17          NaN  \n",
      "V18          NaN  \n",
      "V19     0.034783  \n",
      "V20     0.020090  \n",
      "V21     0.040413  \n",
      "V22     0.000805  \n",
      "V23          NaN  \n",
      "V24          NaN  \n",
      "V25     0.003308  \n",
      "V26     0.004455  \n",
      "V27     0.017580  \n",
      "V28     0.009536  \n",
      "Amount  0.005632  \n",
      "Class   1.000000  \n",
      "\n",
      "[31 rows x 31 columns]\n"
     ]
    }
   ],
   "source": [
    "positive_corr= correlation[dataframe.corr() > 0]\n",
    "print(positive_corr)"
   ]
  },
  {
   "cell_type": "markdown",
   "id": "f1de91a7",
   "metadata": {},
   "source": [
    "# 10. Support your findings in Question 9 using a BoxPlot."
   ]
  },
  {
   "cell_type": "code",
   "execution_count": 63,
   "id": "27647902",
   "metadata": {},
   "outputs": [
    {
     "data": {
      "text/plain": [
       "<AxesSubplot:>"
      ]
     },
     "execution_count": 63,
     "metadata": {},
     "output_type": "execute_result"
    },
    {
     "data": {
      "image/png": "[encoded data removed]",
      "text/plain": [
       "<Figure size 432x288 with 1 Axes>"
      ]
     },
     "metadata": {
      "needs_background": "light"
     },
     "output_type": "display_data"
    }
   ],
   "source": [
    "positive_corr.boxplot()"
   ]
  },
  {
   "cell_type": "markdown",
   "id": "cb960a3a",
   "metadata": {},
   "source": [
    "# 11. Support your findings in Question 9 using a Scatter Plot."
   ]
  },
  {
   "cell_type": "code",
   "execution_count": 65,
   "id": "644127b2",
   "metadata": {},
   "outputs": [
    {
     "data": {
      "text/plain": [
       "<AxesSubplot:xlabel='Time', ylabel='V1'>"
      ]
     },
     "execution_count": 65,
     "metadata": {},
     "output_type": "execute_result"
    },
    {
     "data": {
      "image/png": "[encoded data removed]",
      "text/plain": [
       "<Figure size 432x288 with 1 Axes>"
      ]
     },
     "metadata": {
      "needs_background": "light"
     },
     "output_type": "display_data"
    }
   ],
   "source": [
    "positive_corr.plot.scatter(x= 'Time', y='V1',c='darkblue')"
   ]
  },
  {
   "cell_type": "markdown",
   "id": "3e448785",
   "metadata": {},
   "source": [
    "# 12. Find negative correlations among columns."
   ]
  },
  {
   "cell_type": "code",
   "execution_count": null,
   "id": "8dc00e4f",
   "metadata": {},
   "outputs": [],
   "source": []
  },
  {
   "cell_type": "markdown",
   "id": "538c6cad",
   "metadata": {},
   "source": [
    "# 13. Support your findings in Question 10 using a BoxPlot."
   ]
  },
  {
   "cell_type": "code",
   "execution_count": null,
   "id": "483ee9b1",
   "metadata": {},
   "outputs": [],
   "source": []
  },
  {
   "cell_type": "markdown",
   "id": "42306996",
   "metadata": {},
   "source": [
    "# 14. Support your findings in Question 9 using a Scatter Plot."
   ]
  },
  {
   "cell_type": "code",
   "execution_count": null,
   "id": "d29608dd",
   "metadata": {},
   "outputs": [],
   "source": []
  },
  {
   "cell_type": "code",
   "execution_count": null,
   "id": "af9948ab",
   "metadata": {},
   "outputs": [],
   "source": []
  }
 ],
 "metadata": {
  "kernelspec": {
   "display_name": "Python 3",
   "language": "python",
   "name": "python3"
  },
  "language_info": {
   "codemirror_mode": {
    "name": "ipython",
    "version": 3
   },
   "file_extension": ".py",
   "mimetype": "text/x-python",
   "name": "python",
   "nbconvert_exporter": "python",
   "pygments_lexer": "ipython3",
   "version": "3.8.8"
  }
 },
 "nbformat": 4,
 "nbformat_minor": 5
}
