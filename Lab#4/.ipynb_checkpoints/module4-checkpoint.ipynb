{
 "cells": [
  {
   "cell_type": "code",
   "execution_count": 2,
   "id": "4417f2c5",
   "metadata": {},
   "outputs": [],
   "source": [
    "# Mean function for problem 4\n",
    "def mean(x):\n",
    "    total = 0\n",
    "    count = 0\n",
    "    for i in x:\n",
    "        total= total+i\n",
    "        count=count+1\n",
    "    own_mean = total/count\n",
    "    return own_mean"
   ]
  }
 ],
 "metadata": {
  "kernelspec": {
   "display_name": "Python 3",
   "language": "python",
   "name": "python3"
  },
  "language_info": {
   "codemirror_mode": {
    "name": "ipython",
    "version": 3
   },
   "file_extension": ".py",
   "mimetype": "text/x-python",
   "name": "python",
   "nbconvert_exporter": "python",
   "pygments_lexer": "ipython3",
   "version": "3.8.8"
  }
 },
 "nbformat": 4,
 "nbformat_minor": 5
}
