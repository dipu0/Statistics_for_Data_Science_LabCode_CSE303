{
 "cells": [
  {
   "cell_type": "markdown",
   "id": "dc4054d0",
   "metadata": {},
   "source": [
    "LAB#1_Exercise"
   ]
  },
  {
   "cell_type": "markdown",
   "id": "ba55b040",
   "metadata": {},
   "source": [
    "1. Given two integer numbers, write a Python program to return their product. If the product is greater\n",
    "than 1000, then return their sum. Read inputs from the user."
   ]
  },
  {
   "cell_type": "code",
   "execution_count": 5,
   "id": "5c0eadcd",
   "metadata": {},
   "outputs": [
    {
     "name": "stdout",
     "output_type": "stream",
     "text": [
      "Product is less than 1000 so the sum of x1 & x2 : \n",
      "201\n"
     ]
    }
   ],
   "source": [
    "def action(x1,x2):\n",
    "    if(x1*x2 < 1000):\n",
    "        print(\"Product is: \")\n",
    "        return x1*x2\n",
    "    else:\n",
    "        print(\"Product is less than 1000 so the sum of x1 & x2 : \")\n",
    "        return x1+x2\n",
    "    \n",
    "x1 = int(input('Enter number x1: '))\n",
    "x2 = int(input('Enter number x2: '))\n",
    "\n",
    "print(action(x1,x2))"
   ]
  },
  {
   "cell_type": "markdown",
   "id": "e16f9573",
   "metadata": {},
   "source": [
    "2. Write a Python program to find the area and perimeter of a circle. Read inputs from the user."
   ]
  },
  {
   "cell_type": "code",
   "execution_count": 8,
   "id": "4ce413b0",
   "metadata": {},
   "outputs": [
    {
     "name": "stdout",
     "output_type": "stream",
     "text": [
      "Area of the circle is :  78.53981633974483\n",
      "Perimeter of the circle is :  31.41592653589793\n"
     ]
    }
   ],
   "source": [
    "import math\n",
    "\n",
    "def circle(radius):\n",
    "    area = math.pi*(radius*radius)\n",
    "    print(\"Area of the circle is : \",area)\n",
    "    perimeter = 2*math.pi*radius\n",
    "    print(\"Perimeter of the circle is : \",perimeter)\n",
    "\n",
    "radius= int(input(\"Enter the radius of the circle: \"))\n",
    "circle(radius)"
   ]
  },
  {
   "cell_type": "markdown",
   "id": "51a389be",
   "metadata": {},
   "source": [
    "3. Write a Python program to calculate the compound interest based on the given formula. Read inputs\n",
    "from the user.\n",
    "\n",
    "A = P * (1 + R/100)^T\n",
    "where P is the principle amount, R is the interest rate and T is time (in years).\n",
    "\n",
    "Define a function named as compound_interest_< your-student-id > in your program."
   ]
  },
  {
   "cell_type": "code",
   "execution_count": 1,
   "id": "61456665",
   "metadata": {},
   "outputs": [
    {
     "name": "stdout",
     "output_type": "stream",
     "text": [
      "Enter the principle amount:  23000\n",
      "Enter the interest rate: 10.5\n",
      "Enter the time(in years): 1\n",
      "Compound interest is :  25415.0\n"
     ]
    }
   ],
   "source": [
    "def compound_interest_2019_1_60_093(P,R,T):\n",
    "    return P * ((1 + R/100)**T)\n",
    "\n",
    "P=int(input(\"Enter the principle amount:  \"))\n",
    "\n",
    "R= float(input(\"Enter the interest rate: \"))\n",
    "\n",
    "T= int(input(\"Enter the time(in years): \"))\n",
    "\n",
    "A= compound_interest_2019_1_60_093(P,R,T)\n",
    "\n",
    "print(\"Compound interest is : \",A)"
   ]
  },
  {
   "cell_type": "markdown",
   "id": "0fd9b7e1",
   "metadata": {},
   "source": [
    "4. Given a positive integer N (read from the user), write a Python program to calculate the value of the\n",
    "following series.\n",
    "1^2 + 2^2 + 3^2 + 4^2 .. .... +N^2"
   ]
  },
  {
   "cell_type": "code",
   "execution_count": 2,
   "id": "424f2da5",
   "metadata": {},
   "outputs": [
    {
     "name": "stdout",
     "output_type": "stream",
     "text": [
      "Enter a number : 6\n",
      "Value of the following series:  91.0\n"
     ]
    }
   ],
   "source": [
    "def calculate_Value(N):\n",
    "    return (N*(N+1)*(2*N+1))/6\n",
    "\n",
    "N=int(input(\"Enter a number : \"))\n",
    "\n",
    "a=calculate_Value(N)\n",
    "\n",
    "print(\"Value of the following series: \",a)\n"
   ]
  },
  {
   "cell_type": "markdown",
   "id": "78f0a58f",
   "metadata": {},
   "source": [
    "5. Given a positive integer N (read from the user), write a Python program to check if the number is\n",
    "prime or not. Define a function named as prime_find_<your-student-id> in your program."
   ]
  },
  {
   "cell_type": "code",
   "execution_count": 7,
   "id": "66e6470a",
   "metadata": {},
   "outputs": [
    {
     "name": "stdout",
     "output_type": "stream",
     "text": [
      "Enter a number: 1\n",
      "It's not a prime number\n"
     ]
    }
   ],
   "source": [
    "def prime_find_2019_1_60_093(num):\n",
    "    if num> 1:  \n",
    "        for n in range(2,num):  \n",
    "            if (num % n) == 0:  \n",
    "                print(\"It's not a prime number\")\n",
    "        print(\"It's a prime number\")\n",
    "    else:\n",
    "        print(\"It's not a prime number\")\n",
    "    \n",
    "n=int(input(\"Enter a number: \"))\n",
    "\n",
    "prime_find_2019_1_60_093(n)"
   ]
  },
  {
   "cell_type": "markdown",
   "id": "89371454",
   "metadata": {},
   "source": [
    "6. Given a positive integer n (read from the user), write a Python program to find the n-th Fibonacci\n",
    "number based on the following assumptions.\n",
    "Fn = Fn-1 + Fn-2 where F0 = 0 and F1 = 1"
   ]
  },
  {
   "cell_type": "code",
   "execution_count": 11,
   "id": "977ee28b",
   "metadata": {},
   "outputs": [
    {
     "name": "stdout",
     "output_type": "stream",
     "text": [
      "Enter a number: 6\n",
      "6 th fibonacci number is :  8\n"
     ]
    }
   ],
   "source": [
    "def fibonacci(n):\n",
    "    if n==0:\n",
    "        return 0\n",
    "    \n",
    "    elif n==1:\n",
    "        return 1\n",
    "    \n",
    "    else:\n",
    "        return fibonacci(n-1)+fibonacci(n-2)\n",
    "\n",
    "n=int(input(\"Enter a number: \"))\n",
    "\n",
    "print(n,\"th fibonacci number is : \",fibonacci(n))"
   ]
  },
  {
   "cell_type": "markdown",
   "id": "3caa5e9b",
   "metadata": {},
   "source": [
    "7. Given a list of numbers (hardcoded in the program), write a Python program to calculate the sum of\n",
    "the list. Do not use any built-in function."
   ]
  },
  {
   "cell_type": "code",
   "execution_count": 12,
   "id": "07c901e3",
   "metadata": {},
   "outputs": [
    {
     "ename": "SyntaxError",
     "evalue": "invalid syntax (<ipython-input-12-a2f812dfec0a>, line 1)",
     "output_type": "error",
     "traceback": [
      "\u001b[1;36m  File \u001b[1;32m\"<ipython-input-12-a2f812dfec0a>\"\u001b[1;36m, line \u001b[1;32m1\u001b[0m\n\u001b[1;33m    8. Given a list of numbers (hardcoded in the program), write a Python program to calculate the sum of\u001b[0m\n\u001b[1;37m       ^\u001b[0m\n\u001b[1;31mSyntaxError\u001b[0m\u001b[1;31m:\u001b[0m invalid syntax\n"
     ]
    }
   ],
   "source": []
  },
  {
   "cell_type": "markdown",
   "id": "dea913e0",
   "metadata": {},
   "source": [
    "8. Given a list of numbers (hardcoded in the program), write a Python program to calculate the sum of\n",
    "the even-indexed elements in the list."
   ]
  },
  {
   "cell_type": "code",
   "execution_count": null,
   "id": "7f840c04",
   "metadata": {},
   "outputs": [],
   "source": []
  },
  {
   "cell_type": "markdown",
   "id": "037d91c8",
   "metadata": {},
   "source": [
    "9. Given a list of numbers (hardcoded in the program), write a Python program to find the largest and\n",
    "smallest element of the list. Define two functions largest_number_<your-student-id> and\n",
    "smallest_number_<your-student-id> in your program. Do not use any built-in function."
   ]
  },
  {
   "cell_type": "code",
   "execution_count": null,
   "id": "9dbd4101",
   "metadata": {},
   "outputs": [],
   "source": []
  },
  {
   "cell_type": "markdown",
   "id": "1bffec69",
   "metadata": {},
   "source": []
  },
  {
   "cell_type": "code",
   "execution_count": null,
   "id": "ac3913fe",
   "metadata": {},
   "outputs": [],
   "source": []
  },
  {
   "cell_type": "markdown",
   "id": "00fe2cf6",
   "metadata": {},
   "source": []
  },
  {
   "cell_type": "code",
   "execution_count": null,
   "id": "4d30c210",
   "metadata": {},
   "outputs": [],
   "source": []
  },
  {
   "cell_type": "markdown",
   "id": "b5c0c93c",
   "metadata": {},
   "source": []
  },
  {
   "cell_type": "code",
   "execution_count": null,
   "id": "b82cedcc",
   "metadata": {},
   "outputs": [],
   "source": []
  },
  {
   "cell_type": "markdown",
   "id": "36b746ae",
   "metadata": {},
   "source": []
  },
  {
   "cell_type": "code",
   "execution_count": null,
   "id": "47054aca",
   "metadata": {},
   "outputs": [],
   "source": []
  }
 ],
 "metadata": {
  "interpreter": {
   "hash": "b3ba2566441a7c06988d0923437866b63cedc61552a5af99d1f4fb67d367b25f"
  },
  "kernelspec": {
   "display_name": "Python 3",
   "language": "python",
   "name": "python3"
  },
  "language_info": {
   "codemirror_mode": {
    "name": "ipython",
    "version": 3
   },
   "file_extension": ".py",
   "mimetype": "text/x-python",
   "name": "python",
   "nbconvert_exporter": "python",
   "pygments_lexer": "ipython3",
   "version": "3.8.8"
  }
 },
 "nbformat": 4,
 "nbformat_minor": 5
}
