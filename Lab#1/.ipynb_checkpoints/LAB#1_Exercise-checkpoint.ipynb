{
 "cells": [
  {
   "cell_type": "markdown",
   "id": "dc4054d0",
   "metadata": {},
   "source": [
    "LAB#1_Exercise"
   ]
  },
  {
   "cell_type": "markdown",
   "id": "ba55b040",
   "metadata": {},
   "source": [
    "1. Given two integer numbers, write a Python program to return their product. If the product is greater\n",
    "than 1000, then return their sum. Read inputs from the user."
   ]
  },
  {
   "cell_type": "code",
   "execution_count": 5,
   "id": "5c0eadcd",
   "metadata": {},
   "outputs": [
    {
     "name": "stdout",
     "output_type": "stream",
     "text": [
      "Product is less than 1000 so the sum of x1 & x2 : \n",
      "201\n"
     ]
    }
   ],
   "source": [
    "def action(x1,x2):\n",
    "    if(x1*x2 < 1000):\n",
    "        print(\"Product is: \")\n",
    "        return x1*x2\n",
    "    else:\n",
    "        print(\"Product is less than 1000 so the sum of x1 & x2 : \")\n",
    "        return x1+x2\n",
    "    \n",
    "x1 = int(input('Enter number x1: '))\n",
    "x2 = int(input('Enter number x2: '))\n",
    "\n",
    "print(action(x1,x2))"
   ]
  },
  {
   "cell_type": "markdown",
   "id": "e16f9573",
   "metadata": {},
   "source": [
    "2. Write a Python program to find the area and perimeter of a circle. Read inputs from the user."
   ]
  },
  {
   "cell_type": "code",
   "execution_count": 8,
   "id": "4ce413b0",
   "metadata": {},
   "outputs": [
    {
     "name": "stdout",
     "output_type": "stream",
     "text": [
      "Area of the circle is :  78.53981633974483\n",
      "Perimeter of the circle is :  31.41592653589793\n"
     ]
    }
   ],
   "source": [
    "import math\n",
    "\n",
    "def circle(radius):\n",
    "    area = math.pi*(radius*radius)\n",
    "    print(\"Area of the circle is : \",area)\n",
    "    perimeter = 2*math.pi*radius\n",
    "    print(\"Perimeter of the circle is : \",perimeter)\n",
    "\n",
    "radius= int(input(\"Enter the radius of the circle: \"))\n",
    "circle(radius)"
   ]
  },
  {
   "cell_type": "markdown",
   "id": "51a389be",
   "metadata": {},
   "source": [
    "3. Write a Python program to calculate the compound interest based on the given formula. Read inputs\n",
    "from the user.\n",
    "\n",
    "A = P * (1 + R/100)^T\n",
    "where P is the principle amount, R is the interest rate and T is time (in years).\n",
    "\n",
    "Define a function named as compound_interest_< your-student-id > in your program."
   ]
  },
  {
   "cell_type": "code",
   "execution_count": 1,
   "id": "61456665",
   "metadata": {},
   "outputs": [
    {
     "name": "stdout",
     "output_type": "stream",
     "text": [
      "Enter the principle amount:  23000\n",
      "Enter the interest rate: 10.5\n",
      "Enter the time(in years): 1\n",
      "Compound interest is :  25415.0\n"
     ]
    }
   ],
   "source": [
    "def compound_interest_2019_1_60_093(P,R,T):\n",
    "    return P * ((1 + R/100)**T)\n",
    "\n",
    "P=int(input(\"Enter the principle amount:  \"))\n",
    "\n",
    "R= float(input(\"Enter the interest rate: \"))\n",
    "\n",
    "T= int(input(\"Enter the time(in years): \"))\n",
    "\n",
    "A= compound_interest_2019_1_60_093(P,R,T)\n",
    "\n",
    "print(\"Compound interest is : \",A)"
   ]
  },
  {
   "cell_type": "code",
   "execution_count": null,
   "id": "4f3668c9",
   "metadata": {},
   "outputs": [],
   "source": []
  }
 ],
 "metadata": {
  "interpreter": {
   "hash": "b3ba2566441a7c06988d0923437866b63cedc61552a5af99d1f4fb67d367b25f"
  },
  "kernelspec": {
   "display_name": "Python 3",
   "language": "python",
   "name": "python3"
  },
  "language_info": {
   "codemirror_mode": {
    "name": "ipython",
    "version": 3
   },
   "file_extension": ".py",
   "mimetype": "text/x-python",
   "name": "python",
   "nbconvert_exporter": "python",
   "pygments_lexer": "ipython3",
   "version": "3.8.8"
  }
 },
 "nbformat": 4,
 "nbformat_minor": 5
}
