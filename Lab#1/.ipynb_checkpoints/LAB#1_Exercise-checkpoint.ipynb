{
 "cells": [
  {
   "cell_type": "markdown",
   "id": "dc4054d0",
   "metadata": {},
   "source": [
    "LAB#1_Exercise"
   ]
  },
  {
   "cell_type": "markdown",
   "id": "ba55b040",
   "metadata": {},
   "source": [
    "1. Given two integer numbers, write a Python program to return their product. If the product is greater\n",
    "than 1000, then return their sum. Read inputs from the user."
   ]
  },
  {
   "cell_type": "code",
   "execution_count": 5,
   "id": "5c0eadcd",
   "metadata": {},
   "outputs": [
    {
     "name": "stdout",
     "output_type": "stream",
     "text": [
      "Product is less than 1000 so the sum of x1 & x2 : \n",
      "201\n"
     ]
    }
   ],
   "source": [
    "def action(x1,x2):\n",
    "    if(x1*x2 < 1000):\n",
    "        print(\"Product is: \")\n",
    "        return x1*x2\n",
    "    else:\n",
    "        print(\"Product is less than 1000 so the sum of x1 & x2 : \")\n",
    "        return x1+x2\n",
    "    \n",
    "x1 = int(input('Enter number x1: '))\n",
    "x2 = int(input('Enter number x2: '))\n",
    "\n",
    "print(action(x1,x2))"
   ]
  },
  {
   "cell_type": "markdown",
   "id": "e16f9573",
   "metadata": {},
   "source": [
    "2. Write a Python program to find the area and perimeter of a circle. Read inputs from the user."
   ]
  },
  {
   "cell_type": "code",
   "execution_count": 8,
   "id": "4ce413b0",
   "metadata": {},
   "outputs": [
    {
     "name": "stdout",
     "output_type": "stream",
     "text": [
      "Area of the circle is :  78.53981633974483\n",
      "Perimeter of the circle is :  31.41592653589793\n"
     ]
    }
   ],
   "source": [
    "import math\n",
    "\n",
    "def circle(radius):\n",
    "    area = math.pi*(radius*radius)\n",
    "    print(\"Area of the circle is : \",area)\n",
    "    perimeter = 2*math.pi*radius\n",
    "    print(\"Perimeter of the circle is : \",perimeter)\n",
    "\n",
    "radius= int(input(\"Enter the radius of the circle: \"))\n",
    "circle(radius)"
   ]
  },
  {
   "cell_type": "markdown",
   "id": "51a389be",
   "metadata": {},
   "source": [
    "3. Write a Python program to calculate the compound interest based on the given formula. Read inputs\n",
    "from the user.\n",
    "\n",
    "A = P * (1 + R/100)^T\n",
    "where P is the principle amount, R is the interest rate and T is time (in years).\n",
    "\n",
    "Define a function named as compound_interest_< your-student-id > in your program."
   ]
  },
  {
   "cell_type": "code",
   "execution_count": 1,
   "id": "61456665",
   "metadata": {},
   "outputs": [
    {
     "name": "stdout",
     "output_type": "stream",
     "text": [
      "Enter the principle amount:  23000\n",
      "Enter the interest rate: 10.5\n",
      "Enter the time(in years): 1\n",
      "Compound interest is :  25415.0\n"
     ]
    }
   ],
   "source": [
    "def compound_interest_2019_1_60_093(P,R,T):\n",
    "    return P * ((1 + R/100)**T)\n",
    "\n",
    "P=int(input(\"Enter the principle amount:  \"))\n",
    "\n",
    "R= float(input(\"Enter the interest rate: \"))\n",
    "\n",
    "T= int(input(\"Enter the time(in years): \"))\n",
    "\n",
    "A= compound_interest_2019_1_60_093(P,R,T)\n",
    "\n",
    "print(\"Compound interest is : \",A)"
   ]
  },
  {
   "cell_type": "markdown",
   "id": "5f13005e",
   "metadata": {},
   "source": [
    "4. Given a positive integer N (read from the user), write a Python program to calculate the value of the\n",
    "following series.\n",
    "1^2 + 2^2 + 3^2 + 4^2 .. .... +N^2"
   ]
  },
  {
   "cell_type": "code",
   "execution_count": 2,
   "id": "299aa9a5",
   "metadata": {},
   "outputs": [
    {
     "name": "stdout",
     "output_type": "stream",
     "text": [
      "Enter a number : 6\n",
      "Value of the following series:  91.0\n"
     ]
    }
   ],
   "source": [
    "def calculate_Value(N):\n",
    "    return (N*(N+1)*(2*N+1))/6\n",
    "\n",
    "N=int(input(\"Enter a number : \"))\n",
    "\n",
    "a=calculate_Value(N)\n",
    "\n",
    "print(\"Value of the following series: \",a)\n"
   ]
  },
  {
   "cell_type": "markdown",
   "id": "0a76d35b",
   "metadata": {},
   "source": [
    "5. Given a positive integer N (read from the user), write a Python program to check if the number is\n",
    "prime or not. Define a function named as prime_find_<your-student-id> in your program."
   ]
  },
  {
   "cell_type": "code",
   "execution_count": 7,
   "id": "c95db104",
   "metadata": {},
   "outputs": [
    {
     "name": "stdout",
     "output_type": "stream",
     "text": [
      "Enter a number: 1\n",
      "It's not a prime number\n"
     ]
    }
   ],
   "source": [
    "def prime_find_2019_1_60_093(num):\n",
    "    if num> 1:  \n",
    "        for n in range(2,num):  \n",
    "            if (num % n) == 0:  \n",
    "                print(\"It's not a prime number\")\n",
    "        print(\"It's a prime number\")\n",
    "    else:\n",
    "        print(\"It's not a prime number\")\n",
    "    \n",
    "n=int(input(\"Enter a number: \"))\n",
    "\n",
    "prime_find_2019_1_60_093(n)"
   ]
  },
  {
   "cell_type": "markdown",
   "id": "f5ca6688",
   "metadata": {},
   "source": [
    "6. Given a positive integer n (read from the user), write a Python program to find the n-th Fibonacci\n",
    "number based on the following assumptions.\n",
    "Fn = Fn-1 + Fn-2 where F0 = 0 and F1 = 1"
   ]
  },
  {
   "cell_type": "code",
   "execution_count": 11,
   "id": "031d5af7",
   "metadata": {},
   "outputs": [
    {
     "name": "stdout",
     "output_type": "stream",
     "text": [
      "Enter a number: 6\n",
      "6 th fibonacci number is :  8\n"
     ]
    }
   ],
   "source": [
    "def fibonacci(n):\n",
    "    if n==0:\n",
    "        return 0\n",
    "    \n",
    "    elif n==1:\n",
    "        return 1\n",
    "    \n",
    "    else:\n",
    "        return fibonacci(n-1)+fibonacci(n-2)\n",
    "\n",
    "n=int(input(\"Enter a number: \"))\n",
    "\n",
    "print(n,\"th fibonacci number is : \",fibonacci(n))"
   ]
  },
  {
   "cell_type": "markdown",
   "id": "22b3d8f7",
   "metadata": {},
   "source": [
    "7. Given a list of numbers (hardcoded in the program), write a Python program to calculate the sum of\n",
    "the list. Do not use any built-in function."
   ]
  },
  {
   "cell_type": "code",
   "execution_count": 16,
   "id": "54309014",
   "metadata": {},
   "outputs": [
    {
     "name": "stdout",
     "output_type": "stream",
     "text": [
      "37\n"
     ]
    }
   ],
   "source": [
    "list = [0,1,5,2,1,5,8,3,5,3,4]\n",
    "def do_sum(list):\n",
    "    sum=0 \n",
    "    for x in list:\n",
    "        sum+=x    \n",
    "    return sum\n",
    "\n",
    "print(do_sum(list))"
   ]
  },
  {
   "cell_type": "markdown",
   "id": "343bb977",
   "metadata": {},
   "source": [
    "8. Given a list of numbers (hardcoded in the program), write a Python program to calculate the sum of\n",
    "the even-indexed elements in the list."
   ]
  },
  {
   "cell_type": "code",
   "execution_count": 25,
   "id": "772afaf7",
   "metadata": {},
   "outputs": [
    {
     "name": "stdout",
     "output_type": "stream",
     "text": [
      "23\n"
     ]
    }
   ],
   "source": [
    "list = [0,1,5,2,1,5,8,3,5,3,4]\n",
    "def do_sum(list):\n",
    "    sum=0 \n",
    "    for i in range(len(list)):\n",
    "        if(i%2==0):\n",
    "            sum+=list[i]\n",
    "    return sum\n",
    "\n",
    "print(do_sum(list))"
   ]
  },
  {
   "cell_type": "markdown",
   "id": "e3279d1b",
   "metadata": {},
   "source": [
    "9. Given a list of numbers (hardcoded in the program), write a Python program to find the largest and\n",
    "smallest element of the list. Define two functions largest_number_< your-student-id > and\n",
    "smallest_number_< your-student-id > in your program. Do not use any built-in function."
   ]
  },
  {
   "cell_type": "code",
   "execution_count": 30,
   "id": "7391be24",
   "metadata": {},
   "outputs": [
    {
     "name": "stdout",
     "output_type": "stream",
     "text": [
      "largest number:  8 smallest number:  0\n"
     ]
    }
   ],
   "source": [
    "list = [0,1,5,2,1,5,8,3,5,3,4]\n",
    "\n",
    "def largest_number_2019_1_60_093(list):\n",
    "    max = -99999\n",
    "    for x in list:\n",
    "        if x > max:\n",
    "            max=x\n",
    "    return max\n",
    "def smallest_number_2019_1_60_093(list):\n",
    "    min = 99999\n",
    "    for x in list:\n",
    "        if x < min:\n",
    "            min = x\n",
    "    return min\n",
    "print(\"largest number: \",largest_number_2019_1_60_093(list), \"smallest number: \",smallest_number_2019_1_60_093(list))"
   ]
  },
  {
   "cell_type": "markdown",
   "id": "4343a60a",
   "metadata": {},
   "source": [
    "10. Given a list of numbers (hardcoded in the program), write a Python program to find the second\n",
    "largest element of the list."
   ]
  },
  {
   "cell_type": "code",
   "execution_count": 34,
   "id": "a963fc76",
   "metadata": {},
   "outputs": [
    {
     "name": "stdout",
     "output_type": "stream",
     "text": [
      "second largest number:  5\n"
     ]
    }
   ],
   "source": [
    "list = [0,1,5,2,1,5,8,3,5,3,4]\n",
    "list.sort()\n",
    "print(\"second largest number: \", list[len(list)-2])"
   ]
  },
  {
   "cell_type": "markdown",
   "id": "af2713a2",
   "metadata": {},
   "source": [
    "11. Given a string, display only those characters which are present at an even index number. Read inputs\n",
    "from the user."
   ]
  },
  {
   "cell_type": "code",
   "execution_count": 35,
   "id": "43c08754",
   "metadata": {},
   "outputs": [
    {
     "name": "stdout",
     "output_type": "stream",
     "text": [
      "Enter a string : Welcome to CSE303\n",
      "Characters present at an even index number are : \n",
      "Wloet S33"
     ]
    }
   ],
   "source": [
    "string=input(\"Enter a string : \")\n",
    "print(\"Characters present at an even index number are : \")\n",
    "for i in range(len(string)):\n",
    "    if i%2==0:\n",
    "        print(string[i] ,end=\"\")"
   ]
  },
  {
   "cell_type": "markdown",
   "id": "aa5e80ba",
   "metadata": {},
   "source": [
    "12. Given a string and an integer number n, remove characters from a string starting from zero up to n\n",
    "and return a new string. N must be less than the length of the string. Read inputs from the user. Do\n",
    "not use any built-in function."
   ]
  },
  {
   "cell_type": "code",
   "execution_count": 40,
   "id": "4163fcce",
   "metadata": {},
   "outputs": [
    {
     "name": "stdout",
     "output_type": "stream",
     "text": [
      "Enter a string: hello world\n",
      "Enter a number = 3\n",
      "New string is :  lo world\n"
     ]
    }
   ],
   "source": [
    "string=input(\"Enter a string: \")\n",
    "\n",
    "N=int(input(\"Enter a number = \"))\n",
    "\n",
    "new_string=\"\"\n",
    "i=0\n",
    "\n",
    "for i in range(len(string)):\n",
    "    if i>=N:\n",
    "        new_string=new_string+string[i]\n",
    "\n",
    "print(\"New string is : \",new_string)"
   ]
  },
  {
   "cell_type": "markdown",
   "id": "2716a29f",
   "metadata": {},
   "source": [
    "13. Given a string, find the count of the substring “CSE303” appeared in the given string. Do not use any\n",
    "built-in function."
   ]
  },
  {
   "cell_type": "code",
   "execution_count": 47,
   "id": "754a6007",
   "metadata": {},
   "outputs": [
    {
     "name": "stdout",
     "output_type": "stream",
     "text": [
      "The no of substring appeared:  2\n"
     ]
    }
   ],
   "source": [
    "string = 'CSE303 must be done before CSE366. Otherwise CSE303 will be dropped.'\n",
    "substring=\"CSE303\"\n",
    "\n",
    "def count_substring(string,substring):\n",
    "    count=0\n",
    "    for x in string.split():\n",
    "        if x == substring:\n",
    "            count+=1\n",
    "    return count\n",
    "print(\"The no of substring appeared: \",count_substring(string, substring))"
   ]
  },
  {
   "cell_type": "markdown",
   "id": "711cd72d",
   "metadata": {},
   "source": [
    "14. Given a string, write a python program to check if it is palindrome or not. Define a function named\n",
    "palindrome_checker_< your-student-id > in your program."
   ]
  },
  {
   "cell_type": "code",
   "execution_count": 49,
   "id": "c0e88f36",
   "metadata": {},
   "outputs": [
    {
     "name": "stdout",
     "output_type": "stream",
     "text": [
      "Enter a string :mom\n",
      "mom\n",
      "Palindrome\n"
     ]
    }
   ],
   "source": [
    "string= input(\"Enter a string :\")\n",
    "\n",
    "def palindrome_checker_2019_1_60_093(string):\n",
    "    s = \"\"\n",
    "    for i in string:\n",
    "        s = i + s\n",
    "    print(s)\n",
    "    if string==s:\n",
    "        print(\"Palindrome\")\n",
    "    else:\n",
    "        print(\"Not a palindrome\")\n",
    "\n",
    "palindrome_checker_2019_1_60_093(string)"
   ]
  },
  {
   "cell_type": "markdown",
   "id": "04cc95e0",
   "metadata": {},
   "source": [
    "15. Given a two list of numbers (hardcoded in the program), create a new list such that new list should\n",
    "contain only odd numbers from the first list and even numbers from the second list."
   ]
  },
  {
   "cell_type": "code",
   "execution_count": 60,
   "id": "315bd6d6",
   "metadata": {},
   "outputs": [
    {
     "name": "stdout",
     "output_type": "stream",
     "text": [
      "Odd numbers from list1 : [1, 5, 1, 5, 3, 5, 3]\n",
      "Even numbers from list 2 : [0, 0, 6, 0, 0]\n",
      "New List:  [1, 5, 1, 5, 3, 5, 3, 0, 0, 6, 0, 0]\n"
     ]
    },
    {
     "data": {
      "text/plain": [
       "[1, 5, 1, 5, 3, 5, 3, 0, 0, 6, 0, 0]"
      ]
     },
     "execution_count": 60,
     "metadata": {},
     "output_type": "execute_result"
    }
   ],
   "source": [
    "list1=[0,1,5,2,1,5,8,3,5,3,4]\n",
    "list2=[0,1,3,0,6,9,9,9,0,0,5]\n",
    "\n",
    "even=[]\n",
    "odd=[]\n",
    "new_list=[]\n",
    "\n",
    "def extract_new_list(list1,list2):\n",
    "    for i in list1:\n",
    "        if i%2!=0:\n",
    "            odd.append(i)\n",
    "            new_list.append(i)\n",
    "    print(\"Odd numbers from list1 :\",odd)\n",
    "    \n",
    "    for i in list2:\n",
    "        if i%2==0:\n",
    "            even.append(i)\n",
    "            new_list.append(i)\n",
    "    print(\"Even numbers from list 2 :\",even)\n",
    "    \n",
    "    print(\"New List: \",new_list)\n",
    "    \n",
    "    return new_list\n",
    "    \n",
    "extract_new_list(list1,list2)"
   ]
  }
 ],
 "metadata": {
  "interpreter": {
   "hash": "b3ba2566441a7c06988d0923437866b63cedc61552a5af99d1f4fb67d367b25f"
  },
  "kernelspec": {
   "display_name": "Python 3",
   "language": "python",
   "name": "python3"
  },
  "language_info": {
   "codemirror_mode": {
    "name": "ipython",
    "version": 3
   },
   "file_extension": ".py",
   "mimetype": "text/x-python",
   "name": "python",
   "nbconvert_exporter": "python",
   "pygments_lexer": "ipython3",
   "version": "3.8.8"
  }
 },
 "nbformat": 4,
 "nbformat_minor": 5
}
