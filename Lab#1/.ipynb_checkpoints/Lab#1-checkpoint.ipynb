{
 "cells": [
  {
   "cell_type": "markdown",
   "id": "c67a7d89",
   "metadata": {},
   "source": [
    "<div style=\"font-style: bold; text-align: center;\">\n",
    "<img src=\"https://www.ewubd.edu/themes/east-west-university/assets/default/images/logo.png\" alt=\"ERROR\" title=\"EWULOGO\" width=\":5.72917in\"/>Department: Computer Science & Engineering\n",
    "<br><br><br>\n",
    "</div>\n",
    "\n",
    "<div style=\"font-style:underline; text-align: center;\" markdown=\"1\">\n",
    "\n",
    "# Lab Report – 1\n",
    "<br><br>\n",
    "<br><br>\n",
    "\n",
    "</div>\n",
    "\n",
    "\n",
    "<div style=\"font-style: bold; text-align: left;\" markdown=\"1\">\n",
    "\n",
    "## Semester : Spring 2022\n",
    "\n",
    "## Course Number : CSE303\n",
    "\n",
    "## Course Title : Statistics for Data Science\n",
    "\n",
    "## Course Instructor : Md Al-Imran\n",
    "\n",
    "<br><br>\n",
    "<br><br>\n",
    "<br><br>\n",
    "<br><br>\n",
    "\n",
    "## > student ID: 2019-1-60-093\n",
    "## > Student Name: Md. Asad Chowdhury Dipu\n",
    "## > Section: 03\n",
    "## > Date Of Submission: 23/02/2022\n",
    "<br>\n",
    "</div>"
   ]
  },
  {
   "cell_type": "markdown",
   "id": "62d19eaa",
   "metadata": {},
   "source": [
    "# Lab#1"
   ]
  },
  {
   "cell_type": "code",
   "execution_count": 1,
   "id": "ba653517",
   "metadata": {},
   "outputs": [
    {
     "name": "stdout",
     "output_type": "stream",
     "text": [
      "This line will be printed.\n"
     ]
    }
   ],
   "source": [
    "print (\"This line will be printed.\")"
   ]
  },
  {
   "cell_type": "code",
   "execution_count": 2,
   "id": "853e9138",
   "metadata": {},
   "outputs": [
    {
     "name": "stdout",
     "output_type": "stream",
     "text": [
      "John is 23 years old.\n"
     ]
    }
   ],
   "source": [
    "name = \"John\"\n",
    "age = 23\n",
    "print (\"%s is %d years old.\" % (name, age))"
   ]
  },
  {
   "cell_type": "code",
   "execution_count": 3,
   "id": "9b096f45",
   "metadata": {},
   "outputs": [
    {
     "name": "stdout",
     "output_type": "stream",
     "text": [
      "Enter your name: Dipu\n",
      "Enter your age: 21\n",
      "Dipu is 21 years old\n"
     ]
    }
   ],
   "source": [
    "name = input(\"Enter your name: \")\n",
    "age = int(input(\"Enter your age: \"))\n",
    "print(f'{name} is {age} years old')"
   ]
  },
  {
   "cell_type": "code",
   "execution_count": 4,
   "id": "77977b39",
   "metadata": {},
   "outputs": [
    {
     "name": "stdout",
     "output_type": "stream",
     "text": [
      "5\n",
      "<class 'int'>\n"
     ]
    }
   ],
   "source": [
    "x=5\n",
    "print(x)\n",
    "print(type(x))"
   ]
  },
  {
   "cell_type": "code",
   "execution_count": 5,
   "id": "53eec6b1",
   "metadata": {},
   "outputs": [
    {
     "name": "stdout",
     "output_type": "stream",
     "text": [
      "hello\n",
      "<class 'str'>\n"
     ]
    }
   ],
   "source": [
    "x=\"hello\"\n",
    "print(x)\n",
    "print(type(x))"
   ]
  },
  {
   "cell_type": "code",
   "execution_count": 6,
   "id": "e8ab5e4a",
   "metadata": {},
   "outputs": [
    {
     "name": "stdout",
     "output_type": "stream",
     "text": [
      "3.14159265359\n",
      "3.141593\n"
     ]
    }
   ],
   "source": [
    "import math\n",
    "print(format(math.pi, '0.12g'))\n",
    "print(format(math.pi, '0.6f'))"
   ]
  },
  {
   "cell_type": "code",
   "execution_count": 7,
   "id": "b4a174a7",
   "metadata": {},
   "outputs": [
    {
     "data": {
      "text/plain": [
       "True"
      ]
     },
     "execution_count": 7,
     "metadata": {},
     "output_type": "execute_result"
    }
   ],
   "source": [
    "2**52 <= 2**56 // 10 < 2**53"
   ]
  },
  {
   "cell_type": "code",
   "execution_count": 8,
   "id": "21bdccd5",
   "metadata": {},
   "outputs": [
    {
     "name": "stdout",
     "output_type": "stream",
     "text": [
      "medium\n"
     ]
    }
   ],
   "source": [
    "# If statement\n",
    "x = 4\n",
    "if x < 1:\n",
    "    score = \"low\"\n",
    "elif x <= 4: # elif = else if\n",
    "    score = \"medium\"\n",
    "else:\n",
    "    score = \"high\"\n",
    "print (score)"
   ]
  },
  {
   "cell_type": "code",
   "execution_count": 9,
   "id": "454d1fcf",
   "metadata": {},
   "outputs": [
    {
     "name": "stdout",
     "output_type": "stream",
     "text": [
      "it worked\n"
     ]
    }
   ],
   "source": [
    "# If statement with a boolean\n",
    "x = True\n",
    "if x:\n",
    "    print (\"it worked\")"
   ]
  },
  {
   "cell_type": "code",
   "execution_count": 12,
   "id": "7f55c8ca",
   "metadata": {},
   "outputs": [
    {
     "name": "stdout",
     "output_type": "stream",
     "text": [
      "carrots\n",
      "beans\n"
     ]
    }
   ],
   "source": [
    "# For loop\n",
    "veggies = [\"carrots\", \"broccoli\", \"beans\"]\n",
    "for veggie in veggies:\n",
    "    if veggie == \"broccoli\":\n",
    "        continue\n",
    "    print(veggie)"
   ]
  },
  {
   "cell_type": "code",
   "execution_count": 13,
   "id": "cc0a5d61",
   "metadata": {},
   "outputs": [
    {
     "name": "stdout",
     "output_type": "stream",
     "text": [
      "[3, 'hello', 1.2]\n"
     ]
    }
   ],
   "source": [
    "# Creating a list\n",
    "x = [3, \"hello\", 1.2\n",
    "]\n",
    "print (x)"
   ]
  },
  {
   "cell_type": "code",
   "execution_count": 15,
   "id": "9e905774",
   "metadata": {},
   "outputs": [
    {
     "name": "stdout",
     "output_type": "stream",
     "text": [
      "(3.0, 'hello')\n"
     ]
    }
   ],
   "source": [
    "# Creating a tuple\n",
    "x = (3.0, \"hello\")\n",
    "# tuples start and end with ()\n",
    "print (x)"
   ]
  },
  {
   "cell_type": "code",
   "execution_count": 16,
   "id": "70c9dac8",
   "metadata": {},
   "outputs": [
    {
     "name": "stdout",
     "output_type": "stream",
     "text": [
      "{'S', 'P', 'H', 'T', 'N', 'D', ' ', 'I', 'O', 'Y'}\n",
      "{'IN', 'SDS', 'PYTHON'}\n"
     ]
    }
   ],
   "source": [
    "# Sets\n",
    "text = \"SDS IN PYTHON\"\n",
    "print (set(text))\n",
    "print (set(text.split(\" \")))"
   ]
  },
  {
   "cell_type": "code",
   "execution_count": 17,
   "id": "7bc54aac",
   "metadata": {},
   "outputs": [
    {
     "data": {
      "text/plain": [
       "['w', 'o', 'r', 'd']"
      ]
     },
     "execution_count": 17,
     "metadata": {},
     "output_type": "execute_result"
    }
   ],
   "source": [
    "# Grab every letter in string\n",
    "lst = [x for x in 'word']\n",
    "lst"
   ]
  },
  {
   "cell_type": "code",
   "execution_count": 18,
   "id": "6dfb6ae5",
   "metadata": {},
   "outputs": [
    {
     "data": {
      "text/plain": [
       "[0, 2, 4, 6, 8, 10]"
      ]
     },
     "execution_count": 18,
     "metadata": {},
     "output_type": "execute_result"
    }
   ],
   "source": [
    "# Check for even numbers in a range\n",
    "lst = [x for x in range(11) if x % 2 == 0]\n",
    "lst"
   ]
  },
  {
   "cell_type": "code",
   "execution_count": 22,
   "id": "ab44768b",
   "metadata": {},
   "outputs": [
    {
     "data": {
      "text/plain": [
       "[32.0, 50.0, 68.18, 94.1]"
      ]
     },
     "execution_count": 22,
     "metadata": {},
     "output_type": "execute_result"
    }
   ],
   "source": [
    "# Convert Celsius to Fahrenheit\n",
    "celsius = [0,10,20.1,34.5]\n",
    "fahrenheit = [ ((float(9)/5)*temp + 32) for temp in celsius ]\n",
    "fahrenheit"
   ]
  },
  {
   "cell_type": "code",
   "execution_count": 23,
   "id": "d54eebc6",
   "metadata": {},
   "outputs": [
    {
     "data": {
      "text/plain": [
       "[0, 1, 16, 81, 256, 625, 1296, 2401, 4096, 6561, 10000]"
      ]
     },
     "execution_count": 23,
     "metadata": {},
     "output_type": "execute_result"
    }
   ],
   "source": [
    "#nested list comprehension\n",
    "lst = [ x**2 for x in [x**2 for x in range(11)]]\n",
    "lst"
   ]
  },
  {
   "cell_type": "code",
   "execution_count": 24,
   "id": "6f29b61a",
   "metadata": {},
   "outputs": [
    {
     "name": "stdout",
     "output_type": "stream",
     "text": [
      "{'John': 938477566, 'Jack': 938377264, 'Jill': 947662781}\n"
     ]
    }
   ],
   "source": [
    "phonebook = { \"John\" : 938477566, \"Jack\" : 938377264, \"Jill\" : 947662781 }\n",
    "print(phonebook)"
   ]
  },
  {
   "cell_type": "code",
   "execution_count": 26,
   "id": "7982d8df",
   "metadata": {},
   "outputs": [
    {
     "name": "stdout",
     "output_type": "stream",
     "text": [
      "Phone number of John is 938477566\n",
      "Phone number of Jack is 938377264\n",
      "Phone number of Jill is 947662781\n"
     ]
    }
   ],
   "source": [
    "for name, number in phonebook.items():\n",
    "    print(\"Phone number of %s is %d\" % (name, number))"
   ]
  },
  {
   "cell_type": "code",
   "execution_count": 29,
   "id": "f4bf7c80",
   "metadata": {},
   "outputs": [],
   "source": [
    "# Define the function\n",
    "def add_two(x):\n",
    "    # explains what this function will do\n",
    "    x += 2\n",
    "    return x"
   ]
  },
  {
   "cell_type": "code",
   "execution_count": 32,
   "id": "9e8bad80",
   "metadata": {
    "scrolled": true
   },
   "outputs": [
    {
     "name": "stdout",
     "output_type": "stream",
     "text": [
      "x: 5, y: 2\n"
     ]
    }
   ],
   "source": [
    "def f(*args, **kwargs):\n",
    "    x = args[0]\n",
    "    y = kwargs.get(\"y\")\n",
    "    print (f\"x: {x}, y: {y}\")\n",
    "f(5, y=2)"
   ]
  },
  {
   "cell_type": "code",
   "execution_count": 6,
   "id": "80e804f6",
   "metadata": {
    "scrolled": true
   },
   "outputs": [
    {
     "name": "stdout",
     "output_type": "stream",
     "text": [
      "Beans\n",
      "Ban\n"
     ]
    }
   ],
   "source": [
    "veggies = [\"Beans\", \"Broc\", \"Ban\"]\n",
    "for veggie in veggies:\n",
    "    if \"Broc\" in veggie:\n",
    "        continue\n",
    "    print(veggie)"
   ]
  },
  {
   "cell_type": "code",
   "execution_count": 25,
   "id": "9464c6b2",
   "metadata": {},
   "outputs": [],
   "source": [
    "# Creating the class\n",
    "class Pet(object):\n",
    "    def __init__(self, species, name):\n",
    "        self.species = species\n",
    "        self.name = name\n",
    "        "
   ]
  },
  {
   "cell_type": "code",
   "execution_count": 26,
   "id": "c5894585",
   "metadata": {},
   "outputs": [
    {
     "name": "stdout",
     "output_type": "stream",
     "text": [
      "<__main__.Pet object at 0x000001C0C3099820>\n",
      "Scooby\n"
     ]
    }
   ],
   "source": [
    "# Creating an instance of a class\n",
    "my_dog = Pet(species=\"dog\",\n",
    "    name=\"Scooby\")\n",
    "\n",
    "print (my_dog)\n",
    "print (my_dog.name)"
   ]
  },
  {
   "cell_type": "code",
   "execution_count": 27,
   "id": "d50905c4",
   "metadata": {},
   "outputs": [],
   "source": [
    "# Creating the class\n",
    "class Pet(object):\n",
    "    def __init__(self, species, name):\n",
    "        self.species = species\n",
    "        self.name = name\n",
    "    def __str__(self):\n",
    "        return f\"{self.species} named {self.name}\""
   ]
  },
  {
   "cell_type": "code",
   "execution_count": 28,
   "id": "9ba06079",
   "metadata": {},
   "outputs": [
    {
     "name": "stdout",
     "output_type": "stream",
     "text": [
      "dog named Scooby\n",
      "Scooby\n"
     ]
    }
   ],
   "source": [
    "# Creating an instance of a class\n",
    "my_dog = Pet(species=\"dog\",\n",
    "    name=\"Scooby\")\n",
    "\n",
    "print (my_dog)\n",
    "print (my_dog.name)"
   ]
  },
  {
   "cell_type": "code",
   "execution_count": 29,
   "id": "1fc0b48a",
   "metadata": {},
   "outputs": [],
   "source": [
    "# Creating the class\n",
    "class Pet(object):\n",
    "    def __init__(self, species, name):\n",
    "        self.species = species\n",
    "        self.name = name\n",
    "    def __str__(self):\n",
    "        return f\"{self.species} named {self.name}\"\n",
    "    def change_name(self, new_name):\n",
    "        self.name = new_name"
   ]
  },
  {
   "cell_type": "code",
   "execution_count": 30,
   "id": "6c5dc31a",
   "metadata": {},
   "outputs": [
    {
     "name": "stdout",
     "output_type": "stream",
     "text": [
      "dog named Scooby\n",
      "Scooby\n"
     ]
    }
   ],
   "source": [
    "# Creating an instance of a class\n",
    "my_dog = Pet(species=\"dog\", name=\"Scooby\")\n",
    "print (my_dog)\n",
    "print (my_dog.name)"
   ]
  },
  {
   "cell_type": "code",
   "execution_count": 31,
   "id": "23b69e3a",
   "metadata": {},
   "outputs": [
    {
     "name": "stdout",
     "output_type": "stream",
     "text": [
      "dog named Scrappy\n",
      "Scrappy\n"
     ]
    }
   ],
   "source": [
    "# Using a class's function\n",
    "my_dog.change_name(new_name=\"Scrappy\")\n",
    "print (my_dog)\n",
    "print (my_dog.name)"
   ]
  },
  {
   "cell_type": "code",
   "execution_count": 32,
   "id": "747f86a5",
   "metadata": {},
   "outputs": [
    {
     "name": "stdout",
     "output_type": "stream",
     "text": [
      "A Great Dane doggo named Scooby\n"
     ]
    }
   ],
   "source": [
    "#Inheritance\n",
    "class Dog(Pet):\n",
    "    def __init__(self, name, breed):\n",
    "        super().__init__(species=\"dog\", name=name)\n",
    "        self.breed = breed\n",
    "    def __str__(self):\n",
    "        return f\"A {self.breed} doggo named {self.name}\"\n",
    "\n",
    "scooby = Dog(breed=\"Great Dane\", name=\"Scooby\")\n",
    "print (scooby)"
   ]
  },
  {
   "cell_type": "code",
   "execution_count": 22,
   "id": "f8f707a9",
   "metadata": {},
   "outputs": [
    {
     "name": "stdout",
     "output_type": "stream",
     "text": [
      "A Great Dane doggo named Scooby Doo\n"
     ]
    }
   ],
   "source": [
    "scooby.change_name(\"Scooby Doo\")\n",
    "print (scooby)"
   ]
  },
  {
   "cell_type": "markdown",
   "id": "593d988f",
   "metadata": {},
   "source": [
    "# Exercise"
   ]
  },
  {
   "cell_type": "markdown",
   "id": "ba55b040",
   "metadata": {},
   "source": [
    "1. Given two integer numbers, write a Python program to return their product. If the product is greater\n",
    "than 1000, then return their sum. Read inputs from the user."
   ]
  },
  {
   "cell_type": "code",
   "execution_count": 5,
   "id": "5c0eadcd",
   "metadata": {},
   "outputs": [
    {
     "name": "stdout",
     "output_type": "stream",
     "text": [
      "Product is less than 1000 so the sum of x1 & x2 : \n",
      "201\n"
     ]
    }
   ],
   "source": [
    "def action(x1,x2):\n",
    "    if(x1*x2 < 1000):\n",
    "        print(\"Product is: \")\n",
    "        return x1*x2\n",
    "    else:\n",
    "        print(\"Product is less than 1000 so the sum of x1 & x2 : \")\n",
    "        return x1+x2\n",
    "    \n",
    "x1 = int(input('Enter number x1: '))\n",
    "x2 = int(input('Enter number x2: '))\n",
    "\n",
    "print(action(x1,x2))"
   ]
  },
  {
   "cell_type": "markdown",
   "id": "e16f9573",
   "metadata": {},
   "source": [
    "2. Write a Python program to find the area and perimeter of a circle. Read inputs from the user."
   ]
  },
  {
   "cell_type": "code",
   "execution_count": 8,
   "id": "4ce413b0",
   "metadata": {},
   "outputs": [
    {
     "name": "stdout",
     "output_type": "stream",
     "text": [
      "Area of the circle is :  78.53981633974483\n",
      "Perimeter of the circle is :  31.41592653589793\n"
     ]
    }
   ],
   "source": [
    "import math\n",
    "\n",
    "def circle(radius):\n",
    "    area = math.pi*(radius*radius)\n",
    "    print(\"Area of the circle is : \",area)\n",
    "    perimeter = 2*math.pi*radius\n",
    "    print(\"Perimeter of the circle is : \",perimeter)\n",
    "\n",
    "radius= int(input(\"Enter the radius of the circle: \"))\n",
    "circle(radius)"
   ]
  },
  {
   "cell_type": "markdown",
   "id": "51a389be",
   "metadata": {},
   "source": [
    "3. Write a Python program to calculate the compound interest based on the given formula. Read inputs\n",
    "from the user.\n",
    "\n",
    "A = P * (1 + R/100)^T\n",
    "where P is the principle amount, R is the interest rate and T is time (in years).\n",
    "\n",
    "Define a function named as compound_interest_< your-student-id > in your program."
   ]
  },
  {
   "cell_type": "code",
   "execution_count": 1,
   "id": "61456665",
   "metadata": {},
   "outputs": [
    {
     "name": "stdout",
     "output_type": "stream",
     "text": [
      "Enter the principle amount:  23000\n",
      "Enter the interest rate: 10.5\n",
      "Enter the time(in years): 1\n",
      "Compound interest is :  25415.0\n"
     ]
    }
   ],
   "source": [
    "def compound_interest_2019_1_60_093(P,R,T):\n",
    "    return P * ((1 + R/100)**T)\n",
    "\n",
    "P=int(input(\"Enter the principle amount:  \"))\n",
    "\n",
    "R= float(input(\"Enter the interest rate: \"))\n",
    "\n",
    "T= int(input(\"Enter the time(in years): \"))\n",
    "\n",
    "A= compound_interest_2019_1_60_093(P,R,T)\n",
    "\n",
    "print(\"Compound interest is : \",A)"
   ]
  },
  {
   "cell_type": "markdown",
   "id": "5f13005e",
   "metadata": {},
   "source": [
    "4. Given a positive integer N (read from the user), write a Python program to calculate the value of the\n",
    "following series.\n",
    "1^2 + 2^2 + 3^2 + 4^2 .. .... +N^2"
   ]
  },
  {
   "cell_type": "code",
   "execution_count": 2,
   "id": "299aa9a5",
   "metadata": {},
   "outputs": [
    {
     "name": "stdout",
     "output_type": "stream",
     "text": [
      "Enter a number : 6\n",
      "Value of the following series:  91.0\n"
     ]
    }
   ],
   "source": [
    "def calculate_Value(N):\n",
    "    return (N*(N+1)*(2*N+1))/6\n",
    "\n",
    "N=int(input(\"Enter a number : \"))\n",
    "\n",
    "a=calculate_Value(N)\n",
    "\n",
    "print(\"Value of the following series: \",a)\n"
   ]
  },
  {
   "cell_type": "markdown",
   "id": "0a76d35b",
   "metadata": {},
   "source": [
    "5. Given a positive integer N (read from the user), write a Python program to check if the number is\n",
    "prime or not. Define a function named as prime_find_<your-student-id> in your program."
   ]
  },
  {
   "cell_type": "code",
   "execution_count": 7,
   "id": "c95db104",
   "metadata": {},
   "outputs": [
    {
     "name": "stdout",
     "output_type": "stream",
     "text": [
      "Enter a number: 1\n",
      "It's not a prime number\n"
     ]
    }
   ],
   "source": [
    "def prime_find_2019_1_60_093(num):\n",
    "    if num> 1:  \n",
    "        for n in range(2,num):  \n",
    "            if (num % n) == 0:  \n",
    "                print(\"It's not a prime number\")\n",
    "        print(\"It's a prime number\")\n",
    "    else:\n",
    "        print(\"It's not a prime number\")\n",
    "    \n",
    "n=int(input(\"Enter a number: \"))\n",
    "\n",
    "prime_find_2019_1_60_093(n)"
   ]
  },
  {
   "cell_type": "markdown",
   "id": "f5ca6688",
   "metadata": {},
   "source": [
    "6. Given a positive integer n (read from the user), write a Python program to find the n-th Fibonacci\n",
    "number based on the following assumptions.\n",
    "Fn = Fn-1 + Fn-2 where F0 = 0 and F1 = 1"
   ]
  },
  {
   "cell_type": "code",
   "execution_count": 11,
   "id": "031d5af7",
   "metadata": {},
   "outputs": [
    {
     "name": "stdout",
     "output_type": "stream",
     "text": [
      "Enter a number: 6\n",
      "6 th fibonacci number is :  8\n"
     ]
    }
   ],
   "source": [
    "def fibonacci(n):\n",
    "    if n==0:\n",
    "        return 0\n",
    "    \n",
    "    elif n==1:\n",
    "        return 1\n",
    "    \n",
    "    else:\n",
    "        return fibonacci(n-1)+fibonacci(n-2)\n",
    "\n",
    "n=int(input(\"Enter a number: \"))\n",
    "\n",
    "print(n,\"th fibonacci number is : \",fibonacci(n))"
   ]
  },
  {
   "cell_type": "markdown",
   "id": "22b3d8f7",
   "metadata": {},
   "source": [
    "7. Given a list of numbers (hardcoded in the program), write a Python program to calculate the sum of\n",
    "the list. Do not use any built-in function."
   ]
  },
  {
   "cell_type": "code",
   "execution_count": 16,
   "id": "54309014",
   "metadata": {},
   "outputs": [
    {
     "name": "stdout",
     "output_type": "stream",
     "text": [
      "37\n"
     ]
    }
   ],
   "source": [
    "list = [0,1,5,2,1,5,8,3,5,3,4]\n",
    "def do_sum(list):\n",
    "    sum=0 \n",
    "    for x in list:\n",
    "        sum+=x    \n",
    "    return sum\n",
    "\n",
    "print(do_sum(list))"
   ]
  },
  {
   "cell_type": "markdown",
   "id": "343bb977",
   "metadata": {},
   "source": [
    "8. Given a list of numbers (hardcoded in the program), write a Python program to calculate the sum of\n",
    "the even-indexed elements in the list."
   ]
  },
  {
   "cell_type": "code",
   "execution_count": 25,
   "id": "772afaf7",
   "metadata": {},
   "outputs": [
    {
     "name": "stdout",
     "output_type": "stream",
     "text": [
      "23\n"
     ]
    }
   ],
   "source": [
    "list = [0,1,5,2,1,5,8,3,5,3,4]\n",
    "def do_sum(list):\n",
    "    sum=0 \n",
    "    for i in range(len(list)):\n",
    "        if(i%2==0):\n",
    "            sum+=list[i]\n",
    "    return sum\n",
    "\n",
    "print(do_sum(list))"
   ]
  },
  {
   "cell_type": "markdown",
   "id": "e3279d1b",
   "metadata": {},
   "source": [
    "9. Given a list of numbers (hardcoded in the program), write a Python program to find the largest and\n",
    "smallest element of the list. Define two functions largest_number_< your-student-id > and\n",
    "smallest_number_< your-student-id > in your program. Do not use any built-in function."
   ]
  },
  {
   "cell_type": "code",
   "execution_count": 30,
   "id": "7391be24",
   "metadata": {},
   "outputs": [
    {
     "name": "stdout",
     "output_type": "stream",
     "text": [
      "largest number:  8 smallest number:  0\n"
     ]
    }
   ],
   "source": [
    "list = [0,1,5,2,1,5,8,3,5,3,4]\n",
    "\n",
    "def largest_number_2019_1_60_093(list):\n",
    "    max = -99999\n",
    "    for x in list:\n",
    "        if x > max:\n",
    "            max=x\n",
    "    return max\n",
    "def smallest_number_2019_1_60_093(list):\n",
    "    min = 99999\n",
    "    for x in list:\n",
    "        if x < min:\n",
    "            min = x\n",
    "    return min\n",
    "print(\"largest number: \",largest_number_2019_1_60_093(list), \"smallest number: \",smallest_number_2019_1_60_093(list))"
   ]
  },
  {
   "cell_type": "markdown",
   "id": "4343a60a",
   "metadata": {},
   "source": [
    "10. Given a list of numbers (hardcoded in the program), write a Python program to find the second\n",
    "largest element of the list."
   ]
  },
  {
   "cell_type": "code",
   "execution_count": 34,
   "id": "a963fc76",
   "metadata": {},
   "outputs": [
    {
     "name": "stdout",
     "output_type": "stream",
     "text": [
      "second largest number:  5\n"
     ]
    }
   ],
   "source": [
    "list = [0,1,5,2,1,5,8,3,5,3,4]\n",
    "list.sort()\n",
    "print(\"second largest number: \", list[len(list)-2])"
   ]
  },
  {
   "cell_type": "markdown",
   "id": "af2713a2",
   "metadata": {},
   "source": [
    "11. Given a string, display only those characters which are present at an even index number. Read inputs\n",
    "from the user."
   ]
  },
  {
   "cell_type": "code",
   "execution_count": 35,
   "id": "43c08754",
   "metadata": {},
   "outputs": [
    {
     "name": "stdout",
     "output_type": "stream",
     "text": [
      "Enter a string : Welcome to CSE303\n",
      "Characters present at an even index number are : \n",
      "Wloet S33"
     ]
    }
   ],
   "source": [
    "string=input(\"Enter a string : \")\n",
    "print(\"Characters present at an even index number are : \")\n",
    "for i in range(len(string)):\n",
    "    if i%2==0:\n",
    "        print(string[i] ,end=\"\")"
   ]
  },
  {
   "cell_type": "markdown",
   "id": "aa5e80ba",
   "metadata": {},
   "source": [
    "12. Given a string and an integer number n, remove characters from a string starting from zero up to n\n",
    "and return a new string. N must be less than the length of the string. Read inputs from the user. Do\n",
    "not use any built-in function."
   ]
  },
  {
   "cell_type": "code",
   "execution_count": 40,
   "id": "4163fcce",
   "metadata": {},
   "outputs": [
    {
     "name": "stdout",
     "output_type": "stream",
     "text": [
      "Enter a string: hello world\n",
      "Enter a number = 3\n",
      "New string is :  lo world\n"
     ]
    }
   ],
   "source": [
    "string=input(\"Enter a string: \")\n",
    "\n",
    "N=int(input(\"Enter a number = \"))\n",
    "\n",
    "new_string=\"\"\n",
    "i=0\n",
    "\n",
    "for i in range(len(string)):\n",
    "    if i>=N:\n",
    "        new_string=new_string+string[i]\n",
    "\n",
    "print(\"New string is : \",new_string)"
   ]
  },
  {
   "cell_type": "markdown",
   "id": "2716a29f",
   "metadata": {},
   "source": [
    "13. Given a string, find the count of the substring “CSE303” appeared in the given string. Do not use any\n",
    "built-in function."
   ]
  },
  {
   "cell_type": "code",
   "execution_count": 47,
   "id": "754a6007",
   "metadata": {},
   "outputs": [
    {
     "name": "stdout",
     "output_type": "stream",
     "text": [
      "The no of substring appeared:  2\n"
     ]
    }
   ],
   "source": [
    "string = 'CSE303 must be done before CSE366. Otherwise CSE303 will be dropped.'\n",
    "substring=\"CSE303\"\n",
    "\n",
    "def count_substring(string,substring):\n",
    "    count=0\n",
    "    for x in string.split():\n",
    "        if x == substring:\n",
    "            count+=1\n",
    "    return count\n",
    "print(\"The no of substring appeared: \",count_substring(string, substring))"
   ]
  },
  {
   "cell_type": "markdown",
   "id": "711cd72d",
   "metadata": {},
   "source": [
    "14. Given a string, write a python program to check if it is palindrome or not. Define a function named\n",
    "palindrome_checker_< your-student-id > in your program."
   ]
  },
  {
   "cell_type": "code",
   "execution_count": 49,
   "id": "c0e88f36",
   "metadata": {},
   "outputs": [
    {
     "name": "stdout",
     "output_type": "stream",
     "text": [
      "Enter a string :mom\n",
      "mom\n",
      "Palindrome\n"
     ]
    }
   ],
   "source": [
    "string= input(\"Enter a string :\")\n",
    "\n",
    "def palindrome_checker_2019_1_60_093(string):\n",
    "    s = \"\"\n",
    "    for i in string:\n",
    "        s = i + s\n",
    "    print(s)\n",
    "    if string==s:\n",
    "        print(\"Palindrome\")\n",
    "    else:\n",
    "        print(\"Not a palindrome\")\n",
    "\n",
    "palindrome_checker_2019_1_60_093(string)"
   ]
  },
  {
   "cell_type": "markdown",
   "id": "04cc95e0",
   "metadata": {},
   "source": [
    "15. Given a two list of numbers (hardcoded in the program), create a new list such that new list should\n",
    "contain only odd numbers from the first list and even numbers from the second list."
   ]
  },
  {
   "cell_type": "code",
   "execution_count": 60,
   "id": "315bd6d6",
   "metadata": {},
   "outputs": [
    {
     "name": "stdout",
     "output_type": "stream",
     "text": [
      "Odd numbers from list1 : [1, 5, 1, 5, 3, 5, 3]\n",
      "Even numbers from list 2 : [0, 0, 6, 0, 0]\n",
      "New List:  [1, 5, 1, 5, 3, 5, 3, 0, 0, 6, 0, 0]\n"
     ]
    },
    {
     "data": {
      "text/plain": [
       "[1, 5, 1, 5, 3, 5, 3, 0, 0, 6, 0, 0]"
      ]
     },
     "execution_count": 60,
     "metadata": {},
     "output_type": "execute_result"
    }
   ],
   "source": [
    "list1=[0,1,5,2,1,5,8,3,5,3,4]\n",
    "list2=[0,1,3,0,6,9,9,9,0,0,5]\n",
    "\n",
    "even=[]\n",
    "odd=[]\n",
    "new_list=[]\n",
    "\n",
    "def extract_new_list(list1,list2):\n",
    "    for i in list1:\n",
    "        if i%2!=0:\n",
    "            odd.append(i)\n",
    "            new_list.append(i)\n",
    "    print(\"Odd numbers from list1 :\",odd)\n",
    "    \n",
    "    for i in list2:\n",
    "        if i%2==0:\n",
    "            even.append(i)\n",
    "            new_list.append(i)\n",
    "    print(\"Even numbers from list 2 :\",even)\n",
    "    \n",
    "    print(\"New List: \",new_list)\n",
    "    \n",
    "    return new_list\n",
    "    \n",
    "extract_new_list(list1,list2)"
   ]
  }
 ],
 "metadata": {
  "kernelspec": {
   "display_name": "Python 3",
   "language": "python",
   "name": "python3"
  },
  "language_info": {
   "codemirror_mode": {
    "name": "ipython",
    "version": 3
   },
   "file_extension": ".py",
   "mimetype": "text/x-python",
   "name": "python",
   "nbconvert_exporter": "python",
   "pygments_lexer": "ipython3",
   "version": "3.8.8"
  }
 },
 "nbformat": 4,
 "nbformat_minor": 5
}
