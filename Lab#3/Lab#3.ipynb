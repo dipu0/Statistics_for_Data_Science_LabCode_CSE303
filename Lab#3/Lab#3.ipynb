{
 "cells": [
  {
   "cell_type": "markdown",
   "id": "71265099",
   "metadata": {},
   "source": [
    "<br>\n",
    "<div style=\"font-style: bold; text-align: center;\">\n",
    "<img src=\"https://www.ewubd.edu/themes/east-west-university/assets/default/images/logo.png\" alt=\"ERROR\" title=\"EWULOGO\" width=\":5.72917in\"/><br>Department of Computer Science & Engineering\n",
    "<br><br><br>\n",
    "</div>\n",
    "<br><br>\n",
    "<div style=\"font-style:underline; text-align: center;\" markdown=\"1\">\n",
    "\n",
    "# Lab Report – 3\n",
    "<br><br>\n",
    "<br><br>\n",
    "\n",
    "</div>\n",
    "\n",
    "\n",
    "<div style=\"font-style: bold; text-align: left;\" markdown=\"1\">\n",
    "\n",
    "## Semester : Spring 2022\n",
    "\n",
    "## Course Number : CSE303\n",
    "\n",
    "## Course Title : Statistics for Data Science\n",
    "\n",
    "## Course Instructor : Md Al-Imran\n",
    "\n",
    "<br><br>\n",
    "<br><br>\n",
    "<br><br>\n",
    "<br><br>\n",
    "\n",
    "## > student ID: 2019-1-60-093\n",
    "## > Student Name: Md. Asad Chowdhury Dipu\n",
    "## > Section: 03\n",
    "## > Date Of Submission: 9/03/2022\n",
    "<br>\n",
    "</div>\n",
    "<br>"
   ]
  },
  {
   "cell_type": "markdown",
   "id": "37b9b808",
   "metadata": {},
   "source": [
    "## Pandas Series"
   ]
  },
  {
   "cell_type": "code",
   "execution_count": 1,
   "id": "ba83a05c",
   "metadata": {},
   "outputs": [],
   "source": [
    "import pandas as pd"
   ]
  },
  {
   "cell_type": "code",
   "execution_count": 2,
   "id": "6754f1de",
   "metadata": {
    "scrolled": true
   },
   "outputs": [
    {
     "data": {
      "text/plain": [
       "0     4\n",
       "1    10\n",
       "2    -5\n",
       "3    15\n",
       "dtype: int64"
      ]
     },
     "execution_count": 2,
     "metadata": {},
     "output_type": "execute_result"
    }
   ],
   "source": [
    "obj = pd.Series([4,10,-5,15])\n",
    "obj"
   ]
  },
  {
   "cell_type": "code",
   "execution_count": 3,
   "id": "6d694f12",
   "metadata": {},
   "outputs": [
    {
     "data": {
      "text/plain": [
       "0     6\n",
       "1    12\n",
       "2    -3\n",
       "3    17\n",
       "dtype: int64"
      ]
     },
     "execution_count": 3,
     "metadata": {},
     "output_type": "execute_result"
    }
   ],
   "source": [
    "obj +2"
   ]
  },
  {
   "cell_type": "code",
   "execution_count": 4,
   "id": "5f08fdfb",
   "metadata": {
    "scrolled": true
   },
   "outputs": [
    {
     "data": {
      "text/plain": [
       "0     8\n",
       "1    20\n",
       "2   -10\n",
       "3    30\n",
       "dtype: int64"
      ]
     },
     "execution_count": 4,
     "metadata": {},
     "output_type": "execute_result"
    }
   ],
   "source": [
    "obj*2"
   ]
  },
  {
   "cell_type": "code",
   "execution_count": 5,
   "id": "06503fff",
   "metadata": {
    "scrolled": true
   },
   "outputs": [
    {
     "data": {
      "text/plain": [
       "0    0\n",
       "1    0\n",
       "2    1\n",
       "3    1\n",
       "dtype: int64"
      ]
     },
     "execution_count": 5,
     "metadata": {},
     "output_type": "execute_result"
    }
   ],
   "source": [
    "obj%2"
   ]
  },
  {
   "cell_type": "code",
   "execution_count": 6,
   "id": "d66e034f",
   "metadata": {},
   "outputs": [
    {
     "data": {
      "text/plain": [
       "0     4\n",
       "1    10\n",
       "dtype: int64"
      ]
     },
     "execution_count": 6,
     "metadata": {},
     "output_type": "execute_result"
    }
   ],
   "source": [
    "obj[obj%2==0]"
   ]
  },
  {
   "cell_type": "code",
   "execution_count": 7,
   "id": "a2e54dd1",
   "metadata": {},
   "outputs": [
    {
     "name": "stdout",
     "output_type": "stream",
     "text": [
      "Ohio      35000\n",
      "Texas     71000\n",
      "Oregon    16000\n",
      "Utah       5000\n",
      "dtype: int64\n"
     ]
    }
   ],
   "source": [
    "sdata = {'Ohio': 35000, 'Texas': 71000, 'Oregon': 16000,\n",
    "'Utah': 5000}\n",
    "obj3 = pd.Series(sdata)\n",
    "print(obj3)"
   ]
  },
  {
   "cell_type": "code",
   "execution_count": 8,
   "id": "f8e33e36",
   "metadata": {
    "scrolled": true
   },
   "outputs": [
    {
     "data": {
      "text/plain": [
       "EWU     1212\n",
       "DU      1211\n",
       "KUET    7454\n",
       "KU      7456\n",
       "dtype: int64"
      ]
     },
     "execution_count": 8,
     "metadata": {},
     "output_type": "execute_result"
    }
   ],
   "source": [
    "data = {\"EWU\":1212, \"DU\":1211, \"KUET\":7455, \"KU\":7456,\"KUET\":7454}\n",
    "obj1=pd.Series(data)\n",
    "obj1"
   ]
  },
  {
   "cell_type": "markdown",
   "id": "5601180f",
   "metadata": {},
   "source": [
    "## Pandas DataFrame"
   ]
  },
  {
   "cell_type": "code",
   "execution_count": 9,
   "id": "3fe3bf80",
   "metadata": {
    "scrolled": true
   },
   "outputs": [
    {
     "name": "stdout",
     "output_type": "stream",
     "text": [
      "        0   1     2       3\n",
      "0   Sujon  12   3.5  10.000\n",
      "1  Mehedi  20  15.0  13.500\n",
      "2  Kashem  11  13.0   7.688\n"
     ]
    }
   ],
   "source": [
    "#From List\n",
    "list1 = [['Sujon',12,3.5,10],['Mehedi',20,15,13.5],['Kashem',11,13,7.688]]\n",
    "df = pd.DataFrame(list1)\n",
    "print(df.head())"
   ]
  },
  {
   "cell_type": "code",
   "execution_count": 10,
   "id": "7231b172",
   "metadata": {},
   "outputs": [
    {
     "name": "stdout",
     "output_type": "stream",
     "text": [
      "      name  age  cgpa  hoursStudied\n",
      "0    Alice   23   3.5            10\n",
      "1      Bob   24   3.4             6\n",
      "2  Charlie   22   3.9             8\n"
     ]
    }
   ],
   "source": [
    "list1 = [['Alice',23,3.5,10],['Bob',24,3.4,6],['Charlie',22,3.9,8]]\n",
    "df = pd.DataFrame(list1)\n",
    "df.columns = ['name','age','cgpa','hoursStudied']\n",
    "print(df.head())"
   ]
  },
  {
   "cell_type": "code",
   "execution_count": 11,
   "id": "a361c41d",
   "metadata": {
    "scrolled": true
   },
   "outputs": [
    {
     "name": "stdout",
     "output_type": "stream",
     "text": [
      "   id     name  age\n",
      "0   1    alice   20\n",
      "1   2      bob   25\n",
      "2   3  charlie   32\n"
     ]
    }
   ],
   "source": [
    "#From Dictionary\n",
    "dict1 = {'id':[1,2,3],'name':['alice','bob','charlie'],'age':[20, 25, 32]}\n",
    "df1 = pd.DataFrame(dict1)\n",
    "print(df1)"
   ]
  },
  {
   "cell_type": "code",
   "execution_count": 12,
   "id": "a322a8bf",
   "metadata": {},
   "outputs": [
    {
     "name": "stdout",
     "output_type": "stream",
     "text": [
      "   id        state  population  murder_rate\n",
      "0   1      Alabama     4779736          5.7\n",
      "1   2       Alaska      710231          5.6\n",
      "2   3      Arizona     6392017          4.7\n",
      "3   4     Arkansas     2915918          5.6\n",
      "4   5   California    37253956          4.4\n",
      "5   6     Colorado     5029196          2.8\n",
      "6   7  Connecticut     3574097          2.4\n",
      "7   8     Delaware      897934          5.8\n"
     ]
    },
    {
     "data": {
      "text/plain": [
       "id             8\n",
       "state          8\n",
       "population     8\n",
       "murder_rate    8\n",
       "dtype: int64"
      ]
     },
     "execution_count": 12,
     "metadata": {},
     "output_type": "execute_result"
    }
   ],
   "source": [
    "#From CSV File\n",
    "df2 = pd.read_csv('sample_data_1.csv', header = None)\n",
    "df2.columns=['id','state','population','murder_rate']\n",
    "print(df2)\n",
    "df2.head() # displays first 5 rows\n",
    "df2.tail() # displays last 5 rows\n",
    "df2.count() # displays number of values for each column"
   ]
  },
  {
   "cell_type": "code",
   "execution_count": 13,
   "id": "aba395e3",
   "metadata": {},
   "outputs": [
    {
     "name": "stdout",
     "output_type": "stream",
     "text": [
      "1\n",
      "alice\n"
     ]
    }
   ],
   "source": [
    "#Seleting the first cell\n",
    "print(df1.iloc[0][0])\n",
    "print(df1.loc[0]['name'])"
   ]
  },
  {
   "cell_type": "code",
   "execution_count": 14,
   "id": "15db6b16",
   "metadata": {},
   "outputs": [
    {
     "name": "stdout",
     "output_type": "stream",
     "text": [
      "      name  cgpa\n",
      "0    Alice   3.5\n",
      "1      Bob   3.4\n",
      "2  Charlie   3.9\n"
     ]
    }
   ],
   "source": [
    "#Selecting a few columns\n",
    "df3=df[['name','cgpa']]\n",
    "print(df3)"
   ]
  },
  {
   "cell_type": "code",
   "execution_count": 15,
   "id": "ec9d041d",
   "metadata": {},
   "outputs": [
    {
     "name": "stdout",
     "output_type": "stream",
     "text": [
      "   id     name  age\n",
      "1   2      bob   25\n",
      "2   3  charlie   32\n",
      "   id     name  age\n",
      "1   2      bob   25\n",
      "2   3  charlie   32\n"
     ]
    }
   ],
   "source": [
    "#selecting a few rows\n",
    "df4 = df1.loc[1:2]\n",
    "print(df4)\n",
    "df5 = df1.iloc[1:3]\n",
    "print(df5)"
   ]
  },
  {
   "cell_type": "code",
   "execution_count": 16,
   "id": "bb5be656",
   "metadata": {},
   "outputs": [
    {
     "name": "stdout",
     "output_type": "stream",
     "text": [
      "      name  age\n",
      "1      bob   25\n",
      "2  charlie   32\n",
      "   id     name\n",
      "1   2      bob\n",
      "2   3  charlie\n"
     ]
    }
   ],
   "source": [
    "#selecting a few rows and columns\n",
    "df4 = df1.loc[1:2,['name','age']]\n",
    "print(df4)\n",
    "df5 = df1.iloc[1:3,[0,1]]\n",
    "print(df5)"
   ]
  },
  {
   "cell_type": "code",
   "execution_count": 17,
   "id": "fc08c940",
   "metadata": {
    "scrolled": true
   },
   "outputs": [
    {
     "name": "stdout",
     "output_type": "stream",
     "text": [
      "      name  age  cgpa  hoursStudied\n",
      "0    Alice   23  3.50            10\n",
      "1      Bob   24  3.40             6\n",
      "2  Charlie   22  3.90             8\n",
      "3      Don   21  2.50             2\n",
      "4    Elton   25  2.75             4\n"
     ]
    }
   ],
   "source": [
    "#appending two dataframes\n",
    "list1 = [['Alice',23,3.5,10],['Bob',24,3.4,6],['Charlie',22,3.9,8]]\n",
    "df = pd.DataFrame(list1)\n",
    "df.columns = ['name','age','cgpa','hoursStudied']\n",
    "list2 = [['Don',21,2.5,2],['Elton',25,2.75,4]]\n",
    "df11 = pd.DataFrame(list2)\n",
    "df11.columns = ['name','age','cgpa','hoursStudied']\n",
    "df12 = df.append(df11, ignore_index=True)\n",
    "print(df12)"
   ]
  },
  {
   "cell_type": "code",
   "execution_count": 18,
   "id": "8e20e1c6",
   "metadata": {},
   "outputs": [],
   "source": [
    "#deleting rows/columns from a dataframe\n",
    "df12.drop([0,1], inplace=True)\n",
    "df12.drop(['cgpa'], axis=1, inplace=True)"
   ]
  },
  {
   "cell_type": "code",
   "execution_count": 19,
   "id": "6d535e1b",
   "metadata": {},
   "outputs": [
    {
     "name": "stdout",
     "output_type": "stream",
     "text": [
      "         n   a  hs\n",
      "2  Charlie  22   8\n",
      "3      Don  21   2\n",
      "4    Elton  25   4\n"
     ]
    }
   ],
   "source": [
    "#Renaming columns\n",
    "new_cols = ['n','a','hs']\n",
    "df12.columns=new_cols\n",
    "print(df12)"
   ]
  },
  {
   "cell_type": "markdown",
   "id": "2d272597",
   "metadata": {},
   "source": [
    "# Data Filtering, Sorting"
   ]
  },
  {
   "cell_type": "code",
   "execution_count": 20,
   "id": "53d1771d",
   "metadata": {},
   "outputs": [
    {
     "name": "stdout",
     "output_type": "stream",
     "text": [
      "      name  age  cgpa  hoursStudied\n",
      "2  Charlie   22   3.9             8\n",
      "      name  age  cgpa  hoursStudied\n",
      "2  Charlie   22   3.9             8\n",
      "      name  age  cgpa  hoursStudied\n",
      "2  Charlie   22   3.9             8\n"
     ]
    },
    {
     "data": {
      "text/html": [
       "<div>\n",
       "<style scoped>\n",
       "    .dataframe tbody tr th:only-of-type {\n",
       "        vertical-align: middle;\n",
       "    }\n",
       "\n",
       "    .dataframe tbody tr th {\n",
       "        vertical-align: top;\n",
       "    }\n",
       "\n",
       "    .dataframe thead th {\n",
       "        text-align: right;\n",
       "    }\n",
       "</style>\n",
       "<table border=\"1\" class=\"dataframe\">\n",
       "  <thead>\n",
       "    <tr style=\"text-align: right;\">\n",
       "      <th></th>\n",
       "      <th>id</th>\n",
       "      <th>name</th>\n",
       "      <th>age</th>\n",
       "    </tr>\n",
       "  </thead>\n",
       "  <tbody>\n",
       "    <tr>\n",
       "      <th>2</th>\n",
       "      <td>3</td>\n",
       "      <td>charlie</td>\n",
       "      <td>32</td>\n",
       "    </tr>\n",
       "    <tr>\n",
       "      <th>1</th>\n",
       "      <td>2</td>\n",
       "      <td>bob</td>\n",
       "      <td>25</td>\n",
       "    </tr>\n",
       "    <tr>\n",
       "      <th>0</th>\n",
       "      <td>1</td>\n",
       "      <td>alice</td>\n",
       "      <td>20</td>\n",
       "    </tr>\n",
       "  </tbody>\n",
       "</table>\n",
       "</div>"
      ],
      "text/plain": [
       "   id     name  age\n",
       "2   3  charlie   32\n",
       "1   2      bob   25\n",
       "0   1    alice   20"
      ]
     },
     "execution_count": 20,
     "metadata": {},
     "output_type": "execute_result"
    }
   ],
   "source": [
    "cgpa_greater_than_three_point_five1 = df[df['cgpa'] > 3.5]\n",
    "cgpa_greater_than_three_point_five2 = df.loc[df['cgpa'] > 3.5]\n",
    "cgpa_greater_than_three_point_five3 = df.query('cgpa > 3.5')\n",
    "print(cgpa_greater_than_three_point_five1)\n",
    "print(cgpa_greater_than_three_point_five2)\n",
    "print(cgpa_greater_than_three_point_five3)\n",
    "df1.sort_values(by='age',ascending=False)"
   ]
  },
  {
   "cell_type": "code",
   "execution_count": 21,
   "id": "36cedf7e",
   "metadata": {
    "scrolled": true
   },
   "outputs": [
    {
     "name": "stdout",
     "output_type": "stream",
     "text": [
      "   id        state  population  murder_rate\n",
      "0   1      Alabama     4779736          5.7\n",
      "1   2       Alaska      710231          5.6\n",
      "2   3      Arizona     6392017          4.7\n",
      "3   4     Arkansas     2915918          5.6\n",
      "4   5   California    37253956          4.4\n",
      "5   6     Colorado     5029196          2.8\n",
      "6   7  Connecticut     3574097          2.4\n",
      "7   8     Delaware      897934          5.8\n"
     ]
    }
   ],
   "source": [
    "print(df2)"
   ]
  },
  {
   "cell_type": "markdown",
   "id": "5aaa3795",
   "metadata": {},
   "source": [
    "# Computing Descriptive Statistical Measures"
   ]
  },
  {
   "cell_type": "code",
   "execution_count": 22,
   "id": "18e597bd",
   "metadata": {
    "scrolled": false
   },
   "outputs": [
    {
     "name": "stdout",
     "output_type": "stream",
     "text": [
      "Mean:  murder_rate    4.625\n",
      "dtype: float64\n",
      "Standard Deviation:  murder_rate    1.350926\n",
      "dtype: float64\n",
      "Variance:  murder_rate    1.825\n",
      "dtype: float64\n",
      "Lower Quartile:  murder_rate    4.0\n",
      "Name: 0.25, dtype: float64\n",
      "Median:  murder_rate    5.15\n",
      "Name: 0.5, dtype: float64\n",
      "Median:  murder_rate    5.15\n",
      "dtype: float64\n",
      "Upper Quartile:  murder_rate    5.625\n",
      "Name: 0.75, dtype: float64\n",
      "Skewness:  murder_rate   -0.956943\n",
      "dtype: float64\n",
      "Kurtosis:  murder_rate   -0.715116\n",
      "dtype: float64\n",
      "Min:  murder_rate    2.4\n",
      "dtype: float64\n",
      "Max:  murder_rate    5.8\n",
      "dtype: float64\n"
     ]
    }
   ],
   "source": [
    "murder_rate = df2[['murder_rate']]\n",
    "print(\"Mean: \" ,murder_rate.mean())\n",
    "print(\"Standard Deviation: \",murder_rate.std())\n",
    "print(\"Variance: \",murder_rate.var())\n",
    "print(\"Lower Quartile: \" ,murder_rate.quantile(0.25))\n",
    "print(\"Median: \",murder_rate.quantile(0.5))\n",
    "print(\"Median: \" ,murder_rate.median())\n",
    "print(\"Upper Quartile: \" ,murder_rate.quantile(0.75))\n",
    "print(\"Skewness: \" ,murder_rate.skew())\n",
    "print(\"Kurtosis: \" ,murder_rate.kurt())\n",
    "print(\"Min: \",murder_rate.min())\n",
    "print(\"Max: \",murder_rate.max())"
   ]
  },
  {
   "cell_type": "markdown",
   "id": "1e94da8b",
   "metadata": {},
   "source": [
    "# Visualization"
   ]
  },
  {
   "cell_type": "code",
   "execution_count": 23,
   "id": "6835ee74",
   "metadata": {
    "scrolled": false
   },
   "outputs": [
    {
     "data": {
      "text/plain": [
       "<AxesSubplot:ylabel='murder_rate'>"
      ]
     },
     "execution_count": 23,
     "metadata": {},
     "output_type": "execute_result"
    },
    {
     "data": {
      "image/png": "[encoded data removed]",
      "text/plain": [
       "<Figure size 432x288 with 1 Axes>"
      ]
     },
     "metadata": {},
     "output_type": "display_data"
    }
   ],
   "source": [
    "df2['murder_rate'].value_counts().plot(kind = 'pie')"
   ]
  },
  {
   "cell_type": "code",
   "execution_count": 24,
   "id": "b72629c3",
   "metadata": {
    "scrolled": false
   },
   "outputs": [
    {
     "data": {
      "text/plain": [
       "array([[<AxesSubplot:title={'center':'murder_rate'}>]], dtype=object)"
      ]
     },
     "execution_count": 24,
     "metadata": {},
     "output_type": "execute_result"
    },
    {
     "data": {
      "image/png": "[encoded data removed]",
      "text/plain": [
       "<Figure size 432x288 with 1 Axes>"
      ]
     },
     "metadata": {
      "needs_background": "light"
     },
     "output_type": "display_data"
    }
   ],
   "source": [
    "df2.hist(column=['murder_rate'], bins = 5)"
   ]
  },
  {
   "cell_type": "code",
   "execution_count": 25,
   "id": "fdb04fd2",
   "metadata": {},
   "outputs": [
    {
     "data": {
      "text/plain": [
       "<AxesSubplot:>"
      ]
     },
     "execution_count": 25,
     "metadata": {},
     "output_type": "execute_result"
    },
    {
     "data": {
      "image/png": "[encoded data removed]",
      "text/plain": [
       "<Figure size 432x288 with 1 Axes>"
      ]
     },
     "metadata": {
      "needs_background": "light"
     },
     "output_type": "display_data"
    }
   ],
   "source": [
    "df2['murder_rate'].value_counts().plot(kind = 'bar')"
   ]
  },
  {
   "cell_type": "code",
   "execution_count": 26,
   "id": "c784a8be",
   "metadata": {},
   "outputs": [
    {
     "data": {
      "text/plain": [
       "<AxesSubplot:xlabel='state', ylabel='murder_rate'>"
      ]
     },
     "execution_count": 26,
     "metadata": {},
     "output_type": "execute_result"
    },
    {
     "data": {
      "image/png": "[encoded data removed]",
      "text/plain": [
       "<Figure size 432x288 with 1 Axes>"
      ]
     },
     "metadata": {
      "needs_background": "light"
     },
     "output_type": "display_data"
    }
   ],
   "source": [
    "df2.plot.scatter(x='state',y='murder_rate')"
   ]
  },
  {
   "cell_type": "code",
   "execution_count": 27,
   "id": "02a2aa2d",
   "metadata": {
    "scrolled": false
   },
   "outputs": [
    {
     "data": {
      "text/plain": [
       "<AxesSubplot:>"
      ]
     },
     "execution_count": 27,
     "metadata": {},
     "output_type": "execute_result"
    },
    {
     "data": {
      "image/png": "[encoded data removed]",
      "text/plain": [
       "<Figure size 432x288 with 1 Axes>"
      ]
     },
     "metadata": {
      "needs_background": "light"
     },
     "output_type": "display_data"
    }
   ],
   "source": [
    "df2.boxplot(column=['population','murder_rate'])"
   ]
  },
  {
   "cell_type": "markdown",
   "id": "c0eff7fc",
   "metadata": {},
   "source": [
    "# Weather "
   ]
  },
  {
   "cell_type": "code",
   "execution_count": 28,
   "id": "a5fc36f6",
   "metadata": {},
   "outputs": [
    {
     "name": "stdout",
     "output_type": "stream",
     "text": [
      "<class 'pandas.core.frame.DataFrame'>\n",
      "     outlook   temperature   humidity   windy  play\n",
      "0      sunny            85         85   False    no\n",
      "1      sunny            80         90    True    no\n",
      "2   overcast            83         86   False   yes\n",
      "3      rainy            70         96   False   yes\n",
      "4      rainy            68         80   False   yes\n",
      "5      rainy            65         70    True    no\n",
      "6   overcast            64         65    True   yes\n",
      "7      sunny            72         95   False    no\n",
      "8      sunny            69         70   False   yes\n",
      "9      rainy            75         80   False   yes\n",
      "10     sunny            75         70    True   yes\n",
      "11  overcast            72         90    True   yes\n",
      "12  overcast            81         75   False   yes\n",
      "13     rainy            71         91    True    no\n",
      "14     rainy           100         70    True    no\n",
      "15     sunny            45         70    True    no\n"
     ]
    }
   ],
   "source": [
    "df = pd.read_csv('weather.csv')\n",
    "print(type(df))\n",
    "print(df)"
   ]
  },
  {
   "cell_type": "code",
   "execution_count": 29,
   "id": "601ad104",
   "metadata": {},
   "outputs": [
    {
     "name": "stdout",
     "output_type": "stream",
     "text": [
      "    outlook   temperature   humidity   windy  play\n",
      "0     sunny            85         85   False    no\n",
      "1     sunny            80         90    True    no\n",
      "2  overcast            83         86   False   yes\n",
      "3     rainy            70         96   False   yes\n",
      "4     rainy            68         80   False   yes\n"
     ]
    }
   ],
   "source": [
    "# first 5 records\n",
    "print(df.head())"
   ]
  },
  {
   "cell_type": "code",
   "execution_count": 30,
   "id": "3c06b67b",
   "metadata": {},
   "outputs": [
    {
     "name": "stdout",
     "output_type": "stream",
     "text": [
      "     outlook   temperature   humidity   windy  play\n",
      "11  overcast            72         90    True   yes\n",
      "12  overcast            81         75   False   yes\n",
      "13     rainy            71         91    True    no\n",
      "14     rainy           100         70    True    no\n",
      "15     sunny            45         70    True    no\n"
     ]
    }
   ],
   "source": [
    "# last 5 records\n",
    "print(df.tail())"
   ]
  },
  {
   "cell_type": "code",
   "execution_count": 31,
   "id": "b34b3f9d",
   "metadata": {},
   "outputs": [
    {
     "name": "stdout",
     "output_type": "stream",
     "text": [
      "        temperature   humidity\n",
      "count     16.000000   16.00000\n",
      "mean      73.437500   80.18750\n",
      "std       11.764176   10.36802\n",
      "min       45.000000   65.00000\n",
      "25%       68.750000   70.00000\n",
      "50%       72.000000   80.00000\n",
      "75%       80.250000   90.00000\n",
      "max      100.000000   96.00000\n"
     ]
    }
   ],
   "source": [
    "# description of the dataset\n",
    "print(df.describe())"
   ]
  },
  {
   "cell_type": "code",
   "execution_count": 32,
   "id": "debf9858",
   "metadata": {},
   "outputs": [],
   "source": [
    "df.columns = ['outlook','temperature','humidity','windy','play']"
   ]
  },
  {
   "cell_type": "code",
   "execution_count": 33,
   "id": "9adf21b0",
   "metadata": {},
   "outputs": [
    {
     "name": "stdout",
     "output_type": "stream",
     "text": [
      "<class 'pandas.core.series.Series'>\n",
      "0      85\n",
      "1      80\n",
      "2      83\n",
      "3      70\n",
      "4      68\n",
      "5      65\n",
      "6      64\n",
      "7      72\n",
      "8      69\n",
      "9      75\n",
      "10     75\n",
      "11     72\n",
      "12     81\n",
      "13     71\n",
      "14    100\n",
      "15     45\n",
      "Name: temperature, dtype: int64\n"
     ]
    }
   ],
   "source": [
    "# Series\n",
    "t = df['temperature']\n",
    "print(type(t))\n",
    "print(t)"
   ]
  },
  {
   "cell_type": "code",
   "execution_count": 34,
   "id": "33c87610",
   "metadata": {},
   "outputs": [
    {
     "name": "stdout",
     "output_type": "stream",
     "text": [
      "1175\n"
     ]
    }
   ],
   "source": [
    "sum = 0\n",
    "for value in t:\n",
    "    sum+=value\n",
    "print(sum)"
   ]
  },
  {
   "cell_type": "code",
   "execution_count": 35,
   "id": "03d90ce9",
   "metadata": {},
   "outputs": [
    {
     "name": "stdout",
     "output_type": "stream",
     "text": [
      "    temperature  humidity\n",
      "0            85        85\n",
      "1            80        90\n",
      "2            83        86\n",
      "3            70        96\n",
      "4            68        80\n",
      "5            65        70\n",
      "6            64        65\n",
      "7            72        95\n",
      "8            69        70\n",
      "9            75        80\n",
      "10           75        70\n",
      "11           72        90\n",
      "12           81        75\n",
      "13           71        91\n",
      "14          100        70\n",
      "15           45        70\n"
     ]
    }
   ],
   "source": [
    "df1 = df[['temperature','humidity']]\n",
    "print(df1)"
   ]
  },
  {
   "cell_type": "code",
   "execution_count": 36,
   "id": "9f4223a8",
   "metadata": {
    "scrolled": true
   },
   "outputs": [
    {
     "name": "stdout",
     "output_type": "stream",
     "text": [
      "   temperature  humidity\n",
      "0           85        85\n",
      "1           80        90\n",
      "2           83        86\n",
      "3           70        96\n",
      "4           68        80\n",
      "5           65        70\n",
      "6           64        65\n",
      "7           72        95\n",
      "8           69        70\n",
      "9           75        80\n"
     ]
    }
   ],
   "source": [
    "df2 = df.loc[0:9,['temperature','humidity']]\n",
    "print(df2)"
   ]
  },
  {
   "cell_type": "code",
   "execution_count": 37,
   "id": "1e1a0356",
   "metadata": {},
   "outputs": [
    {
     "name": "stdout",
     "output_type": "stream",
     "text": [
      "   temperature  humidity\n",
      "0           85        85\n",
      "1           80        90\n",
      "2           83        86\n",
      "3           70        96\n",
      "4           68        80\n",
      "5           65        70\n",
      "6           64        65\n",
      "7           72        95\n",
      "8           69        70\n",
      "9           75        80\n"
     ]
    }
   ],
   "source": [
    "df3 = df.iloc[0:10,[1,2]]\n",
    "print(df3)"
   ]
  },
  {
   "cell_type": "code",
   "execution_count": 38,
   "id": "ef4ab148",
   "metadata": {
    "scrolled": true
   },
   "outputs": [
    {
     "name": "stdout",
     "output_type": "stream",
     "text": [
      "     outlook  temperature  windy\n",
      "1      sunny           80   True\n",
      "3      rainy           70  False\n",
      "5      rainy           65   True\n",
      "7      sunny           72  False\n",
      "9      rainy           75  False\n",
      "11  overcast           72   True\n",
      "13     rainy           71   True\n",
      "15     sunny           45   True\n"
     ]
    }
   ],
   "source": [
    "df4 = df.iloc[1::2,[0,1,3]]\n",
    "print(df4)"
   ]
  },
  {
   "cell_type": "code",
   "execution_count": 39,
   "id": "b45fdb65",
   "metadata": {},
   "outputs": [
    {
     "name": "stdout",
     "output_type": "stream",
     "text": [
      "Mean:  temperature    73.4375\n",
      "dtype: float64\n",
      "Standard Deviation:  temperature    11.764176\n",
      "dtype: float64\n",
      "Variance:  temperature    138.395833\n",
      "dtype: float64\n",
      "Lower Quartile:  temperature    68.75\n",
      "Name: 0.25, dtype: float64\n",
      "Median:  temperature    72.0\n",
      "Name: 0.5, dtype: float64\n",
      "Median:  temperature    72.0\n",
      "dtype: float64\n",
      "Upper Quartile:  temperature    80.25\n",
      "Name: 0.75, dtype: float64\n",
      "Skewness:  temperature   -0.13398\n",
      "dtype: float64\n",
      "Kurtosis:  temperature    2.521107\n",
      "dtype: float64\n",
      "Min:  temperature    45\n",
      "dtype: int64\n",
      "Max:  temperature    100\n",
      "dtype: int64\n"
     ]
    }
   ],
   "source": [
    "temperature = df[['temperature']]\n",
    "print(\"Mean: \" , temperature.mean())\n",
    "print(\"Standard Deviation: \", temperature.std())\n",
    "print(\"Variance: \", temperature.var())\n",
    "print(\"Lower Quartile: \" , temperature.quantile(0.25))\n",
    "print(\"Median: \", temperature.quantile(0.5))\n",
    "print(\"Median: \" , temperature.median())\n",
    "print(\"Upper Quartile: \" , temperature.quantile(0.75))\n",
    "print(\"Skewness: \" , temperature.skew())\n",
    "print(\"Kurtosis: \" , temperature.kurt())\n",
    "print(\"Min: \", temperature.min())\n",
    "print(\"Max: \", temperature.max())"
   ]
  },
  {
   "cell_type": "code",
   "execution_count": 40,
   "id": "6ae0825e",
   "metadata": {
    "scrolled": true
   },
   "outputs": [
    {
     "data": {
      "text/plain": [
       "array([[<AxesSubplot:title={'center':'temperature'}>]], dtype=object)"
      ]
     },
     "execution_count": 40,
     "metadata": {},
     "output_type": "execute_result"
    },
    {
     "data": {
      "image/png": "[encoded data removed]",
      "text/plain": [
       "<Figure size 432x288 with 1 Axes>"
      ]
     },
     "metadata": {
      "needs_background": "light"
     },
     "output_type": "display_data"
    }
   ],
   "source": [
    "df.hist(column=['temperature'], bins = 5)"
   ]
  },
  {
   "cell_type": "code",
   "execution_count": 41,
   "id": "7496ab62",
   "metadata": {},
   "outputs": [
    {
     "data": {
      "text/plain": [
       "array([[<AxesSubplot:title={'center':'humidity'}>]], dtype=object)"
      ]
     },
     "execution_count": 41,
     "metadata": {},
     "output_type": "execute_result"
    },
    {
     "data": {
      "image/png": "[encoded data removed]",
      "text/plain": [
       "<Figure size 432x288 with 1 Axes>"
      ]
     },
     "metadata": {
      "needs_background": "light"
     },
     "output_type": "display_data"
    }
   ],
   "source": [
    "df.hist(column='humidity', bins = 5)"
   ]
  },
  {
   "cell_type": "code",
   "execution_count": 42,
   "id": "53729e24",
   "metadata": {},
   "outputs": [
    {
     "name": "stdout",
     "output_type": "stream",
     "text": [
      "Mean:  humidity    80.1875\n",
      "dtype: float64\n",
      "Standard Deviation:  humidity    10.36802\n",
      "dtype: float64\n",
      "Variance:  humidity    107.495833\n",
      "dtype: float64\n",
      "Lower Quartile:  humidity    70.0\n",
      "Name: 0.25, dtype: float64\n",
      "Median:  humidity    80.0\n",
      "Name: 0.5, dtype: float64\n",
      "Median:  humidity    80.0\n",
      "dtype: float64\n",
      "Upper Quartile:  humidity    90.0\n",
      "Name: 0.75, dtype: float64\n",
      "Skewness:  humidity    0.118669\n",
      "dtype: float64\n",
      "Kurtosis:  humidity   -1.533119\n",
      "dtype: float64\n",
      "Min:  humidity    65\n",
      "dtype: int64\n",
      "Max:  humidity    96\n",
      "dtype: int64\n"
     ]
    }
   ],
   "source": [
    "humidity = df[['humidity']]\n",
    "print(\"Mean: \" , humidity.mean())\n",
    "print(\"Standard Deviation: \", humidity.std())\n",
    "print(\"Variance: \", humidity.var())\n",
    "print(\"Lower Quartile: \" , humidity.quantile(0.25))\n",
    "print(\"Median: \", humidity.quantile(0.5))\n",
    "print(\"Median: \" , humidity.median())\n",
    "print(\"Upper Quartile: \" , humidity.quantile(0.75))\n",
    "print(\"Skewness: \" , humidity.skew())\n",
    "print(\"Kurtosis: \" , humidity.kurt())\n",
    "print(\"Min: \", humidity.min())\n",
    "print(\"Max: \", humidity.max())"
   ]
  },
  {
   "cell_type": "code",
   "execution_count": 43,
   "id": "41a9db05",
   "metadata": {},
   "outputs": [
    {
     "name": "stdout",
     "output_type": "stream",
     "text": [
      "[[1, 0], [1, 1], [2, 2], [2, 3], [2, 3], [2, 4], [3, 4], [3, 5], [4, 6], [5, 7]]\n"
     ]
    }
   ],
   "source": [
    "list1 = [[1,0], [1,1], [2,2], [2,3], [2,3], \n",
    "         [2,4], [3,4], [3,5], [4,6], [5,7]]\n",
    "print(list1)"
   ]
  },
  {
   "cell_type": "code",
   "execution_count": 44,
   "id": "dcc3c774",
   "metadata": {},
   "outputs": [
    {
     "name": "stdout",
     "output_type": "stream",
     "text": [
      "   x  y\n",
      "0  1  0\n",
      "1  1  1\n",
      "2  2  2\n",
      "3  2  3\n",
      "4  2  3\n",
      "5  2  4\n",
      "6  3  4\n",
      "7  3  5\n",
      "8  4  6\n",
      "9  5  7\n"
     ]
    }
   ],
   "source": [
    "df_list1 = pd.DataFrame(list1, columns = ['x','y'])\n",
    "print(df_list1)"
   ]
  },
  {
   "cell_type": "code",
   "execution_count": 45,
   "id": "2a6d076c",
   "metadata": {},
   "outputs": [
    {
     "data": {
      "text/plain": [
       "array([[<AxesSubplot:title={'center':'x'}>]], dtype=object)"
      ]
     },
     "execution_count": 45,
     "metadata": {},
     "output_type": "execute_result"
    },
    {
     "data": {
      "image/png": "[encoded data removed]",
      "text/plain": [
       "<Figure size 432x288 with 1 Axes>"
      ]
     },
     "metadata": {
      "needs_background": "light"
     },
     "output_type": "display_data"
    }
   ],
   "source": [
    "df_list1.hist(column = ['x'], bins = 5)"
   ]
  },
  {
   "cell_type": "code",
   "execution_count": 46,
   "id": "bc28e344",
   "metadata": {},
   "outputs": [
    {
     "name": "stdout",
     "output_type": "stream",
     "text": [
      "Skew:  x    0.815005\n",
      "dtype: float64\n"
     ]
    }
   ],
   "source": [
    "print('Skew: ', df_list1[['x']].skew())"
   ]
  },
  {
   "cell_type": "code",
   "execution_count": 47,
   "id": "ba8be4f3",
   "metadata": {},
   "outputs": [
    {
     "data": {
      "text/plain": [
       "array([[<AxesSubplot:title={'center':'y'}>]], dtype=object)"
      ]
     },
     "execution_count": 47,
     "metadata": {},
     "output_type": "execute_result"
    },
    {
     "data": {
      "image/png": "[encoded data removed]",
      "text/plain": [
       "<Figure size 432x288 with 1 Axes>"
      ]
     },
     "metadata": {
      "needs_background": "light"
     },
     "output_type": "display_data"
    }
   ],
   "source": [
    "df_list1.hist(column = ['y'], bins = 8)"
   ]
  },
  {
   "cell_type": "code",
   "execution_count": 48,
   "id": "f93b537f",
   "metadata": {},
   "outputs": [
    {
     "name": "stdout",
     "output_type": "stream",
     "text": [
      "Skew:  y    0.0\n",
      "dtype: float64\n"
     ]
    }
   ],
   "source": [
    "print('Skew: ', df_list1[['y']].skew())"
   ]
  },
  {
   "cell_type": "code",
   "execution_count": 49,
   "id": "5b5de6f6",
   "metadata": {},
   "outputs": [
    {
     "name": "stdout",
     "output_type": "stream",
     "text": [
      "Kurt - X:  x    0.25378\n",
      "dtype: float64\n",
      "Kurt - Y:  y   -0.53564\n",
      "dtype: float64\n"
     ]
    }
   ],
   "source": [
    "print('Kurt - X: ', df_list1[['x']].kurt())\n",
    "print('Kurt - Y: ', df_list1[['y']].kurt())"
   ]
  },
  {
   "cell_type": "code",
   "execution_count": 50,
   "id": "2c832ced",
   "metadata": {},
   "outputs": [
    {
     "data": {
      "text/plain": [
       "<AxesSubplot:xlabel='x', ylabel='y'>"
      ]
     },
     "execution_count": 50,
     "metadata": {},
     "output_type": "execute_result"
    },
    {
     "data": {
      "image/png": "[encoded data removed]",
      "text/plain": [
       "<Figure size 432x288 with 1 Axes>"
      ]
     },
     "metadata": {
      "needs_background": "light"
     },
     "output_type": "display_data"
    }
   ],
   "source": [
    "df_list1.plot.scatter(x = \"x\", y = \"y\")"
   ]
  },
  {
   "cell_type": "code",
   "execution_count": 51,
   "id": "929bf682",
   "metadata": {
    "scrolled": true
   },
   "outputs": [
    {
     "data": {
      "text/plain": [
       "<AxesSubplot:>"
      ]
     },
     "execution_count": 51,
     "metadata": {},
     "output_type": "execute_result"
    },
    {
     "data": {
      "image/png": "[encoded data removed]",
      "text/plain": [
       "<Figure size 432x288 with 1 Axes>"
      ]
     },
     "metadata": {
      "needs_background": "light"
     },
     "output_type": "display_data"
    }
   ],
   "source": [
    "df_list1.boxplot(column = ['x', 'y'])"
   ]
  },
  {
   "cell_type": "code",
   "execution_count": null,
   "id": "58f7040b",
   "metadata": {},
   "outputs": [],
   "source": []
  }
 ],
 "metadata": {
  "kernelspec": {
   "display_name": "Python 3",
   "language": "python",
   "name": "python3"
  },
  "language_info": {
   "codemirror_mode": {
    "name": "ipython",
    "version": 3
   },
   "file_extension": ".py",
   "mimetype": "text/x-python",
   "name": "python",
   "nbconvert_exporter": "python",
   "pygments_lexer": "ipython3",
   "version": "3.8.8"
  }
 },
 "nbformat": 4,
 "nbformat_minor": 5
}
